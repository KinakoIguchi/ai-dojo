{
 "cells": [
  {
   "cell_type": "markdown",
   "metadata": {},
   "source": [
    "### 【総合演習１】賃貸物件情報を加工しよう"
   ]
  },
  {
   "cell_type": "markdown",
   "metadata": {},
   "source": [
    "山手線29駅を最寄り駅に持つ賃貸物件データがあります。  \n",
    "このデータを使って、賃貸物件の「家賃」の傾向を分析したいと思います。  \n",
    "分析するための前準備として、基本的なデータ加工を実施していきましょう。  \n",
    "  \n",
    "【総合演習の取り組み方】  \n",
    "* 最初に【Quiestion1】～【Question8】までを実施しましょう。\n",
    "* 上記問題については、上から順番に実施しましょう。\n",
    "* 途中「★CHALLENGE★」の記載がありますが、まずは飛ばして実施してください。\n",
    "* Question問題が完了したら、後続にCHALLENGE問題があるので、実施しましょう。\n",
    "* 総合演習はテキストを見ながら実施していただいてOKです。"
   ]
  },
  {
   "cell_type": "markdown",
   "metadata": {},
   "source": [
    "【準備】  \n",
    "手元にあるのは2つのデータです。  \n",
    "物件のデータ「room.csv」とその物件の建物のデータ「build.csv」です。  \n",
    "まずはCSVファイルをテキストエディタで開いてどのようなデータなのか見てみましょう。  "
   ]
  },
  {
   "cell_type": "markdown",
   "metadata": {},
   "source": [
    "---\n",
    "#### 【Question1】ライブラリをインポートしよう\n",
    "---"
   ]
  },
  {
   "cell_type": "markdown",
   "metadata": {},
   "source": [
    "pandasのライブラリをインポートしてください。  "
   ]
  },
  {
   "cell_type": "code",
   "execution_count": 1,
   "metadata": {},
   "outputs": [],
   "source": [
    "# ライブラリインポート\n",
    "import pandas as pd"
   ]
  },
  {
   "cell_type": "markdown",
   "metadata": {},
   "source": [
    "---\n",
    "#### 【Question2】ファイルを読み込もう\n",
    "---"
   ]
  },
  {
   "cell_type": "markdown",
   "metadata": {},
   "source": [
    "「build.csv」を読込み、buildという変数に格納してください。  \n",
    "「room.csv」を読込み、roomという変数に格納してください。※room.csvにはヘッダーがない  \n",
    "それぞれ読み込んだ変数の先頭5行を表示させて正しく読み込めているか確認しましょう。  "
   ]
  },
  {
   "cell_type": "code",
   "execution_count": 2,
   "metadata": {},
   "outputs": [
    {
     "name": "stdout",
     "output_type": "stream",
     "text": [
      "       建物ID  住所1  住所2   住所3  築年数   地上階   地下    沿線1   駅名1  駅徒歩1        沿線2  \\\n",
      "0  B0000001  東京都   北区    田端   32   6階建  地下2  ＪＲ山手線   田端駅     6      ＪＲ山手線   \n",
      "1  B0000002  東京都  台東区    上野    6  14階建  NaN  ＪＲ山手線  秋葉原駅     8      ＪＲ山手線   \n",
      "2  B0000003  東京都   北区    田端    7   2階建  NaN  ＪＲ山手線   駒込駅     9      ＪＲ山手線   \n",
      "3  B0000004  東京都   北区    田端   23   5階建  NaN  ＪＲ山手線   田端駅     3  東京メトロ千代田線   \n",
      "4  B0000005  東京都  荒川区  東日暮里   13  15階建  NaN  ＪＲ山手線  日暮里駅     2      ＪＲ山手線   \n",
      "\n",
      "     駅名2  駅徒歩2        沿線3    駅名3  駅徒歩3  \n",
      "0  西日暮里駅  12.0  東京メトロ千代田線   千駄木駅  16.0  \n",
      "1   御徒町駅   5.0  東京メトロ日比谷線  仲御徒町駅   2.0  \n",
      "2    田端駅  10.0      ＪＲ山手線  西日暮里駅  14.0  \n",
      "3  西日暮里駅   6.0      ＪＲ山手線   日暮里駅  17.0  \n",
      "4  西日暮里駅  10.0      ＪＲ山手線    上野駅  25.0  \n"
     ]
    }
   ],
   "source": [
    "# build.csvの読み込みと先頭5行の表示\n",
    "\n",
    "build = pd.read_csv('work\\doc\\\\02_Pythonデータ加工研修\\\\02_総合演習\\data\\\\build.csv')\n",
    "print(build.head())\n",
    "#そのままread_csvすると1行目をheaderとして認識する。ヘッダがない場合はheader=Noneとしておけば良い。\n",
    "#build = pd.read_csv('work\\doc\\\\02_Pythonデータ加工研修\\\\02_総合演習\\data\\\\build.csv', header=None)"
   ]
  },
  {
   "cell_type": "code",
   "execution_count": 38,
   "metadata": {},
   "outputs": [
    {
     "data": {
      "text/html": [
       "<div>\n",
       "<style scoped>\n",
       "    .dataframe tbody tr th:only-of-type {\n",
       "        vertical-align: middle;\n",
       "    }\n",
       "\n",
       "    .dataframe tbody tr th {\n",
       "        vertical-align: top;\n",
       "    }\n",
       "\n",
       "    .dataframe thead th {\n",
       "        text-align: right;\n",
       "    }\n",
       "</style>\n",
       "<table border=\"1\" class=\"dataframe\">\n",
       "  <thead>\n",
       "    <tr style=\"text-align: right;\">\n",
       "      <th></th>\n",
       "      <th>0</th>\n",
       "      <th>1</th>\n",
       "      <th>2</th>\n",
       "      <th>3</th>\n",
       "      <th>4</th>\n",
       "      <th>5</th>\n",
       "      <th>6</th>\n",
       "      <th>7</th>\n",
       "      <th>8</th>\n",
       "    </tr>\n",
       "  </thead>\n",
       "  <tbody>\n",
       "    <tr>\n",
       "      <th>0</th>\n",
       "      <td>R0000001</td>\n",
       "      <td>B0000001</td>\n",
       "      <td>2階</td>\n",
       "      <td>44K</td>\n",
       "      <td>552.58</td>\n",
       "      <td>2484000.0</td>\n",
       "      <td>0</td>\n",
       "      <td>0.0</td>\n",
       "      <td>1.0</td>\n",
       "    </tr>\n",
       "    <tr>\n",
       "      <th>1</th>\n",
       "      <td>R0000002</td>\n",
       "      <td>B0000002</td>\n",
       "      <td>7階</td>\n",
       "      <td>1K</td>\n",
       "      <td>26.10</td>\n",
       "      <td>100000.0</td>\n",
       "      <td>8000</td>\n",
       "      <td>1.0</td>\n",
       "      <td>1.0</td>\n",
       "    </tr>\n",
       "    <tr>\n",
       "      <th>2</th>\n",
       "      <td>R0000003</td>\n",
       "      <td>B0000002</td>\n",
       "      <td>8階</td>\n",
       "      <td>1K</td>\n",
       "      <td>26.10</td>\n",
       "      <td>99500.0</td>\n",
       "      <td>8000</td>\n",
       "      <td>1.0</td>\n",
       "      <td>1.0</td>\n",
       "    </tr>\n",
       "    <tr>\n",
       "      <th>3</th>\n",
       "      <td>R0000004</td>\n",
       "      <td>B0000003</td>\n",
       "      <td>1階</td>\n",
       "      <td>1LDK</td>\n",
       "      <td>40.12</td>\n",
       "      <td>118000.0</td>\n",
       "      <td>5800</td>\n",
       "      <td>0.0</td>\n",
       "      <td>2.0</td>\n",
       "    </tr>\n",
       "    <tr>\n",
       "      <th>4</th>\n",
       "      <td>R0000005</td>\n",
       "      <td>B0000004</td>\n",
       "      <td>3階</td>\n",
       "      <td>3LDK</td>\n",
       "      <td>89.67</td>\n",
       "      <td>235000.0</td>\n",
       "      <td>0</td>\n",
       "      <td>2.0</td>\n",
       "      <td>0.0</td>\n",
       "    </tr>\n",
       "  </tbody>\n",
       "</table>\n",
       "</div>"
      ],
      "text/plain": [
       "          0         1   2     3       4          5     6    7    8\n",
       "0  R0000001  B0000001  2階   44K  552.58  2484000.0     0  0.0  1.0\n",
       "1  R0000002  B0000002  7階    1K   26.10   100000.0  8000  1.0  1.0\n",
       "2  R0000003  B0000002  8階    1K   26.10    99500.0  8000  1.0  1.0\n",
       "3  R0000004  B0000003  1階  1LDK   40.12   118000.0  5800  0.0  2.0\n",
       "4  R0000005  B0000004  3階  3LDK   89.67   235000.0     0  2.0  0.0"
      ]
     },
     "execution_count": 38,
     "metadata": {},
     "output_type": "execute_result"
    }
   ],
   "source": [
    "# room.csvの読み込みと先頭5行の表示 ※room.csvにはヘッダーがない  \n",
    "\n",
    "room = pd.read_csv('work\\doc\\\\02_Pythonデータ加工研修\\\\02_総合演習\\data\\\\room.csv', header=None)\n",
    "room.head()\n",
    "\n",
    "#そのままread_csvすると1行目をheaderとして認識する。ヘッダがない場合はheader=Noneとする。\n"
   ]
  },
  {
   "cell_type": "markdown",
   "metadata": {},
   "source": [
    "---\n",
    "#### 【Question3】roomの列名をつけよう\n",
    "---"
   ]
  },
  {
   "cell_type": "markdown",
   "metadata": {},
   "source": [
    "roomはcsvファイルにヘッダーがなかった為、列名が列番号になっています。  \n",
    "以下の通り、列名をつけましょう。\n",
    "\n",
    "* 列番号0：物件ID\n",
    "* 列番号1：建物ID\n",
    "* 列番号2：物件階\n",
    "* 列番号3：間取り\n",
    "* 列番号4：面積\n",
    "* 列番号5：家賃\n",
    "* 列番号6：管理費\n",
    "* 列番号7：敷金\n",
    "* 列番号8：礼金\n"
   ]
  },
  {
   "cell_type": "markdown",
   "metadata": {},
   "source": [
    "##### __【＋α】データフレームの列名の定義__\n",
    "データフレームの列名は`df.columns`で定義されています。  \n",
    "buildの列名を表示してみると、リスト形式で出力されます。   \n",
    "`df.columns`に列名をリスト形式で代入することで列名を定義できます。  \n",
    "`df.columns = ['列名1', '列名2', …, '列名n']`"
   ]
  },
  {
   "cell_type": "code",
   "execution_count": 4,
   "metadata": {},
   "outputs": [
    {
     "data": {
      "text/plain": [
       "Int64Index([0, 1, 2, 3, 4, 5, 6, 7, 8], dtype='int64')"
      ]
     },
     "execution_count": 4,
     "metadata": {},
     "output_type": "execute_result"
    }
   ],
   "source": [
    "# ●buildのカラム名定義を出力して、リスト形式であることを確認\n",
    "build.columns\n",
    "room.columns"
   ]
  },
  {
   "cell_type": "code",
   "execution_count": 5,
   "metadata": {},
   "outputs": [
    {
     "data": {
      "text/html": [
       "<div>\n",
       "<style scoped>\n",
       "    .dataframe tbody tr th:only-of-type {\n",
       "        vertical-align: middle;\n",
       "    }\n",
       "\n",
       "    .dataframe tbody tr th {\n",
       "        vertical-align: top;\n",
       "    }\n",
       "\n",
       "    .dataframe thead th {\n",
       "        text-align: right;\n",
       "    }\n",
       "</style>\n",
       "<table border=\"1\" class=\"dataframe\">\n",
       "  <thead>\n",
       "    <tr style=\"text-align: right;\">\n",
       "      <th></th>\n",
       "      <th>物件ID</th>\n",
       "      <th>建物ID</th>\n",
       "      <th>物件階</th>\n",
       "      <th>間取り</th>\n",
       "      <th>面積</th>\n",
       "      <th>家賃</th>\n",
       "      <th>管理費</th>\n",
       "      <th>敷金</th>\n",
       "      <th>礼金</th>\n",
       "    </tr>\n",
       "  </thead>\n",
       "  <tbody>\n",
       "    <tr>\n",
       "      <th>0</th>\n",
       "      <td>R0000001</td>\n",
       "      <td>B0000001</td>\n",
       "      <td>2階</td>\n",
       "      <td>44K</td>\n",
       "      <td>552.58</td>\n",
       "      <td>2484000.0</td>\n",
       "      <td>0</td>\n",
       "      <td>0.0</td>\n",
       "      <td>1.0</td>\n",
       "    </tr>\n",
       "    <tr>\n",
       "      <th>1</th>\n",
       "      <td>R0000002</td>\n",
       "      <td>B0000002</td>\n",
       "      <td>7階</td>\n",
       "      <td>1K</td>\n",
       "      <td>26.10</td>\n",
       "      <td>100000.0</td>\n",
       "      <td>8000</td>\n",
       "      <td>1.0</td>\n",
       "      <td>1.0</td>\n",
       "    </tr>\n",
       "    <tr>\n",
       "      <th>2</th>\n",
       "      <td>R0000003</td>\n",
       "      <td>B0000002</td>\n",
       "      <td>8階</td>\n",
       "      <td>1K</td>\n",
       "      <td>26.10</td>\n",
       "      <td>99500.0</td>\n",
       "      <td>8000</td>\n",
       "      <td>1.0</td>\n",
       "      <td>1.0</td>\n",
       "    </tr>\n",
       "    <tr>\n",
       "      <th>3</th>\n",
       "      <td>R0000004</td>\n",
       "      <td>B0000003</td>\n",
       "      <td>1階</td>\n",
       "      <td>1LDK</td>\n",
       "      <td>40.12</td>\n",
       "      <td>118000.0</td>\n",
       "      <td>5800</td>\n",
       "      <td>0.0</td>\n",
       "      <td>2.0</td>\n",
       "    </tr>\n",
       "    <tr>\n",
       "      <th>4</th>\n",
       "      <td>R0000005</td>\n",
       "      <td>B0000004</td>\n",
       "      <td>3階</td>\n",
       "      <td>3LDK</td>\n",
       "      <td>89.67</td>\n",
       "      <td>235000.0</td>\n",
       "      <td>0</td>\n",
       "      <td>2.0</td>\n",
       "      <td>0.0</td>\n",
       "    </tr>\n",
       "  </tbody>\n",
       "</table>\n",
       "</div>"
      ],
      "text/plain": [
       "       物件ID      建物ID 物件階   間取り      面積         家賃   管理費   敷金   礼金\n",
       "0  R0000001  B0000001  2階   44K  552.58  2484000.0     0  0.0  1.0\n",
       "1  R0000002  B0000002  7階    1K   26.10   100000.0  8000  1.0  1.0\n",
       "2  R0000003  B0000002  8階    1K   26.10    99500.0  8000  1.0  1.0\n",
       "3  R0000004  B0000003  1階  1LDK   40.12   118000.0  5800  0.0  2.0\n",
       "4  R0000005  B0000004  3階  3LDK   89.67   235000.0     0  2.0  0.0"
      ]
     },
     "execution_count": 5,
     "metadata": {},
     "output_type": "execute_result"
    }
   ],
   "source": [
    "# roomの列名を付与\n",
    "\n",
    "room = room.rename(columns = {0: '物件ID', 1: '建物ID', 2: '物件階', 3: '間取り', 4: '面積', 5: '家賃', 6: '管理費', 7: '敷金', 8: '礼金'})\n",
    "\n",
    "# 先頭5行を表示して、正しく列名が設定されているのを確認\n",
    "room.head()\n"
   ]
  },
  {
   "cell_type": "markdown",
   "metadata": {},
   "source": [
    "---\n",
    "#### 【Question4】データの概要を把握しよう\n",
    "---"
   ]
  },
  {
   "cell_type": "markdown",
   "metadata": {},
   "source": [
    "読み込んだデータがどのようなデータなのかをざっくり確認していきます。  \n",
    "データのサイズや項目の型を確認しましょう。  \n",
    "要約統計量を出力してどんな値が入ってそうか、その規模感を確認しましょう。  \n",
    "データをスライスして途中のデータも簡単に確認しましょう。  \n",
    "確認した結果、どのような気づきがあったかを整理しましょう。"
   ]
  },
  {
   "cell_type": "code",
   "execution_count": 6,
   "metadata": {},
   "outputs": [
    {
     "data": {
      "text/plain": [
       "(23846, 9)"
      ]
     },
     "execution_count": 6,
     "metadata": {},
     "output_type": "execute_result"
    }
   ],
   "source": [
    "# データのサイズ（行, 列）を確認\n",
    "#build.shape\n",
    "room.shape"
   ]
  },
  {
   "cell_type": "code",
   "execution_count": 7,
   "metadata": {},
   "outputs": [
    {
     "data": {
      "text/plain": [
       "物件ID     object\n",
       "建物ID     object\n",
       "物件階      object\n",
       "間取り      object\n",
       "面積      float64\n",
       "家賃      float64\n",
       "管理費       int64\n",
       "敷金      float64\n",
       "礼金      float64\n",
       "dtype: object"
      ]
     },
     "execution_count": 7,
     "metadata": {},
     "output_type": "execute_result"
    }
   ],
   "source": [
    "# データの項目の型を確認\n",
    "room.dtypes"
   ]
  },
  {
   "cell_type": "code",
   "execution_count": 8,
   "metadata": {},
   "outputs": [
    {
     "data": {
      "text/html": [
       "<div>\n",
       "<style scoped>\n",
       "    .dataframe tbody tr th:only-of-type {\n",
       "        vertical-align: middle;\n",
       "    }\n",
       "\n",
       "    .dataframe tbody tr th {\n",
       "        vertical-align: top;\n",
       "    }\n",
       "\n",
       "    .dataframe thead th {\n",
       "        text-align: right;\n",
       "    }\n",
       "</style>\n",
       "<table border=\"1\" class=\"dataframe\">\n",
       "  <thead>\n",
       "    <tr style=\"text-align: right;\">\n",
       "      <th></th>\n",
       "      <th>築年数</th>\n",
       "      <th>駅徒歩1</th>\n",
       "      <th>駅徒歩2</th>\n",
       "      <th>駅徒歩3</th>\n",
       "    </tr>\n",
       "  </thead>\n",
       "  <tbody>\n",
       "    <tr>\n",
       "      <th>count</th>\n",
       "      <td>13195.000000</td>\n",
       "      <td>13195.000000</td>\n",
       "      <td>13065.000000</td>\n",
       "      <td>12723.000000</td>\n",
       "    </tr>\n",
       "    <tr>\n",
       "      <th>mean</th>\n",
       "      <td>21.755665</td>\n",
       "      <td>6.850095</td>\n",
       "      <td>9.889935</td>\n",
       "      <td>13.022243</td>\n",
       "    </tr>\n",
       "    <tr>\n",
       "      <th>std</th>\n",
       "      <td>14.670543</td>\n",
       "      <td>3.766505</td>\n",
       "      <td>4.587382</td>\n",
       "      <td>5.585684</td>\n",
       "    </tr>\n",
       "    <tr>\n",
       "      <th>min</th>\n",
       "      <td>0.000000</td>\n",
       "      <td>1.000000</td>\n",
       "      <td>1.000000</td>\n",
       "      <td>1.000000</td>\n",
       "    </tr>\n",
       "    <tr>\n",
       "      <th>25%</th>\n",
       "      <td>10.000000</td>\n",
       "      <td>4.000000</td>\n",
       "      <td>7.000000</td>\n",
       "      <td>10.000000</td>\n",
       "    </tr>\n",
       "    <tr>\n",
       "      <th>50%</th>\n",
       "      <td>19.000000</td>\n",
       "      <td>6.000000</td>\n",
       "      <td>10.000000</td>\n",
       "      <td>13.000000</td>\n",
       "    </tr>\n",
       "    <tr>\n",
       "      <th>75%</th>\n",
       "      <td>33.000000</td>\n",
       "      <td>9.000000</td>\n",
       "      <td>12.000000</td>\n",
       "      <td>16.000000</td>\n",
       "    </tr>\n",
       "    <tr>\n",
       "      <th>max</th>\n",
       "      <td>95.000000</td>\n",
       "      <td>45.000000</td>\n",
       "      <td>50.000000</td>\n",
       "      <td>102.000000</td>\n",
       "    </tr>\n",
       "  </tbody>\n",
       "</table>\n",
       "</div>"
      ],
      "text/plain": [
       "                築年数          駅徒歩1          駅徒歩2          駅徒歩3\n",
       "count  13195.000000  13195.000000  13065.000000  12723.000000\n",
       "mean      21.755665      6.850095      9.889935     13.022243\n",
       "std       14.670543      3.766505      4.587382      5.585684\n",
       "min        0.000000      1.000000      1.000000      1.000000\n",
       "25%       10.000000      4.000000      7.000000     10.000000\n",
       "50%       19.000000      6.000000     10.000000     13.000000\n",
       "75%       33.000000      9.000000     12.000000     16.000000\n",
       "max       95.000000     45.000000     50.000000    102.000000"
      ]
     },
     "execution_count": 8,
     "metadata": {},
     "output_type": "execute_result"
    }
   ],
   "source": [
    "# buildの要約統計量を出力（数値も文字も出力する）\n",
    "build.describe() "
   ]
  },
  {
   "cell_type": "code",
   "execution_count": 9,
   "metadata": {},
   "outputs": [
    {
     "data": {
      "text/html": [
       "<div>\n",
       "<style scoped>\n",
       "    .dataframe tbody tr th:only-of-type {\n",
       "        vertical-align: middle;\n",
       "    }\n",
       "\n",
       "    .dataframe tbody tr th {\n",
       "        vertical-align: top;\n",
       "    }\n",
       "\n",
       "    .dataframe thead th {\n",
       "        text-align: right;\n",
       "    }\n",
       "</style>\n",
       "<table border=\"1\" class=\"dataframe\">\n",
       "  <thead>\n",
       "    <tr style=\"text-align: right;\">\n",
       "      <th></th>\n",
       "      <th>面積</th>\n",
       "      <th>家賃</th>\n",
       "      <th>管理費</th>\n",
       "      <th>敷金</th>\n",
       "      <th>礼金</th>\n",
       "    </tr>\n",
       "  </thead>\n",
       "  <tbody>\n",
       "    <tr>\n",
       "      <th>count</th>\n",
       "      <td>23846.000000</td>\n",
       "      <td>2.384200e+04</td>\n",
       "      <td>23846.000000</td>\n",
       "      <td>23846.000000</td>\n",
       "      <td>23846.000000</td>\n",
       "    </tr>\n",
       "    <tr>\n",
       "      <th>mean</th>\n",
       "      <td>33.780598</td>\n",
       "      <td>1.343090e+05</td>\n",
       "      <td>6609.861780</td>\n",
       "      <td>0.908665</td>\n",
       "      <td>0.839891</td>\n",
       "    </tr>\n",
       "    <tr>\n",
       "      <th>std</th>\n",
       "      <td>20.156636</td>\n",
       "      <td>1.037778e+05</td>\n",
       "      <td>5663.377837</td>\n",
       "      <td>0.635366</td>\n",
       "      <td>0.498182</td>\n",
       "    </tr>\n",
       "    <tr>\n",
       "      <th>min</th>\n",
       "      <td>1.650000</td>\n",
       "      <td>2.000000e+04</td>\n",
       "      <td>0.000000</td>\n",
       "      <td>0.000000</td>\n",
       "      <td>0.000000</td>\n",
       "    </tr>\n",
       "    <tr>\n",
       "      <th>25%</th>\n",
       "      <td>22.000000</td>\n",
       "      <td>8.200000e+04</td>\n",
       "      <td>3000.000000</td>\n",
       "      <td>1.000000</td>\n",
       "      <td>1.000000</td>\n",
       "    </tr>\n",
       "    <tr>\n",
       "      <th>50%</th>\n",
       "      <td>26.950000</td>\n",
       "      <td>1.070000e+05</td>\n",
       "      <td>6000.000000</td>\n",
       "      <td>1.000000</td>\n",
       "      <td>1.000000</td>\n",
       "    </tr>\n",
       "    <tr>\n",
       "      <th>75%</th>\n",
       "      <td>40.427500</td>\n",
       "      <td>1.500000e+05</td>\n",
       "      <td>10000.000000</td>\n",
       "      <td>1.000000</td>\n",
       "      <td>1.000000</td>\n",
       "    </tr>\n",
       "    <tr>\n",
       "      <th>max</th>\n",
       "      <td>701.000000</td>\n",
       "      <td>2.650000e+06</td>\n",
       "      <td>150000.000000</td>\n",
       "      <td>41.000000</td>\n",
       "      <td>2.500012</td>\n",
       "    </tr>\n",
       "  </tbody>\n",
       "</table>\n",
       "</div>"
      ],
      "text/plain": [
       "                 面積            家賃            管理費            敷金            礼金\n",
       "count  23846.000000  2.384200e+04   23846.000000  23846.000000  23846.000000\n",
       "mean      33.780598  1.343090e+05    6609.861780      0.908665      0.839891\n",
       "std       20.156636  1.037778e+05    5663.377837      0.635366      0.498182\n",
       "min        1.650000  2.000000e+04       0.000000      0.000000      0.000000\n",
       "25%       22.000000  8.200000e+04    3000.000000      1.000000      1.000000\n",
       "50%       26.950000  1.070000e+05    6000.000000      1.000000      1.000000\n",
       "75%       40.427500  1.500000e+05   10000.000000      1.000000      1.000000\n",
       "max      701.000000  2.650000e+06  150000.000000     41.000000      2.500012"
      ]
     },
     "execution_count": 9,
     "metadata": {},
     "output_type": "execute_result"
    }
   ],
   "source": [
    "# roomの要約統計量を出力（数値も文字も出力する）\n",
    "room.describe() "
   ]
  },
  {
   "cell_type": "markdown",
   "metadata": {},
   "source": [
    "##### __【＋α】データフレームの列・行の最大表示数変更__\n",
    "データフレームは通常だと表示が省略されてしまう為、必要に応じて最大表示数を変更できます。  \n",
    "あまりたくさん表示すると重たくなるので注意が必要です。   \n",
    "\n",
    "`pd.set_option('display.max_columns', 50)` # 最大表示列数の指定（ここでは50列を指定）  \n",
    "`pd.get_option(\"display.max_columns\")` # 現在の最大表示列数の出力  \n",
    "`pd.set_option('display.max_rows', 50)` # 最大表示行数の指定（ここでは50行を指定）  \n",
    "`pd.get_option(\"display.max_rows\")` # 現在の最大表示行数の出力  "
   ]
  },
  {
   "cell_type": "code",
   "execution_count": 10,
   "metadata": {},
   "outputs": [
    {
     "data": {
      "text/plain": [
       "100"
      ]
     },
     "execution_count": 10,
     "metadata": {},
     "output_type": "execute_result"
    }
   ],
   "source": [
    "# 最大表示行数の指定（ここでは100行を指定）   \n",
    "import pandas as pd\n",
    "pd.set_option('display.max_columns', 100)\n",
    "pd.set_option('display.max_rows', 100)\n",
    "\n",
    "# 現在の最大表示行数の出力  \n",
    "pd.get_option(\"display.max_columns\")\n",
    "pd.get_option(\"display.max_rows\")"
   ]
  },
  {
   "cell_type": "code",
   "execution_count": 11,
   "metadata": {},
   "outputs": [
    {
     "name": "stdout",
     "output_type": "stream",
     "text": [
      "        建物ID  住所1  住所2 住所3  築年数  地上階   地下    沿線1   駅名1  駅徒歩1       沿線2    駅名2  \\\n",
      "10  B0000011  東京都   北区  田端    8  2階建  NaN  ＪＲ山手線   田端駅     7  東京メトロ南北線    駒込駅   \n",
      "11  B0000012  東京都   北区  田端    2  5階建  NaN  ＪＲ山手線   駒込駅     8     ＪＲ山手線    田端駅   \n",
      "12  B0000013  東京都   北区  中里   32  5階建  NaN  ＪＲ山手線   駒込駅     3     ＪＲ高崎線    尾久駅   \n",
      "13  B0000014  東京都   北区  中里   32  5階建  NaN  ＪＲ山手線   駒込駅     4     ＪＲ山手線    田端駅   \n",
      "14  B0000015  東京都   北区  田端   34  9階建  NaN  ＪＲ山手線   田端駅     4     ＪＲ山手線  西日暮里駅   \n",
      "15  B0000016  東京都   北区  中里   37  5階建  NaN  ＪＲ山手線   駒込駅     2         -      -   \n",
      "16  B0000017  東京都   北区  中里   13  3階建  NaN  ＪＲ山手線   駒込駅     2     ＪＲ山手線    巣鴨駅   \n",
      "17  B0000018  東京都   北区  中里   13  3階建  NaN  ＪＲ山手線   駒込駅     2  東京メトロ南北線   西ヶ原駅   \n",
      "18  B0000019  東京都  台東区  根岸   32  6階建  NaN  ＪＲ山手線  日暮里駅     6     ＪＲ山手線    鶯谷駅   \n",
      "19  B0000020  東京都   北区  田端    5  5階建  地下1  ＪＲ山手線   田端駅     6     ＪＲ山手線  西日暮里駅   \n",
      "\n",
      "    駅徒歩2       沿線3    駅名3  駅徒歩3  \n",
      "10  12.0   ＪＲ京浜東北線  西日暮里駅  17.0  \n",
      "11  10.0  東京メトロ南北線    駒込駅   8.0  \n",
      "12  22.0   ＪＲ京浜東北線   上中里駅  15.0  \n",
      "13  13.0   ＪＲ京浜東北線   上中里駅  15.0  \n",
      "14  13.0     ＪＲ山手線    駒込駅  15.0  \n",
      "15   NaN         -      -   NaN  \n",
      "16  13.0   ＪＲ京浜東北線    田端駅  15.0  \n",
      "17  17.0     ＪＲ山手線    田端駅  19.0  \n",
      "18   7.0     ＪＲ山手線  西日暮里駅  14.0  \n",
      "19   7.0     ＪＲ山手線   日暮里駅  17.0  \n",
      "        物件ID      建物ID 物件階    間取り     面積        家賃   管理費   敷金   礼金\n",
      "10  R0000011  B0000007  2階  ワンルーム   9.28   57000.0  3000  0.0  0.0\n",
      "11  R0000012  B0000008  1階   1LDK  40.12  118000.0  5800  0.0  2.0\n",
      "12  R0000013  B0000009  1階   1LDK  39.72  121000.0  3000  1.0  1.0\n",
      "13  R0000014  B0000010  3階    2DK  40.21  120000.0     0  1.0  1.0\n",
      "14  R0000015  B0000010  3階    2DK  38.88  115000.0     0  1.0  1.0\n",
      "15  R0000016  B0000011  2階     1K  21.35   80000.0  3000  0.0  1.0\n",
      "16  R0000017  B0000012  5階     1K  29.10  108000.0  7000  1.0  0.0\n",
      "17  R0000018  B0000013  4階    2DK  41.31  120000.0  8000  1.0  1.0\n",
      "18  R0000019  B0000013  4階    2DK  41.31  115000.0  8000  1.0  1.0\n",
      "19  R0000020  B0000013  1階    1DK  29.70   82000.0  8000  1.0  1.0\n"
     ]
    }
   ],
   "source": [
    "# buildやroomをスライスして、任意の途中行を確認しましょう。\n",
    "# 最大表示数を越えていると前後計10行で省略されてしまうので注意。\n",
    "print(build[10:20])\n",
    "print(room[10:20])"
   ]
  },
  {
   "cell_type": "markdown",
   "metadata": {},
   "source": [
    "【ここに気づきを書いてみましょう】  \n",
    "*建物IDが両方のデータに存在する。\n",
    "*一つの建物IDに複数のデータが存在する。\n",
    "*家賃に0が存在する。\n"
   ]
  },
  {
   "cell_type": "markdown",
   "metadata": {},
   "source": [
    "---\n",
    "#### 【Question5】データクレンジングをしよう\n",
    "---"
   ]
  },
  {
   "cell_type": "markdown",
   "metadata": {},
   "source": [
    "##### １）「家賃」が欠損しているデータを削除する\n",
    "要約統計量を確認すると、今回の分析でキーとなるroomの「家賃」が欠損しているデータがありそうです。  \n",
    "データが欠損している場合、値補完をするかレコード削除をするか考える必要があります。  \n",
    "その判断にはその欠損に意味があるかでも対応が異なります。（例えばbuildの「地下」は建物に地下がないと欠損している=意味のある欠損）  \n",
    "roomの「家賃」については、入力不備等の理由で欠損しているみたいなので（本当はちゃんと確認が必要）、レコードを削除する対応にします。"
   ]
  },
  {
   "cell_type": "code",
   "execution_count": 116,
   "metadata": {},
   "outputs": [
    {
     "data": {
      "text/plain": [
       "物件ID    0\n",
       "建物ID    0\n",
       "物件階     0\n",
       "間取り     0\n",
       "面積      0\n",
       "家賃      4\n",
       "管理費     0\n",
       "敷金      0\n",
       "礼金      0\n",
       "dtype: int64"
      ]
     },
     "execution_count": 116,
     "metadata": {},
     "output_type": "execute_result"
    }
   ],
   "source": [
    "# roomについて欠損値の有無（数）を確認\n",
    "\n",
    "room.isnull().sum()"
   ]
  },
  {
   "cell_type": "markdown",
   "metadata": {},
   "source": [
    "##### __【＋α】特定の列が欠損している行を削除する__\n",
    "欠損がある行を削除するには`df.dropna()`を使用します。  \n",
    "特定の列の欠損を指定する場合は、以下のように記述します。  \n",
    "\n",
    "`df.dropna(subset=['A', 'B'])` # 列 A または B に欠損値を含む行を削除する  "
   ]
  },
  {
   "cell_type": "code",
   "execution_count": 117,
   "metadata": {},
   "outputs": [],
   "source": [
    "# 家賃が欠損している行を削除してデータを更新（変数room自体を更新）\n",
    "room = room.dropna()"
   ]
  },
  {
   "cell_type": "code",
   "execution_count": 12,
   "metadata": {},
   "outputs": [
    {
     "data": {
      "text/plain": [
       "(23846, 9)"
      ]
     },
     "execution_count": 12,
     "metadata": {},
     "output_type": "execute_result"
    }
   ],
   "source": [
    "# roomのデータサイズ（行・列）を出力し、欠損が削除されていることを確認\n",
    "room.shape"
   ]
  },
  {
   "cell_type": "markdown",
   "metadata": {},
   "source": [
    "##### __２）「地下」が欠損しているデータを補完する__\n",
    "buildの「地下」も欠損しています。  \n",
    "有識者に確認したところ、賃貸物件に地下が存在していないデータが欠損値となっているそうです。   \n",
    "欠損のまま扱う場合もありますが、今回は欠損値を'地下0'で置換して補完しましょう。  "
   ]
  },
  {
   "cell_type": "code",
   "execution_count": 13,
   "metadata": {},
   "outputs": [
    {
     "data": {
      "text/plain": [
       "建物ID        0\n",
       "住所1         0\n",
       "住所2         0\n",
       "住所3         0\n",
       "築年数         0\n",
       "地上階         0\n",
       "地下      11876\n",
       "沿線1         0\n",
       "駅名1         0\n",
       "駅徒歩1        0\n",
       "沿線2         0\n",
       "駅名2         0\n",
       "駅徒歩2      130\n",
       "沿線3         0\n",
       "駅名3         0\n",
       "駅徒歩3      472\n",
       "dtype: int64"
      ]
     },
     "execution_count": 13,
     "metadata": {},
     "output_type": "execute_result"
    }
   ],
   "source": [
    "# buildについて欠損値の有無（数）を確認\n",
    "build.isnull().sum()"
   ]
  },
  {
   "cell_type": "code",
   "execution_count": 14,
   "metadata": {},
   "outputs": [],
   "source": [
    "# 地下が欠損している場合は、'地下0'に置き換えて、データを更新\n",
    "#build['地下'].fillna('地下0', inplace=True) \n",
    "#build.isnull().sum()"
   ]
  },
  {
   "cell_type": "markdown",
   "metadata": {},
   "source": [
    "##### __★CHALLENGE２★__\n",
    "以下に、CHALLENGE２の処理を追加してください。"
   ]
  },
  {
   "cell_type": "code",
   "execution_count": 15,
   "metadata": {},
   "outputs": [
    {
     "data": {
      "text/plain": [
       "0    11876\n",
       "1     1319\n",
       "Name: 地下, dtype: int64"
      ]
     },
     "execution_count": 15,
     "metadata": {},
     "output_type": "execute_result"
    }
   ],
   "source": [
    "# １．【Question4】の２）で欠損値を補完している処理をコメントアウトする \n",
    "# ２．既に欠損補完処理（'地下0'に置き換え）をしているので、【Question2】build.csvの読込～★CHALLENGE２★までを再実行  \n",
    "# ３．buildの「地下」を欠損していなかったなら1に、欠損なら0の数値に変換する\n",
    "#     　例）'4階' →　'1'　、　NaN →　'0'\n",
    "\n",
    "\n",
    "# buildの「地下」が欠損している場合は0に、それ以外は1に置き換えて、データを更新\n",
    "build.loc[build['地下'].notnull(), '地下'] = 1\n",
    "build['地下'].fillna(0, inplace=True)\n",
    "# buildの「地下」を度数集計して確認\n",
    "build['地下'].value_counts()"
   ]
  },
  {
   "cell_type": "code",
   "execution_count": 16,
   "metadata": {},
   "outputs": [
    {
     "data": {
      "text/html": [
       "<div>\n",
       "<style scoped>\n",
       "    .dataframe tbody tr th:only-of-type {\n",
       "        vertical-align: middle;\n",
       "    }\n",
       "\n",
       "    .dataframe tbody tr th {\n",
       "        vertical-align: top;\n",
       "    }\n",
       "\n",
       "    .dataframe thead th {\n",
       "        text-align: right;\n",
       "    }\n",
       "</style>\n",
       "<table border=\"1\" class=\"dataframe\">\n",
       "  <thead>\n",
       "    <tr style=\"text-align: right;\">\n",
       "      <th></th>\n",
       "      <th>建物ID</th>\n",
       "      <th>住所1</th>\n",
       "      <th>住所2</th>\n",
       "      <th>住所3</th>\n",
       "      <th>築年数</th>\n",
       "      <th>地上階</th>\n",
       "      <th>地下</th>\n",
       "      <th>沿線1</th>\n",
       "      <th>駅名1</th>\n",
       "      <th>駅徒歩1</th>\n",
       "      <th>沿線2</th>\n",
       "      <th>駅名2</th>\n",
       "      <th>駅徒歩2</th>\n",
       "      <th>沿線3</th>\n",
       "      <th>駅名3</th>\n",
       "      <th>駅徒歩3</th>\n",
       "    </tr>\n",
       "  </thead>\n",
       "  <tbody>\n",
       "    <tr>\n",
       "      <th>13190</th>\n",
       "      <td>B0013222</td>\n",
       "      <td>東京都</td>\n",
       "      <td>豊島区</td>\n",
       "      <td>池袋</td>\n",
       "      <td>41</td>\n",
       "      <td>4階建</td>\n",
       "      <td>0</td>\n",
       "      <td>ＪＲ山手線</td>\n",
       "      <td>池袋駅</td>\n",
       "      <td>13</td>\n",
       "      <td>東武東上線</td>\n",
       "      <td>北池袋駅</td>\n",
       "      <td>12.0</td>\n",
       "      <td>東武東上線</td>\n",
       "      <td>下板橋駅</td>\n",
       "      <td>16.0</td>\n",
       "    </tr>\n",
       "    <tr>\n",
       "      <th>13191</th>\n",
       "      <td>B0013223</td>\n",
       "      <td>東京都</td>\n",
       "      <td>豊島区</td>\n",
       "      <td>池袋本町</td>\n",
       "      <td>28</td>\n",
       "      <td>4階建</td>\n",
       "      <td>1</td>\n",
       "      <td>ＪＲ山手線</td>\n",
       "      <td>池袋駅</td>\n",
       "      <td>17</td>\n",
       "      <td>東武東上線</td>\n",
       "      <td>北池袋駅</td>\n",
       "      <td>4.0</td>\n",
       "      <td>ＪＲ埼京線</td>\n",
       "      <td>板橋駅</td>\n",
       "      <td>13.0</td>\n",
       "    </tr>\n",
       "    <tr>\n",
       "      <th>13192</th>\n",
       "      <td>B0013224</td>\n",
       "      <td>東京都</td>\n",
       "      <td>豊島区</td>\n",
       "      <td>上池袋</td>\n",
       "      <td>12</td>\n",
       "      <td>2階建</td>\n",
       "      <td>0</td>\n",
       "      <td>ＪＲ山手線</td>\n",
       "      <td>池袋駅</td>\n",
       "      <td>21</td>\n",
       "      <td>ＪＲ埼京線</td>\n",
       "      <td>板橋駅</td>\n",
       "      <td>9.0</td>\n",
       "      <td>東武東上線</td>\n",
       "      <td>下板橋駅</td>\n",
       "      <td>14.0</td>\n",
       "    </tr>\n",
       "    <tr>\n",
       "      <th>13193</th>\n",
       "      <td>B0013225</td>\n",
       "      <td>東京都</td>\n",
       "      <td>豊島区</td>\n",
       "      <td>池袋</td>\n",
       "      <td>55</td>\n",
       "      <td>2階建</td>\n",
       "      <td>0</td>\n",
       "      <td>ＪＲ山手線</td>\n",
       "      <td>池袋駅</td>\n",
       "      <td>10</td>\n",
       "      <td>東武東上線</td>\n",
       "      <td>北池袋駅</td>\n",
       "      <td>11.0</td>\n",
       "      <td>東武東上線</td>\n",
       "      <td>下板橋駅</td>\n",
       "      <td>16.0</td>\n",
       "    </tr>\n",
       "    <tr>\n",
       "      <th>13194</th>\n",
       "      <td>B0013226</td>\n",
       "      <td>東京都</td>\n",
       "      <td>豊島区</td>\n",
       "      <td>池袋本町</td>\n",
       "      <td>27</td>\n",
       "      <td>3階建</td>\n",
       "      <td>0</td>\n",
       "      <td>ＪＲ山手線</td>\n",
       "      <td>池袋駅</td>\n",
       "      <td>18</td>\n",
       "      <td>東武東上線</td>\n",
       "      <td>下板橋駅</td>\n",
       "      <td>10.0</td>\n",
       "      <td>東武東上線</td>\n",
       "      <td>北池袋駅</td>\n",
       "      <td>11.0</td>\n",
       "    </tr>\n",
       "  </tbody>\n",
       "</table>\n",
       "</div>"
      ],
      "text/plain": [
       "           建物ID  住所1  住所2   住所3  築年数  地上階  地下    沿線1  駅名1  駅徒歩1    沿線2   駅名2  \\\n",
       "13190  B0013222  東京都  豊島区    池袋   41  4階建   0  ＪＲ山手線  池袋駅    13  東武東上線  北池袋駅   \n",
       "13191  B0013223  東京都  豊島区  池袋本町   28  4階建   1  ＪＲ山手線  池袋駅    17  東武東上線  北池袋駅   \n",
       "13192  B0013224  東京都  豊島区   上池袋   12  2階建   0  ＪＲ山手線  池袋駅    21  ＪＲ埼京線   板橋駅   \n",
       "13193  B0013225  東京都  豊島区    池袋   55  2階建   0  ＪＲ山手線  池袋駅    10  東武東上線  北池袋駅   \n",
       "13194  B0013226  東京都  豊島区  池袋本町   27  3階建   0  ＪＲ山手線  池袋駅    18  東武東上線  下板橋駅   \n",
       "\n",
       "       駅徒歩2    沿線3   駅名3  駅徒歩3  \n",
       "13190  12.0  東武東上線  下板橋駅  16.0  \n",
       "13191   4.0  ＪＲ埼京線   板橋駅  13.0  \n",
       "13192   9.0  東武東上線  下板橋駅  14.0  \n",
       "13193  11.0  東武東上線  下板橋駅  16.0  \n",
       "13194  10.0  東武東上線  北池袋駅  11.0  "
      ]
     },
     "execution_count": 16,
     "metadata": {},
     "output_type": "execute_result"
    }
   ],
   "source": [
    "# buildの末尾5行を表示して、欠損が保管されているか確認\n",
    "build.tail()"
   ]
  },
  {
   "cell_type": "code",
   "execution_count": 17,
   "metadata": {},
   "outputs": [
    {
     "data": {
      "text/plain": [
       "0"
      ]
     },
     "execution_count": 17,
     "metadata": {},
     "output_type": "execute_result"
    }
   ],
   "source": [
    "# buildの「地下」について欠損値の有無（数）を確認\n",
    "build['地下'].isnull().sum()"
   ]
  },
  {
   "cell_type": "markdown",
   "metadata": {},
   "source": [
    "##### __３）「間取り」の表記を合わせる__\n",
    "間取りを確認すると表記ゆれがあります。'ワンルーム'と'1R'はどちらも同じ間取りですが、どちらの表記も出現しています。  \n",
    "このままだと別々で扱われてしまうので、どちらかの表記にあわせたほうが良いでしょう。  \n",
    "今回は他の表記と表側をとって'1R'に統一していきましょう。"
   ]
  },
  {
   "cell_type": "code",
   "execution_count": 18,
   "metadata": {},
   "outputs": [
    {
     "data": {
      "text/plain": [
       "間取り    間取り  \n",
       "1DK    1DK      1684\n",
       "1K     1K       9604\n",
       "1LDK   1LDK     3907\n",
       "1R     1R        200\n",
       "1SDK   1SDK       18\n",
       "1SK    1SK        46\n",
       "1SLDK  1SLDK     176\n",
       "2DK    2DK       809\n",
       "2K     2K        472\n",
       "2LDK   2LDK     1788\n",
       "2SLDK  2SLDK     106\n",
       "3DK    3DK       122\n",
       "3K     3K         17\n",
       "3LDK   3LDK      492\n",
       "3SLDK  3SLDK      33\n",
       "44K    44K         1\n",
       "4LDK   4LDK       60\n",
       "ワンルーム  ワンルーム    4311\n",
       "Name: 間取り, dtype: int64"
      ]
     },
     "execution_count": 18,
     "metadata": {},
     "output_type": "execute_result"
    }
   ],
   "source": [
    "# roomの「間取り」を度数集計する\n",
    "room.groupby(by='間取り')['間取り'].value_counts() "
   ]
  },
  {
   "cell_type": "code",
   "execution_count": 19,
   "metadata": {},
   "outputs": [],
   "source": [
    "# roomの「間取り」が'ワンルーム'という条件のデータを'1R'に変換する\n",
    "room = room.replace('ワンルーム','1R')"
   ]
  },
  {
   "cell_type": "code",
   "execution_count": 20,
   "metadata": {},
   "outputs": [
    {
     "data": {
      "text/plain": [
       "間取り    間取り  \n",
       "1DK    1DK      1684\n",
       "1K     1K       9604\n",
       "1LDK   1LDK     3907\n",
       "1R     1R       4511\n",
       "1SDK   1SDK       18\n",
       "1SK    1SK        46\n",
       "1SLDK  1SLDK     176\n",
       "2DK    2DK       809\n",
       "2K     2K        472\n",
       "2LDK   2LDK     1788\n",
       "2SLDK  2SLDK     106\n",
       "3DK    3DK       122\n",
       "3K     3K         17\n",
       "3LDK   3LDK      492\n",
       "3SLDK  3SLDK      33\n",
       "44K    44K         1\n",
       "4LDK   4LDK       60\n",
       "Name: 間取り, dtype: int64"
      ]
     },
     "execution_count": 20,
     "metadata": {},
     "output_type": "execute_result"
    }
   ],
   "source": [
    "# roomの「間取り」を度数集計して、表記ゆれが解消されているのを確認\n",
    "room.groupby(by='間取り')['間取り'].value_counts() "
   ]
  },
  {
   "cell_type": "markdown",
   "metadata": {},
   "source": [
    "##### __★CHALLENGE１★__\n",
    "以下に、CHALLENGE１の処理を追加してください。"
   ]
  },
  {
   "cell_type": "code",
   "execution_count": 21,
   "metadata": {},
   "outputs": [],
   "source": [
    "#１．buildの「地上階」を数値に変換する  \n",
    "#     　例）'3階建' →　3\n",
    "#build.groupby(by='地上階')['地上階'].value_counts() \n",
    "build = build.replace('(.*)階建', r'\\1', regex=True)\n",
    "#２．roomの「物件階」を数値に変換する\n",
    "#     　例）'4階' →　4\n",
    "#room.groupby(by='物件階')['物件階'].value_counts() \n",
    "room = room.replace('(.*)階', r'\\1', regex=True)"
   ]
  },
  {
   "cell_type": "markdown",
   "metadata": {},
   "source": [
    "##### __★CHALLENGE３★__\n",
    "以下に、CHALLENGE３の処理を追加してください。"
   ]
  },
  {
   "cell_type": "code",
   "execution_count": 22,
   "metadata": {},
   "outputs": [
    {
     "name": "stdout",
     "output_type": "stream",
     "text": [
      "       建物ID  住所1  住所2   住所3  築年数 地上階  地下    沿線1   駅名1  駅徒歩1        沿線2    駅名2  \\\n",
      "0  B0000001  東京都   北区    田端   32   6   1  ＪＲ山手線   田端駅     6      ＪＲ山手線  西日暮里駅   \n",
      "1  B0000002  東京都  台東区    上野    6  14   0  ＪＲ山手線  秋葉原駅     8      ＪＲ山手線   御徒町駅   \n",
      "2  B0000003  東京都   北区    田端    7   2   0  ＪＲ山手線   駒込駅     9      ＪＲ山手線    田端駅   \n",
      "3  B0000004  東京都   北区    田端   23   5   0  ＪＲ山手線   田端駅     3  東京メトロ千代田線  西日暮里駅   \n",
      "4  B0000005  東京都  荒川区  東日暮里   13  15   0  ＪＲ山手線  日暮里駅     2      ＪＲ山手線  西日暮里駅   \n",
      "\n",
      "   駅徒歩2        沿線3    駅名3  駅徒歩3  \n",
      "0  12.0  東京メトロ千代田線   千駄木駅  16.0  \n",
      "1   5.0  東京メトロ日比谷線  仲御徒町駅   2.0  \n",
      "2  10.0      ＪＲ山手線  西日暮里駅  14.0  \n",
      "3   6.0      ＪＲ山手線   日暮里駅  17.0  \n",
      "4  10.0      ＪＲ山手線    上野駅  25.0  \n"
     ]
    }
   ],
   "source": [
    "print(build.head())\n",
    "\n",
    "#buildにある「沿線1」、「沿線2」、「沿線3」について、山手線の駅であっても他の沿線で表記されているものもある。\n",
    "#今回は山手線の駅であれば、沿線を'ＪＲ山手線'としたい。 \n",
    "\n",
    "#    １．「★CHALLENGE２★」から「★CHALLENGE３★」の直前までの処理を実行する\n",
    "#    ２．「駅名1」が山手線駅で、かつ「沿線1」が'ＪＲ山手線'でない場合、'ＪＲ山手線'に変更\n",
    "#     　　「沿線2」、「沿線３」についても同様の処理を実施  \n",
    "#       　※処理上は　「沿線1」が'ＪＲ山手線'でも、それ以外でも一律で置換すればよいが、 \n",
    "#        　　今回は、学習を目的として＆条件を使って実施する  \n",
    "\n",
    "#山手線の駅かどうかは下記を利用\n",
    "yamanote = ['大崎駅', '五反田駅', '目黒駅', '恵比寿駅', '渋谷駅', '原宿駅', '代々木駅', \n",
    "            '新宿駅', '新大久保駅', '高田馬場駅', '目白駅', '池袋駅', '大塚駅', '巣鴨駅', \n",
    "            '駒込駅', '田端駅', '西日暮里駅', '日暮里駅', '鶯谷駅', '上野駅', '御徒町駅', '秋葉原駅', \n",
    "            '神田駅', '東京駅', '有楽町駅', '新橋駅', '浜松町駅', '田町駅', '品川駅']\n",
    "\n",
    "build.loc[(build['駅名1'].isin(yamanote)) & (build['沿線1'] != 'ＪＲ山手線'), '沿線1'] = 'ＪＲ山手線'\n",
    "build.loc[(build['駅名2'].isin(yamanote)) & (build['沿線2'] != 'ＪＲ山手線'), '沿線2'] = 'ＪＲ山手線'\n",
    "build.loc[(build['駅名3'].isin(yamanote)) & (build['沿線3'] != 'ＪＲ山手線'), '沿線3'] = 'ＪＲ山手線'"
   ]
  },
  {
   "cell_type": "markdown",
   "metadata": {},
   "source": [
    "---\n",
    "#### 【Question6】データから新規項目を作成しよう\n",
    "---"
   ]
  },
  {
   "cell_type": "markdown",
   "metadata": {},
   "source": [
    "##### __１）1㎡あたりの家賃を表す項目を作成する__\n",
    "賃貸物件は狭い物件も広い物件もある。しかし立地によって地価は異なる為、1㎡あたりの家賃に傾向があるかもしれないという仮説を立てました。  \n",
    "（もちろん間取り等の様々な影響も十分にあると考えられるけど・・・）  \n",
    "仮説の検証の為に、1㎡あたりの家賃を計算して新規項目を作成しましょう。"
   ]
  },
  {
   "cell_type": "code",
   "execution_count": 23,
   "metadata": {},
   "outputs": [
    {
     "data": {
      "text/html": [
       "<div>\n",
       "<style scoped>\n",
       "    .dataframe tbody tr th:only-of-type {\n",
       "        vertical-align: middle;\n",
       "    }\n",
       "\n",
       "    .dataframe tbody tr th {\n",
       "        vertical-align: top;\n",
       "    }\n",
       "\n",
       "    .dataframe thead th {\n",
       "        text-align: right;\n",
       "    }\n",
       "</style>\n",
       "<table border=\"1\" class=\"dataframe\">\n",
       "  <thead>\n",
       "    <tr style=\"text-align: right;\">\n",
       "      <th></th>\n",
       "      <th>物件ID</th>\n",
       "      <th>建物ID</th>\n",
       "      <th>物件階</th>\n",
       "      <th>間取り</th>\n",
       "      <th>面積</th>\n",
       "      <th>家賃</th>\n",
       "      <th>管理費</th>\n",
       "      <th>敷金</th>\n",
       "      <th>礼金</th>\n",
       "      <th>平米単価</th>\n",
       "    </tr>\n",
       "  </thead>\n",
       "  <tbody>\n",
       "    <tr>\n",
       "      <th>0</th>\n",
       "      <td>R0000001</td>\n",
       "      <td>B0000001</td>\n",
       "      <td>2</td>\n",
       "      <td>44K</td>\n",
       "      <td>552.58</td>\n",
       "      <td>2484000.0</td>\n",
       "      <td>0</td>\n",
       "      <td>0.0</td>\n",
       "      <td>1.0</td>\n",
       "      <td>4495.276702</td>\n",
       "    </tr>\n",
       "    <tr>\n",
       "      <th>1</th>\n",
       "      <td>R0000002</td>\n",
       "      <td>B0000002</td>\n",
       "      <td>7</td>\n",
       "      <td>1K</td>\n",
       "      <td>26.10</td>\n",
       "      <td>100000.0</td>\n",
       "      <td>8000</td>\n",
       "      <td>1.0</td>\n",
       "      <td>1.0</td>\n",
       "      <td>3831.417625</td>\n",
       "    </tr>\n",
       "    <tr>\n",
       "      <th>2</th>\n",
       "      <td>R0000003</td>\n",
       "      <td>B0000002</td>\n",
       "      <td>8</td>\n",
       "      <td>1K</td>\n",
       "      <td>26.10</td>\n",
       "      <td>99500.0</td>\n",
       "      <td>8000</td>\n",
       "      <td>1.0</td>\n",
       "      <td>1.0</td>\n",
       "      <td>3812.260536</td>\n",
       "    </tr>\n",
       "    <tr>\n",
       "      <th>3</th>\n",
       "      <td>R0000004</td>\n",
       "      <td>B0000003</td>\n",
       "      <td>1</td>\n",
       "      <td>1LDK</td>\n",
       "      <td>40.12</td>\n",
       "      <td>118000.0</td>\n",
       "      <td>5800</td>\n",
       "      <td>0.0</td>\n",
       "      <td>2.0</td>\n",
       "      <td>2941.176471</td>\n",
       "    </tr>\n",
       "    <tr>\n",
       "      <th>4</th>\n",
       "      <td>R0000005</td>\n",
       "      <td>B0000004</td>\n",
       "      <td>3</td>\n",
       "      <td>3LDK</td>\n",
       "      <td>89.67</td>\n",
       "      <td>235000.0</td>\n",
       "      <td>0</td>\n",
       "      <td>2.0</td>\n",
       "      <td>0.0</td>\n",
       "      <td>2620.720419</td>\n",
       "    </tr>\n",
       "  </tbody>\n",
       "</table>\n",
       "</div>"
      ],
      "text/plain": [
       "       物件ID      建物ID 物件階   間取り      面積         家賃   管理費   敷金   礼金  \\\n",
       "0  R0000001  B0000001   2   44K  552.58  2484000.0     0  0.0  1.0   \n",
       "1  R0000002  B0000002   7    1K   26.10   100000.0  8000  1.0  1.0   \n",
       "2  R0000003  B0000002   8    1K   26.10    99500.0  8000  1.0  1.0   \n",
       "3  R0000004  B0000003   1  1LDK   40.12   118000.0  5800  0.0  2.0   \n",
       "4  R0000005  B0000004   3  3LDK   89.67   235000.0     0  2.0  0.0   \n",
       "\n",
       "          平米単価  \n",
       "0  4495.276702  \n",
       "1  3831.417625  \n",
       "2  3812.260536  \n",
       "3  2941.176471  \n",
       "4  2620.720419  "
      ]
     },
     "execution_count": 23,
     "metadata": {},
     "output_type": "execute_result"
    }
   ],
   "source": [
    "# roomのデータフレームに対して、1㎡あたりの家賃を計算し'平米単価'という名前の列を追加\n",
    "room['平米単価'] = room['家賃'] / room['面積']\n",
    "\n",
    "# 先頭5行を表示して、新規項目が追加されたことを確認する\n",
    "room.head()"
   ]
  },
  {
   "cell_type": "markdown",
   "metadata": {},
   "source": [
    "##### __２）最も近い駅まで何分かかるかを表す項目を作成する__"
   ]
  },
  {
   "cell_type": "code",
   "execution_count": 24,
   "metadata": {
    "scrolled": true
   },
   "outputs": [
    {
     "data": {
      "text/html": [
       "<div>\n",
       "<style scoped>\n",
       "    .dataframe tbody tr th:only-of-type {\n",
       "        vertical-align: middle;\n",
       "    }\n",
       "\n",
       "    .dataframe tbody tr th {\n",
       "        vertical-align: top;\n",
       "    }\n",
       "\n",
       "    .dataframe thead th {\n",
       "        text-align: right;\n",
       "    }\n",
       "</style>\n",
       "<table border=\"1\" class=\"dataframe\">\n",
       "  <thead>\n",
       "    <tr style=\"text-align: right;\">\n",
       "      <th></th>\n",
       "      <th>建物ID</th>\n",
       "      <th>住所1</th>\n",
       "      <th>住所2</th>\n",
       "      <th>住所3</th>\n",
       "      <th>築年数</th>\n",
       "      <th>地上階</th>\n",
       "      <th>地下</th>\n",
       "      <th>沿線1</th>\n",
       "      <th>駅名1</th>\n",
       "      <th>駅徒歩1</th>\n",
       "      <th>沿線2</th>\n",
       "      <th>駅名2</th>\n",
       "      <th>駅徒歩2</th>\n",
       "      <th>沿線3</th>\n",
       "      <th>駅名3</th>\n",
       "      <th>駅徒歩3</th>\n",
       "      <th>駅徒歩最短</th>\n",
       "    </tr>\n",
       "  </thead>\n",
       "  <tbody>\n",
       "    <tr>\n",
       "      <th>0</th>\n",
       "      <td>B0000001</td>\n",
       "      <td>東京都</td>\n",
       "      <td>北区</td>\n",
       "      <td>田端</td>\n",
       "      <td>32</td>\n",
       "      <td>6</td>\n",
       "      <td>1</td>\n",
       "      <td>ＪＲ山手線</td>\n",
       "      <td>田端駅</td>\n",
       "      <td>6</td>\n",
       "      <td>ＪＲ山手線</td>\n",
       "      <td>西日暮里駅</td>\n",
       "      <td>12.0</td>\n",
       "      <td>東京メトロ千代田線</td>\n",
       "      <td>千駄木駅</td>\n",
       "      <td>16.0</td>\n",
       "      <td>6.0</td>\n",
       "    </tr>\n",
       "    <tr>\n",
       "      <th>1</th>\n",
       "      <td>B0000002</td>\n",
       "      <td>東京都</td>\n",
       "      <td>台東区</td>\n",
       "      <td>上野</td>\n",
       "      <td>6</td>\n",
       "      <td>14</td>\n",
       "      <td>0</td>\n",
       "      <td>ＪＲ山手線</td>\n",
       "      <td>秋葉原駅</td>\n",
       "      <td>8</td>\n",
       "      <td>ＪＲ山手線</td>\n",
       "      <td>御徒町駅</td>\n",
       "      <td>5.0</td>\n",
       "      <td>東京メトロ日比谷線</td>\n",
       "      <td>仲御徒町駅</td>\n",
       "      <td>2.0</td>\n",
       "      <td>2.0</td>\n",
       "    </tr>\n",
       "    <tr>\n",
       "      <th>2</th>\n",
       "      <td>B0000003</td>\n",
       "      <td>東京都</td>\n",
       "      <td>北区</td>\n",
       "      <td>田端</td>\n",
       "      <td>7</td>\n",
       "      <td>2</td>\n",
       "      <td>0</td>\n",
       "      <td>ＪＲ山手線</td>\n",
       "      <td>駒込駅</td>\n",
       "      <td>9</td>\n",
       "      <td>ＪＲ山手線</td>\n",
       "      <td>田端駅</td>\n",
       "      <td>10.0</td>\n",
       "      <td>ＪＲ山手線</td>\n",
       "      <td>西日暮里駅</td>\n",
       "      <td>14.0</td>\n",
       "      <td>9.0</td>\n",
       "    </tr>\n",
       "    <tr>\n",
       "      <th>3</th>\n",
       "      <td>B0000004</td>\n",
       "      <td>東京都</td>\n",
       "      <td>北区</td>\n",
       "      <td>田端</td>\n",
       "      <td>23</td>\n",
       "      <td>5</td>\n",
       "      <td>0</td>\n",
       "      <td>ＪＲ山手線</td>\n",
       "      <td>田端駅</td>\n",
       "      <td>3</td>\n",
       "      <td>ＪＲ山手線</td>\n",
       "      <td>西日暮里駅</td>\n",
       "      <td>6.0</td>\n",
       "      <td>ＪＲ山手線</td>\n",
       "      <td>日暮里駅</td>\n",
       "      <td>17.0</td>\n",
       "      <td>3.0</td>\n",
       "    </tr>\n",
       "    <tr>\n",
       "      <th>4</th>\n",
       "      <td>B0000005</td>\n",
       "      <td>東京都</td>\n",
       "      <td>荒川区</td>\n",
       "      <td>東日暮里</td>\n",
       "      <td>13</td>\n",
       "      <td>15</td>\n",
       "      <td>0</td>\n",
       "      <td>ＪＲ山手線</td>\n",
       "      <td>日暮里駅</td>\n",
       "      <td>2</td>\n",
       "      <td>ＪＲ山手線</td>\n",
       "      <td>西日暮里駅</td>\n",
       "      <td>10.0</td>\n",
       "      <td>ＪＲ山手線</td>\n",
       "      <td>上野駅</td>\n",
       "      <td>25.0</td>\n",
       "      <td>2.0</td>\n",
       "    </tr>\n",
       "  </tbody>\n",
       "</table>\n",
       "</div>"
      ],
      "text/plain": [
       "       建物ID  住所1  住所2   住所3  築年数 地上階  地下    沿線1   駅名1  駅徒歩1    沿線2    駅名2  \\\n",
       "0  B0000001  東京都   北区    田端   32   6   1  ＪＲ山手線   田端駅     6  ＪＲ山手線  西日暮里駅   \n",
       "1  B0000002  東京都  台東区    上野    6  14   0  ＪＲ山手線  秋葉原駅     8  ＪＲ山手線   御徒町駅   \n",
       "2  B0000003  東京都   北区    田端    7   2   0  ＪＲ山手線   駒込駅     9  ＪＲ山手線    田端駅   \n",
       "3  B0000004  東京都   北区    田端   23   5   0  ＪＲ山手線   田端駅     3  ＪＲ山手線  西日暮里駅   \n",
       "4  B0000005  東京都  荒川区  東日暮里   13  15   0  ＪＲ山手線  日暮里駅     2  ＪＲ山手線  西日暮里駅   \n",
       "\n",
       "   駅徒歩2        沿線3    駅名3  駅徒歩3  駅徒歩最短  \n",
       "0  12.0  東京メトロ千代田線   千駄木駅  16.0    6.0  \n",
       "1   5.0  東京メトロ日比谷線  仲御徒町駅   2.0    2.0  \n",
       "2  10.0      ＪＲ山手線  西日暮里駅  14.0    9.0  \n",
       "3   6.0      ＪＲ山手線   日暮里駅  17.0    3.0  \n",
       "4  10.0      ＪＲ山手線    上野駅  25.0    2.0  "
      ]
     },
     "execution_count": 24,
     "metadata": {},
     "output_type": "execute_result"
    }
   ],
   "source": [
    "# buildの3駅の徒歩時間で最も短い時間を'駅徒歩最短'という名前の列で追加\n",
    "build['駅徒歩最短'] = build[['駅徒歩1','駅徒歩2','駅徒歩3']].min(axis=1)\n",
    "\n",
    "# 先頭5行を表示して、新規項目が追加されたことを確認する\n",
    "build.head()"
   ]
  },
  {
   "cell_type": "markdown",
   "metadata": {},
   "source": [
    "##### __★CHALLENGE４★__\n",
    "以下に、CHALLENGE４の処理を追加してください。"
   ]
  },
  {
   "cell_type": "code",
   "execution_count": 25,
   "metadata": {},
   "outputs": [],
   "source": [
    "#１．「★CHALLENGE３★」から「★CHALLENGE４★」の直前までの処理を実行する\n",
    "#２．物件の最寄り駅の中で山手線駅で最も近い駅と徒歩距離を判定し新規項目として追加する。\n",
    "#    　　最も近い山手線駅は「山手線駅」という変数で追加\n",
    "#        その最も近い山手線駅の徒歩距離を「山手線駅徒歩」という変数で追加\n",
    "#        ※最も近い山手線駅が2つ抽出されたら、割り切りで駅名1>駅名2>駅名3の順で優先させる\n",
    "\n",
    "\n",
    "import sys\n",
    "import numpy as np\n",
    "\n",
    "build_tmp = build.copy()\n",
    "\n",
    "build_tmp['山手線最寄り駅'] = np.NAN\n",
    "build_tmp['山徒歩'] = np.NAN\n",
    "\n",
    "# 沿線1が山手線であれば初期値セット\n",
    "build_tmp.loc[build_tmp['沿線1'] == 'ＪＲ山手線', '山手線最寄り駅'] = build_tmp['駅名1']\n",
    "build_tmp.loc[build_tmp['沿線1'] == 'ＪＲ山手線', '山徒歩'] = build_tmp['駅徒歩1']\n",
    "\n",
    "# 山徒歩が初期値、または沿線2が山徒歩にセットされている駅徒歩より小さければ更新\n",
    "build_tmp.loc[(build_tmp['沿線2'] == 'ＪＲ山手線') & (build_tmp['山徒歩'].isna() ==True ), '山手線最寄り駅'] = build_tmp['駅名2']\n",
    "build_tmp.loc[(build_tmp['沿線2'] == 'ＪＲ山手線') & (build_tmp['山徒歩'].isna() ==True ), '山徒歩'] = build_tmp['駅徒歩2']\n",
    "build_tmp.loc[(build_tmp['沿線2'] == 'ＪＲ山手線') & (build_tmp['山徒歩'] > build_tmp['駅徒歩2'] ) , '山手線最寄り駅'] = build_tmp['駅名2']\n",
    "build_tmp.loc[(build_tmp['沿線2'] == 'ＪＲ山手線') & (build_tmp['山徒歩'] > build_tmp['駅徒歩2'] ) , '山徒歩'] = build_tmp['駅徒歩2']\n",
    "\n",
    "# 山徒歩が初期値、または沿線3が山徒歩にセットされている駅徒歩より小さければ更新\n",
    "build_tmp.loc[(build_tmp['沿線3'] == 'ＪＲ山手線') & (build_tmp['山徒歩'].isna() ==True ), '山手線最寄り駅'] = build_tmp['駅名3']\n",
    "build_tmp.loc[(build_tmp['沿線3'] == 'ＪＲ山手線') & (build_tmp['山徒歩'].isna() ==True ), '山徒歩'] = build_tmp['駅徒歩3']\n",
    "build_tmp.loc[(build_tmp['沿線3'] == 'ＪＲ山手線') & (build_tmp['山徒歩'] > build_tmp['駅徒歩3'] ) , '山手線最寄り駅'] = build_tmp['駅名3']\n",
    "build_tmp.loc[(build_tmp['沿線3'] == 'ＪＲ山手線') & (build_tmp['山徒歩'] > build_tmp['駅徒歩3'] ) , '山徒歩'] = build_tmp['駅徒歩3']"
   ]
  },
  {
   "cell_type": "code",
   "execution_count": 26,
   "metadata": {},
   "outputs": [
    {
     "name": "stdout",
     "output_type": "stream",
     "text": [
      "Wall time: 28.1 s\n"
     ]
    }
   ],
   "source": [
    "%%time\n",
    "import sys\n",
    "import numpy as np\n",
    "def yamanote_moyori(row):\n",
    "    moyori_list = [row[['沿線1','駅名1','駅徒歩1']], row[['沿線2','駅名2','駅徒歩2']], row[['沿線3','駅名3','駅徒歩3']]]\n",
    "    station = np.NAN\n",
    "    toho = sys.maxsize\n",
    "\n",
    "    for moyori in moyori_list:\n",
    "        ensen, station_tmp, toho_tmp = moyori.values\n",
    "        if ensen == 'ＪＲ山手線' and toho_tmp < toho:\n",
    "            station = station_tmp\n",
    "            toho = toho_tmp\n",
    "    if toho == sys.maxsize:\n",
    "        toho = np.NAN\n",
    "    return pd.Series([station, toho])\n",
    "\n",
    "build[['山手線駅', '山手線駅徒歩']] =  build[['沿線1','駅名1','駅徒歩1','沿線2','駅名2','駅徒歩2','沿線3','駅名3','駅徒歩3']].apply(yamanote_moyori, axis=1)\n"
   ]
  },
  {
   "cell_type": "markdown",
   "metadata": {},
   "source": [
    "---\n",
    "#### 【Question7】２つのデータを結合しよう\n",
    "---"
   ]
  },
  {
   "cell_type": "markdown",
   "metadata": {},
   "source": [
    "roomとbuildの2種類のデータがあります。この2つのデータを結合して分析用データを作成します。  \n",
    "roomの'建物ID'にbuildの'建物ID'を結合することで、roomの各物件の情報に建物の情報を付加することができます。  \n",
    "  \n",
    "データを結合する場合は、結合の種類に注意が必要です。どの結合方法が良いかはデータや分析の内容によって異なります。今回は、家賃の傾向や家賃の値段に寄与する要素は何かといった分析を目的としたいため、roomとbuildの両方が揃っているデータを使用していきます。  "
   ]
  },
  {
   "cell_type": "markdown",
   "metadata": {},
   "source": [
    "同じ建物の中に複数の物件が存在する為、roomにある'建物ID'は重複していても良いのですが、  \n",
    "buildのは1つの建物に1つの'建物ID'、roomは1つの物件に1つの'物件ID'が付与されている仕様です。  \n",
    "まずはそれぞれのIDが重複していないかを確認してみましょう。"
   ]
  },
  {
   "cell_type": "code",
   "execution_count": 29,
   "metadata": {},
   "outputs": [
    {
     "name": "stdout",
     "output_type": "stream",
     "text": [
      "13195\n",
      "13195\n"
     ]
    }
   ],
   "source": [
    "# buildの'建物ID'の<件数>と<重複を除いた値の件数>を出力\n",
    "print(build['建物ID'].count())\n",
    "print(build['建物ID'].nunique())\n"
   ]
  },
  {
   "cell_type": "code",
   "execution_count": 31,
   "metadata": {},
   "outputs": [
    {
     "name": "stdout",
     "output_type": "stream",
     "text": [
      "23846\n",
      "23846\n",
      "23846\n",
      "13027\n"
     ]
    }
   ],
   "source": [
    "# roomの'物件ID'の<件数>と<重複を除いた値の件数>を出力\n",
    "print(room['物件ID'].count())\n",
    "print(room['物件ID'].nunique())\n",
    "print(room['建物ID'].count())\n",
    "print(room['建物ID'].nunique())"
   ]
  },
  {
   "cell_type": "markdown",
   "metadata": {},
   "source": [
    "各IDが仕様通り重複していない事が確認できたので、roomとbuildを'建物ID'をキーにして結合し、  \n",
    "chintaiという名前の結合後DataFrameを作成しましょう。  \n",
    "結合方法は、roomとbuildの両方に存在するデータのみを結合してください。"
   ]
  },
  {
   "cell_type": "code",
   "execution_count": 32,
   "metadata": {},
   "outputs": [
    {
     "data": {
      "text/html": [
       "<div>\n",
       "<style scoped>\n",
       "    .dataframe tbody tr th:only-of-type {\n",
       "        vertical-align: middle;\n",
       "    }\n",
       "\n",
       "    .dataframe tbody tr th {\n",
       "        vertical-align: top;\n",
       "    }\n",
       "\n",
       "    .dataframe thead th {\n",
       "        text-align: right;\n",
       "    }\n",
       "</style>\n",
       "<table border=\"1\" class=\"dataframe\">\n",
       "  <thead>\n",
       "    <tr style=\"text-align: right;\">\n",
       "      <th></th>\n",
       "      <th>物件ID</th>\n",
       "      <th>建物ID</th>\n",
       "      <th>物件階</th>\n",
       "      <th>間取り</th>\n",
       "      <th>面積</th>\n",
       "      <th>家賃</th>\n",
       "      <th>管理費</th>\n",
       "      <th>敷金</th>\n",
       "      <th>礼金</th>\n",
       "      <th>平米単価</th>\n",
       "      <th>住所1</th>\n",
       "      <th>住所2</th>\n",
       "      <th>住所3</th>\n",
       "      <th>築年数</th>\n",
       "      <th>地上階</th>\n",
       "      <th>地下</th>\n",
       "      <th>沿線1</th>\n",
       "      <th>駅名1</th>\n",
       "      <th>駅徒歩1</th>\n",
       "      <th>沿線2</th>\n",
       "      <th>駅名2</th>\n",
       "      <th>駅徒歩2</th>\n",
       "      <th>沿線3</th>\n",
       "      <th>駅名3</th>\n",
       "      <th>駅徒歩3</th>\n",
       "      <th>駅徒歩最短</th>\n",
       "      <th>山手線駅</th>\n",
       "      <th>山手線駅徒歩</th>\n",
       "    </tr>\n",
       "  </thead>\n",
       "  <tbody>\n",
       "    <tr>\n",
       "      <th>0</th>\n",
       "      <td>R0000001</td>\n",
       "      <td>B0000001</td>\n",
       "      <td>2</td>\n",
       "      <td>44K</td>\n",
       "      <td>552.58</td>\n",
       "      <td>2484000.0</td>\n",
       "      <td>0</td>\n",
       "      <td>0.0</td>\n",
       "      <td>1.0</td>\n",
       "      <td>4495.276702</td>\n",
       "      <td>東京都</td>\n",
       "      <td>北区</td>\n",
       "      <td>田端</td>\n",
       "      <td>32</td>\n",
       "      <td>6</td>\n",
       "      <td>1</td>\n",
       "      <td>ＪＲ山手線</td>\n",
       "      <td>田端駅</td>\n",
       "      <td>6</td>\n",
       "      <td>ＪＲ山手線</td>\n",
       "      <td>西日暮里駅</td>\n",
       "      <td>12.0</td>\n",
       "      <td>東京メトロ千代田線</td>\n",
       "      <td>千駄木駅</td>\n",
       "      <td>16.0</td>\n",
       "      <td>6.0</td>\n",
       "      <td>田端駅</td>\n",
       "      <td>6.0</td>\n",
       "    </tr>\n",
       "    <tr>\n",
       "      <th>1</th>\n",
       "      <td>R0000002</td>\n",
       "      <td>B0000002</td>\n",
       "      <td>7</td>\n",
       "      <td>1K</td>\n",
       "      <td>26.10</td>\n",
       "      <td>100000.0</td>\n",
       "      <td>8000</td>\n",
       "      <td>1.0</td>\n",
       "      <td>1.0</td>\n",
       "      <td>3831.417625</td>\n",
       "      <td>東京都</td>\n",
       "      <td>台東区</td>\n",
       "      <td>上野</td>\n",
       "      <td>6</td>\n",
       "      <td>14</td>\n",
       "      <td>0</td>\n",
       "      <td>ＪＲ山手線</td>\n",
       "      <td>秋葉原駅</td>\n",
       "      <td>8</td>\n",
       "      <td>ＪＲ山手線</td>\n",
       "      <td>御徒町駅</td>\n",
       "      <td>5.0</td>\n",
       "      <td>東京メトロ日比谷線</td>\n",
       "      <td>仲御徒町駅</td>\n",
       "      <td>2.0</td>\n",
       "      <td>2.0</td>\n",
       "      <td>御徒町駅</td>\n",
       "      <td>5.0</td>\n",
       "    </tr>\n",
       "    <tr>\n",
       "      <th>2</th>\n",
       "      <td>R0000003</td>\n",
       "      <td>B0000002</td>\n",
       "      <td>8</td>\n",
       "      <td>1K</td>\n",
       "      <td>26.10</td>\n",
       "      <td>99500.0</td>\n",
       "      <td>8000</td>\n",
       "      <td>1.0</td>\n",
       "      <td>1.0</td>\n",
       "      <td>3812.260536</td>\n",
       "      <td>東京都</td>\n",
       "      <td>台東区</td>\n",
       "      <td>上野</td>\n",
       "      <td>6</td>\n",
       "      <td>14</td>\n",
       "      <td>0</td>\n",
       "      <td>ＪＲ山手線</td>\n",
       "      <td>秋葉原駅</td>\n",
       "      <td>8</td>\n",
       "      <td>ＪＲ山手線</td>\n",
       "      <td>御徒町駅</td>\n",
       "      <td>5.0</td>\n",
       "      <td>東京メトロ日比谷線</td>\n",
       "      <td>仲御徒町駅</td>\n",
       "      <td>2.0</td>\n",
       "      <td>2.0</td>\n",
       "      <td>御徒町駅</td>\n",
       "      <td>5.0</td>\n",
       "    </tr>\n",
       "    <tr>\n",
       "      <th>3</th>\n",
       "      <td>R0000004</td>\n",
       "      <td>B0000003</td>\n",
       "      <td>1</td>\n",
       "      <td>1LDK</td>\n",
       "      <td>40.12</td>\n",
       "      <td>118000.0</td>\n",
       "      <td>5800</td>\n",
       "      <td>0.0</td>\n",
       "      <td>2.0</td>\n",
       "      <td>2941.176471</td>\n",
       "      <td>東京都</td>\n",
       "      <td>北区</td>\n",
       "      <td>田端</td>\n",
       "      <td>7</td>\n",
       "      <td>2</td>\n",
       "      <td>0</td>\n",
       "      <td>ＪＲ山手線</td>\n",
       "      <td>駒込駅</td>\n",
       "      <td>9</td>\n",
       "      <td>ＪＲ山手線</td>\n",
       "      <td>田端駅</td>\n",
       "      <td>10.0</td>\n",
       "      <td>ＪＲ山手線</td>\n",
       "      <td>西日暮里駅</td>\n",
       "      <td>14.0</td>\n",
       "      <td>9.0</td>\n",
       "      <td>駒込駅</td>\n",
       "      <td>9.0</td>\n",
       "    </tr>\n",
       "    <tr>\n",
       "      <th>4</th>\n",
       "      <td>R0000005</td>\n",
       "      <td>B0000004</td>\n",
       "      <td>3</td>\n",
       "      <td>3LDK</td>\n",
       "      <td>89.67</td>\n",
       "      <td>235000.0</td>\n",
       "      <td>0</td>\n",
       "      <td>2.0</td>\n",
       "      <td>0.0</td>\n",
       "      <td>2620.720419</td>\n",
       "      <td>東京都</td>\n",
       "      <td>北区</td>\n",
       "      <td>田端</td>\n",
       "      <td>23</td>\n",
       "      <td>5</td>\n",
       "      <td>0</td>\n",
       "      <td>ＪＲ山手線</td>\n",
       "      <td>田端駅</td>\n",
       "      <td>3</td>\n",
       "      <td>ＪＲ山手線</td>\n",
       "      <td>西日暮里駅</td>\n",
       "      <td>6.0</td>\n",
       "      <td>ＪＲ山手線</td>\n",
       "      <td>日暮里駅</td>\n",
       "      <td>17.0</td>\n",
       "      <td>3.0</td>\n",
       "      <td>田端駅</td>\n",
       "      <td>3.0</td>\n",
       "    </tr>\n",
       "  </tbody>\n",
       "</table>\n",
       "</div>"
      ],
      "text/plain": [
       "       物件ID      建物ID 物件階   間取り      面積         家賃   管理費   敷金   礼金  \\\n",
       "0  R0000001  B0000001   2   44K  552.58  2484000.0     0  0.0  1.0   \n",
       "1  R0000002  B0000002   7    1K   26.10   100000.0  8000  1.0  1.0   \n",
       "2  R0000003  B0000002   8    1K   26.10    99500.0  8000  1.0  1.0   \n",
       "3  R0000004  B0000003   1  1LDK   40.12   118000.0  5800  0.0  2.0   \n",
       "4  R0000005  B0000004   3  3LDK   89.67   235000.0     0  2.0  0.0   \n",
       "\n",
       "          平米単価  住所1  住所2 住所3  築年数 地上階  地下    沿線1   駅名1  駅徒歩1    沿線2    駅名2  \\\n",
       "0  4495.276702  東京都   北区  田端   32   6   1  ＪＲ山手線   田端駅     6  ＪＲ山手線  西日暮里駅   \n",
       "1  3831.417625  東京都  台東区  上野    6  14   0  ＪＲ山手線  秋葉原駅     8  ＪＲ山手線   御徒町駅   \n",
       "2  3812.260536  東京都  台東区  上野    6  14   0  ＪＲ山手線  秋葉原駅     8  ＪＲ山手線   御徒町駅   \n",
       "3  2941.176471  東京都   北区  田端    7   2   0  ＪＲ山手線   駒込駅     9  ＪＲ山手線    田端駅   \n",
       "4  2620.720419  東京都   北区  田端   23   5   0  ＪＲ山手線   田端駅     3  ＪＲ山手線  西日暮里駅   \n",
       "\n",
       "   駅徒歩2        沿線3    駅名3  駅徒歩3  駅徒歩最短  山手線駅  山手線駅徒歩  \n",
       "0  12.0  東京メトロ千代田線   千駄木駅  16.0    6.0   田端駅     6.0  \n",
       "1   5.0  東京メトロ日比谷線  仲御徒町駅   2.0    2.0  御徒町駅     5.0  \n",
       "2   5.0  東京メトロ日比谷線  仲御徒町駅   2.0    2.0  御徒町駅     5.0  \n",
       "3  10.0      ＪＲ山手線  西日暮里駅  14.0    9.0   駒込駅     9.0  \n",
       "4   6.0      ＪＲ山手線   日暮里駅  17.0    3.0   田端駅     3.0  "
      ]
     },
     "execution_count": 32,
     "metadata": {},
     "output_type": "execute_result"
    }
   ],
   "source": [
    "# データ結合\n",
    "# 左側にroom、右側にbuildとなるように内部結合したchintaiデータを作成\n",
    "chintai = pd.merge(room, build, on='建物ID') \n",
    "\n",
    "# chintaiデータの先頭5行を確認する\n",
    "chintai.head()"
   ]
  },
  {
   "cell_type": "markdown",
   "metadata": {},
   "source": [
    "結合済データchintaiを作成できたら、物件IDと建物IDのそれぞれの件数と重複を除いた値の件数を確認しましょう。  \n",
    "何件結合できたのか、キー重複により件数が増大していないか等を確認します。  "
   ]
  },
  {
   "cell_type": "code",
   "execution_count": 33,
   "metadata": {},
   "outputs": [
    {
     "name": "stdout",
     "output_type": "stream",
     "text": [
      "23806\n",
      "23806\n"
     ]
    }
   ],
   "source": [
    "# chintaiの'物件ID'の<件数>と<重複を除いた値の件数>を出力\n",
    "print(chintai['物件ID'].count())\n",
    "print(chintai['物件ID'].nunique())\n"
   ]
  },
  {
   "cell_type": "code",
   "execution_count": 34,
   "metadata": {},
   "outputs": [
    {
     "name": "stdout",
     "output_type": "stream",
     "text": [
      "23806\n",
      "12997\n"
     ]
    }
   ],
   "source": [
    "# chintaiの'建物ID'の<件数>と<重複を除いた値の件数>を出力\n",
    "\n",
    "print(chintai['建物ID'].count())\n",
    "print(chintai['建物ID'].nunique())"
   ]
  },
  {
   "cell_type": "markdown",
   "metadata": {},
   "source": [
    "それぞれのIDの重複を除いた件数を確認するといずれか片方にしかなく、結合できなかったデータがありそうです。  \n",
    "実際にそれぞれのデータで何件が結合出来なかったのか、下記を実行して確認してみましょう。  \n",
    "またどのようなコードになっているか読み解いてみてください。"
   ]
  },
  {
   "cell_type": "code",
   "execution_count": 35,
   "metadata": {},
   "outputs": [
    {
     "name": "stdout",
     "output_type": "stream",
     "text": [
      "room: 40\n",
      "build: 198\n"
     ]
    }
   ],
   "source": [
    "# ●結合されなかったデータ数の確認\n",
    "print('room:', room.loc[~(room['物件ID'].isin(chintai['物件ID'].unique())), '物件ID'].count())\n",
    "print('build:', build.loc[~(build['建物ID'].isin(chintai['建物ID'].unique())), '建物ID'].count())"
   ]
  },
  {
   "cell_type": "markdown",
   "metadata": {},
   "source": [
    "---\n",
    "#### 【Question8】加工したデータをCSVファイルに出力しよう\n",
    "---"
   ]
  },
  {
   "cell_type": "markdown",
   "metadata": {},
   "source": [
    "元のデータに加工を行った後、CSVファイルに出力して保管を行ったり、別の分析で流用することもあります。  \n",
    "加工したデータをchintai.csvという名前のファイルで出力しましょう。  \n",
    "出力ファイルについて、インデックスは出力しない設定としてください。"
   ]
  },
  {
   "cell_type": "code",
   "execution_count": 36,
   "metadata": {},
   "outputs": [],
   "source": [
    "# chintaiをchintai.csvファイルとして出力する\n",
    "chintai.to_csv('chintai.csv',index=False)\n",
    "\n"
   ]
  },
  {
   "cell_type": "markdown",
   "metadata": {},
   "source": [
    "■■■■■■■■■■■■■■■■■■■■■■■■■■■■■■■■■■■■■■■■■■■■■■■■■■■■■■■■■■■■■■■■■■■■■■■■■■■■"
   ]
  },
  {
   "cell_type": "markdown",
   "metadata": {},
   "source": [
    "---\n",
    "#### 【CHALLENGE】もう少しデータ加工に挑戦しよう\n",
    "---"
   ]
  },
  {
   "cell_type": "markdown",
   "metadata": {},
   "source": [
    "【Question1】～【Question7】で一通りのデータ加工処理を記述しました。  \n",
    "その後、データ内容の確認や深堀、可視化等を行う中で既存処理の修正や新規処理追加を行うことがあります。  \n",
    "  \n",
    "Jupyter Notebookは対話型のインターフェースの為、後ろに書き足していっても自身で実行する順番を気を付ければよいのですが、可読性に欠けます。  \n",
    "適切な場所に処理を追加・修正しておくほうが、第三者に引き継いだり、時間が経ってから（忘れたころに）再実行する際にミスを防止できます。  \n",
    "  \n",
    "以下のCHALLENGE問題では、各問題文を読んだ上で指示に従い、適切な場所に処理を追加・修正を行ってください。  \n",
    "その際に各CHALLENGEの処理のみを実行するのではなく、処理の繋がりを考えて必要に応じて前後の処理を実行するように気を付けましょう。"
   ]
  },
  {
   "cell_type": "markdown",
   "metadata": {},
   "source": [
    "##### __CHALLENGE１）地上階を数値に変換しよう__\n",
    "buildにある「地上階」はその建物が何階建かを表しています。また、roomにある「物件階」はその物件が何階かを表しています。  \n",
    "建物自体の階数が高いとタワーマンションで、1～3階建だとアパートの可能性が高くなるといったように、建物の階数が高ければ高いど家賃が高くなるといった傾向があるかもしれません。カテゴリカルな値（文字）よりは階数を数値で保有していたほうが良さそうです。  \n",
    "    ※データ分析の世界では、カテゴリカル値より数値のほうが様々分析を行うことができます。  \n",
    "\n",
    "    【Question4】にある「★CHALLENGE１★」の場所に以下の処理を追加してください。  \n",
    "```\n",
    "     １．buildの「地上階」を数値に変換する  \n",
    "     　例）'3階建' →　3\n",
    "     ２．roomの「物件階」を数値に変換する\n",
    "     　例）'4階' →　4\n",
    "```\n"
   ]
  },
  {
   "cell_type": "markdown",
   "metadata": {},
   "source": [
    "##### __【＋α】データフレーム値の置換方法__\n",
    "値の置換は`loc`を上手く使って置換する方法以外にも、`replace()`を使用する方法もあります。     \n",
    "\n",
    "`df['A'].str.replace('B','C')` # dfの'A'列にある文字列'B'を'C'に置き換える。数値置換不可。置換えは部分一致。  \n",
    "`df.replace('B', 'C')` # dfの全ての要素に対して'B'を'C'に置き換える。数値置換可。置換えは完全一致。部分一致は'regex=True'オプションを指定。  \n",
    "`df.replace({'A':{'B':'C'}},regex=True)` # dfの'A'列にある文字列'B'を'C'に置き換える。'regex=True'オプションにより部分一致。  "
   ]
  },
  {
   "cell_type": "code",
   "execution_count": 37,
   "metadata": {},
   "outputs": [
    {
     "data": {
      "text/plain": [
       "地上階\n",
       "33    978833.333333\n",
       "35    687000.000000\n",
       "43    549000.000000\n",
       "57    482000.000000\n",
       "52    465000.000000\n",
       "34    463055.555556\n",
       "44    416465.116279\n",
       "38    402777.777778\n",
       "21    389328.767123\n",
       "47    382115.384615\n",
       "37    377525.842697\n",
       "40    348376.811594\n",
       "55    344125.000000\n",
       "25    336025.000000\n",
       "20    329975.609756\n",
       "49    327352.941176\n",
       "48    326946.428571\n",
       "42    324900.000000\n",
       "56    323921.568627\n",
       "23    305373.493976\n",
       "46    293187.500000\n",
       "26    291714.285714\n",
       "36    272475.000000\n",
       "60    271625.000000\n",
       "39    270650.000000\n",
       "32    268512.820513\n",
       "31    267782.608696\n",
       "28    262268.292683\n",
       "29    258326.530612\n",
       "22    239304.761905\n",
       "50    239000.000000\n",
       "24    238954.347826\n",
       "16    236549.180328\n",
       "30    216542.372881\n",
       "19    212436.363636\n",
       "27    208214.285714\n",
       "18    187742.424242\n",
       "17    179900.000000\n",
       "13    145986.538462\n",
       "14    144328.639618\n",
       "10    139509.255159\n",
       "15    139378.053704\n",
       "7     137292.562814\n",
       "12    135667.953431\n",
       "6     133118.242492\n",
       "9     130557.180385\n",
       "8     123905.072637\n",
       "11    120556.847739\n",
       "5     115884.136933\n",
       "4     111089.134461\n",
       "3     107318.730597\n",
       "1     100388.888889\n",
       "2      75363.770977\n",
       "Name: 家賃, dtype: float64"
      ]
     },
     "execution_count": 37,
     "metadata": {},
     "output_type": "execute_result"
    }
   ],
   "source": [
    "# ●(ちょっと確認)地上階ごとに家賃の平均を算出し、平均家賃を降順で表示して確認\n",
    "chintai.groupby(by='地上階')['家賃'].mean().sort_values(ascending=False)"
   ]
  },
  {
   "cell_type": "markdown",
   "metadata": {},
   "source": [
    "##### __CHALLENGE２）地下をあり／なしのフラグにしよう__\n",
    "buildにある「地下」について、【Question4】で欠損値を'地下0'に置き換えました。    \n",
    "CHALLENGE１）と同じように、地下についても数値で持っておくほうが良いかなと検討しました。  \n",
    "しかし賃貸物件の地下は何階分あるかよりも、あるのかないのかというフラグでも良いかもしれません。（本来ならデータや専門知識から判断するもの）  \n",
    "今回は地下については有無の1,0でフラグにすることにします。  \n",
    "\n",
    "    【Question4】にある「★CHALLENGE２★」の場所に以下の処理を実施・追加してください。  \n",
    "```\n",
    "     １．【Question4】の２）で欠損値を補完している処理をコメントアウトする \n",
    "     ２．既に欠損補完処理（'地下0'に置き換え）をしているので、【Question2】build.csvの読込～★CHALLENGE２★までを再実行  \n",
    "     ３．buildの「地下」を欠損していなかったなら1に、欠損なら0の数値に変換する\n",
    "     　例）'4階' →　'1'　、　NaN →　'0'\n",
    "```"
   ]
  },
  {
   "cell_type": "markdown",
   "metadata": {},
   "source": [
    "##### __【＋α】欠損していない判定__\n",
    "`isnull()`は欠損値だとTrueを返しますが、非欠損値でTrueを返す`notnull()`というのもあります。     \n",
    "\n",
    "`df['A'].str.replace('B','C')` # dfの'A'列にある文字列'B'を'C'に置き換える。数値置換不可。置換えは部分一致。  \n",
    "`df.replace('B', 'C')` # dfの全ての要素に対して'B'を'C'に置き換える。数値置換可。置換えは完全一致。部分一致は'regex=True'オプションを指定。  \n",
    "`df.replace({'A':{'B':'C'}},regex=True)` # dfの'A'列にある文字列'B'を'C'に置き換える。'regex=True'オプションにより部分一致"
   ]
  },
  {
   "cell_type": "markdown",
   "metadata": {},
   "source": [
    "##### __CHALLENGE３）山手線駅の沿線名を修正しよう__\n",
    "buildにある「沿線1」、「沿線2」、「沿線3」について、山手線の駅であっても他の沿線で表記されているものもある。    \n",
    "今回は山手線の駅であれば、沿線を'ＪＲ山手線'としたい。  \n",
    "\n",
    "    【Question4】にある「★CHALLENGE３★」の場所に以下の処理を追加してください。  \n",
    "```\n",
    "    １．「★CHALLENGE２★」から「★CHALLENGE３★」の直前までの処理を実行する\n",
    "    ２．「駅名1」が山手線駅で、かつ「沿線1」が'ＪＲ山手線'でない場合、'ＪＲ山手線'に変更\n",
    "     　　「沿線2」、「沿線３」についても同様の処理を実施  \n",
    "       　※処理上は　「沿線1」が'ＪＲ山手線'でも、それ以外でも一律で置換すればよいが、 \n",
    "        　　今回は、学習を目的として＆条件を使って実施する  \n",
    "```"
   ]
  },
  {
   "cell_type": "markdown",
   "metadata": {},
   "source": [
    "山手線の駅かどうかは下記を利用\n",
    "```\n",
    "yamanote = ['大崎駅', '五反田駅', '目黒駅', '恵比寿駅', '渋谷駅', '原宿駅', '代々木駅', \n",
    "            '新宿駅', '新大久保駅', '高田馬場駅', '目白駅', '池袋駅', '大塚駅', '巣鴨駅', \n",
    "            '駒込駅', '田端駅', '西日暮里駅', '日暮里駅', '鶯谷駅', '上野駅', '御徒町駅', '秋葉原駅', \n",
    "            '神田駅', '東京駅', '有楽町駅', '新橋駅', '浜松町駅', '田町駅', '品川駅']\n",
    "```"
   ]
  },
  {
   "cell_type": "markdown",
   "metadata": {},
   "source": [
    "##### __CHALLENGE４）★難易度高★最寄りの山手線駅を特定しよう__\n",
    "buildの最寄り駅を見てい見ると以下のことがわかりました。  \n",
    "* 駅名1には必ずしも山手線駅が入っているとは限らない\n",
    "* 駅名1～3が必ずしも徒歩距離が近い順番で入っているとは限らない\n",
    "* 駅名1～3の中に複数の山手線駅が入っている場合もある  \n",
    "  \n",
    "上記を踏まえて、物件で最も近い山手線駅を特定してみましょう。\n",
    "\n",
    "    【Question5】にある「★CHALLENGE４★」の場所に以下の処理を追加してください。  \n",
    "```\n",
    "    １．「★CHALLENGE３★」から「★CHALLENGE４★」の直前までの処理を実行する\n",
    "    ２．物件の最寄り駅の中で山手線駅で最も近い駅と徒歩距離を判定し新規項目として追加する。\n",
    "     　　最も近い山手線駅は「山手線駅」という変数で追加\n",
    "         その最も近い山手線駅の徒歩距離を「山手線駅徒歩」という変数で追加\n",
    "         ※最も近い山手線駅が2つ抽出されたら、割り切りで駅名1>駅名2>駅名3の順で優先させる\n",
    "```"
   ]
  },
  {
   "cell_type": "markdown",
   "metadata": {},
   "source": [
    "> 処理が難しいと思った人は「Challenge4」フォルダの中に処理の解答例を2つ用意しています。  \n",
    "> どのように処理されているか読み解いてみましょう。  \n",
    "> また書き方によって実行時間は大きく変わります。2つの処理をそれぞれ実行してみて、時間の違いを確認しましょう。\n",
    "> ※実際に採用する処理は可読性の実行時間を加味して選択してください。"
   ]
  },
  {
   "cell_type": "markdown",
   "metadata": {},
   "source": [
    "##### __CHALLENGE５）最後に全ての処理が問題なく行えるか通して処理を実行してみましょう__\n",
    "CHALLENGE問題で処理を追加・修正を行ったので、最初から最後まで正しく処理が実行できるか確認してみましょう。　　\n"
   ]
  },
  {
   "cell_type": "markdown",
   "metadata": {},
   "source": [
    "##### __EXTRA）他にも加工できそうなポイントがあれば実施してみましょう__\n",
    "例えば建物の最上階の物件であれば、最上階フラグを作成する等、加工できそうなアイディアがあればチャレンジしましょう。"
   ]
  },
  {
   "cell_type": "markdown",
   "metadata": {},
   "source": [
    "■■■■■■■■■■■■■■■■■■■■■■■■■■■■■■■■■■■■■■■■■■■■■■■■■■■■■■■■■■■■■■■■■■■■■■■■■■■■END）"
   ]
  },
  {
   "cell_type": "code",
   "execution_count": null,
   "metadata": {},
   "outputs": [],
   "source": []
  },
  {
   "cell_type": "code",
   "execution_count": null,
   "metadata": {},
   "outputs": [],
   "source": []
  }
 ],
 "metadata": {
  "kernelspec": {
   "display_name": "Python 3",
   "language": "python",
   "name": "python3"
  },
  "language_info": {
   "codemirror_mode": {
    "name": "ipython",
    "version": 3
   },
   "file_extension": ".py",
   "mimetype": "text/x-python",
   "name": "python",
   "nbconvert_exporter": "python",
   "pygments_lexer": "ipython3",
   "version": "3.7.6"
  }
 },
 "nbformat": 4,
 "nbformat_minor": 4
}
