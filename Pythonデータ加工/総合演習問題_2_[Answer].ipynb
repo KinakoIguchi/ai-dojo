{
 "cells": [
  {
   "cell_type": "markdown",
   "metadata": {},
   "source": [
    "### 【総合演習２】賃貸物件情報を集計・可視化しよう"
   ]
  },
  {
   "cell_type": "markdown",
   "metadata": {},
   "source": [
    "総合演習１では物件のデータ「room.csv」とその物件の建物のデータ「build.csv」を加工して、「chintai.csv」ファイルを作成しました。  \n",
    "今回の総合演習２では、「chintai.csv」のデータを使って集計や可視化を行います。  \n",
    "  \n",
    "【総合演習の取り組み方】  \n",
    "* 最初に【Quiestion1】～【Question3】までを実施しましょう。\n",
    "* 上記問題については、上から順番に実施しましょう。\n",
    "* 総合演習はテキストを見ながら実施していただいてOKです。"
   ]
  },
  {
   "cell_type": "markdown",
   "metadata": {},
   "source": [
    "---\n",
    "#### 【Question1】ライブラリをインポートしよう\n",
    "---"
   ]
  },
  {
   "cell_type": "markdown",
   "metadata": {},
   "source": [
    "pandas、numpy、matplotlibのライブラリをインポートしてください。  \n",
    "matplotlibについては、pyplotをインポートし、jupyter notebook上に表示できるようにしましょう。  \n",
    "また、matplotlibでグラフ化する際に日本語が文字化けしないようにフォントを'Yu Mincho'に変更しましょう。"
   ]
  },
  {
   "cell_type": "code",
   "execution_count": 1,
   "metadata": {},
   "outputs": [],
   "source": [
    "# ライブラリインポート\n",
    "import pandas as pd\n",
    "import numpy as np\n",
    "import matplotlib.pyplot as plt\n",
    "%matplotlib inline"
   ]
  },
  {
   "cell_type": "code",
   "execution_count": 2,
   "metadata": {},
   "outputs": [],
   "source": [
    "# matplotlibの日本語文字化け対応\n",
    "import matplotlib\n",
    "font = {'family':'Yu Mincho'}\n",
    "matplotlib.rc('font', **font)  "
   ]
  },
  {
   "cell_type": "markdown",
   "metadata": {},
   "source": [
    "---\n",
    "#### 【Question2】ファイルを読み込もう\n",
    "---"
   ]
  },
  {
   "cell_type": "markdown",
   "metadata": {},
   "source": [
    "総合演習問題_1で作成した「chintai.csv」を読込み、chintaiという変数に格納してください。    \n",
    "読み込んだ変数の先頭5行を表示させて正しく読み込めているか確認しましょう。  "
   ]
  },
  {
   "cell_type": "code",
   "execution_count": 3,
   "metadata": {
    "scrolled": true
   },
   "outputs": [
    {
     "data": {
      "text/html": [
       "<div>\n",
       "<style scoped>\n",
       "    .dataframe tbody tr th:only-of-type {\n",
       "        vertical-align: middle;\n",
       "    }\n",
       "\n",
       "    .dataframe tbody tr th {\n",
       "        vertical-align: top;\n",
       "    }\n",
       "\n",
       "    .dataframe thead th {\n",
       "        text-align: right;\n",
       "    }\n",
       "</style>\n",
       "<table border=\"1\" class=\"dataframe\">\n",
       "  <thead>\n",
       "    <tr style=\"text-align: right;\">\n",
       "      <th></th>\n",
       "      <th>物件ID</th>\n",
       "      <th>建物ID</th>\n",
       "      <th>物件階</th>\n",
       "      <th>間取り</th>\n",
       "      <th>面積</th>\n",
       "      <th>家賃</th>\n",
       "      <th>管理費</th>\n",
       "      <th>敷金</th>\n",
       "      <th>礼金</th>\n",
       "      <th>平米単価</th>\n",
       "      <th>...</th>\n",
       "      <th>駅徒歩1</th>\n",
       "      <th>沿線2</th>\n",
       "      <th>駅名2</th>\n",
       "      <th>駅徒歩2</th>\n",
       "      <th>沿線3</th>\n",
       "      <th>駅名3</th>\n",
       "      <th>駅徒歩3</th>\n",
       "      <th>駅徒歩最短</th>\n",
       "      <th>山手線駅</th>\n",
       "      <th>山手線駅徒歩</th>\n",
       "    </tr>\n",
       "  </thead>\n",
       "  <tbody>\n",
       "    <tr>\n",
       "      <th>0</th>\n",
       "      <td>R0000001</td>\n",
       "      <td>B0000001</td>\n",
       "      <td>2</td>\n",
       "      <td>44K</td>\n",
       "      <td>552.58</td>\n",
       "      <td>2484000.0</td>\n",
       "      <td>0</td>\n",
       "      <td>0.0</td>\n",
       "      <td>1.0</td>\n",
       "      <td>4495.276702</td>\n",
       "      <td>...</td>\n",
       "      <td>6</td>\n",
       "      <td>ＪＲ山手線</td>\n",
       "      <td>西日暮里駅</td>\n",
       "      <td>12.0</td>\n",
       "      <td>東京メトロ千代田線</td>\n",
       "      <td>千駄木駅</td>\n",
       "      <td>16.0</td>\n",
       "      <td>6.0</td>\n",
       "      <td>田端駅</td>\n",
       "      <td>6.0</td>\n",
       "    </tr>\n",
       "    <tr>\n",
       "      <th>1</th>\n",
       "      <td>R0000002</td>\n",
       "      <td>B0000002</td>\n",
       "      <td>7</td>\n",
       "      <td>1K</td>\n",
       "      <td>26.10</td>\n",
       "      <td>100000.0</td>\n",
       "      <td>8000</td>\n",
       "      <td>1.0</td>\n",
       "      <td>1.0</td>\n",
       "      <td>3831.417625</td>\n",
       "      <td>...</td>\n",
       "      <td>8</td>\n",
       "      <td>ＪＲ山手線</td>\n",
       "      <td>御徒町駅</td>\n",
       "      <td>5.0</td>\n",
       "      <td>東京メトロ日比谷線</td>\n",
       "      <td>仲御徒町駅</td>\n",
       "      <td>2.0</td>\n",
       "      <td>2.0</td>\n",
       "      <td>御徒町駅</td>\n",
       "      <td>5.0</td>\n",
       "    </tr>\n",
       "    <tr>\n",
       "      <th>2</th>\n",
       "      <td>R0000003</td>\n",
       "      <td>B0000002</td>\n",
       "      <td>8</td>\n",
       "      <td>1K</td>\n",
       "      <td>26.10</td>\n",
       "      <td>99500.0</td>\n",
       "      <td>8000</td>\n",
       "      <td>1.0</td>\n",
       "      <td>1.0</td>\n",
       "      <td>3812.260536</td>\n",
       "      <td>...</td>\n",
       "      <td>8</td>\n",
       "      <td>ＪＲ山手線</td>\n",
       "      <td>御徒町駅</td>\n",
       "      <td>5.0</td>\n",
       "      <td>東京メトロ日比谷線</td>\n",
       "      <td>仲御徒町駅</td>\n",
       "      <td>2.0</td>\n",
       "      <td>2.0</td>\n",
       "      <td>御徒町駅</td>\n",
       "      <td>5.0</td>\n",
       "    </tr>\n",
       "    <tr>\n",
       "      <th>3</th>\n",
       "      <td>R0000004</td>\n",
       "      <td>B0000003</td>\n",
       "      <td>1</td>\n",
       "      <td>1LDK</td>\n",
       "      <td>40.12</td>\n",
       "      <td>118000.0</td>\n",
       "      <td>5800</td>\n",
       "      <td>0.0</td>\n",
       "      <td>2.0</td>\n",
       "      <td>2941.176471</td>\n",
       "      <td>...</td>\n",
       "      <td>9</td>\n",
       "      <td>ＪＲ山手線</td>\n",
       "      <td>田端駅</td>\n",
       "      <td>10.0</td>\n",
       "      <td>ＪＲ山手線</td>\n",
       "      <td>西日暮里駅</td>\n",
       "      <td>14.0</td>\n",
       "      <td>9.0</td>\n",
       "      <td>駒込駅</td>\n",
       "      <td>9.0</td>\n",
       "    </tr>\n",
       "    <tr>\n",
       "      <th>4</th>\n",
       "      <td>R0000005</td>\n",
       "      <td>B0000004</td>\n",
       "      <td>3</td>\n",
       "      <td>3LDK</td>\n",
       "      <td>89.67</td>\n",
       "      <td>235000.0</td>\n",
       "      <td>0</td>\n",
       "      <td>2.0</td>\n",
       "      <td>0.0</td>\n",
       "      <td>2620.720419</td>\n",
       "      <td>...</td>\n",
       "      <td>3</td>\n",
       "      <td>ＪＲ山手線</td>\n",
       "      <td>西日暮里駅</td>\n",
       "      <td>6.0</td>\n",
       "      <td>ＪＲ山手線</td>\n",
       "      <td>日暮里駅</td>\n",
       "      <td>17.0</td>\n",
       "      <td>3.0</td>\n",
       "      <td>田端駅</td>\n",
       "      <td>3.0</td>\n",
       "    </tr>\n",
       "  </tbody>\n",
       "</table>\n",
       "<p>5 rows × 28 columns</p>\n",
       "</div>"
      ],
      "text/plain": [
       "       物件ID      建物ID  物件階   間取り      面積         家賃   管理費   敷金   礼金  \\\n",
       "0  R0000001  B0000001    2   44K  552.58  2484000.0     0  0.0  1.0   \n",
       "1  R0000002  B0000002    7    1K   26.10   100000.0  8000  1.0  1.0   \n",
       "2  R0000003  B0000002    8    1K   26.10    99500.0  8000  1.0  1.0   \n",
       "3  R0000004  B0000003    1  1LDK   40.12   118000.0  5800  0.0  2.0   \n",
       "4  R0000005  B0000004    3  3LDK   89.67   235000.0     0  2.0  0.0   \n",
       "\n",
       "          平米単価  ... 駅徒歩1    沿線2    駅名2  駅徒歩2        沿線3    駅名3  駅徒歩3 駅徒歩最短  \\\n",
       "0  4495.276702  ...    6  ＪＲ山手線  西日暮里駅  12.0  東京メトロ千代田線   千駄木駅  16.0   6.0   \n",
       "1  3831.417625  ...    8  ＪＲ山手線   御徒町駅   5.0  東京メトロ日比谷線  仲御徒町駅   2.0   2.0   \n",
       "2  3812.260536  ...    8  ＪＲ山手線   御徒町駅   5.0  東京メトロ日比谷線  仲御徒町駅   2.0   2.0   \n",
       "3  2941.176471  ...    9  ＪＲ山手線    田端駅  10.0      ＪＲ山手線  西日暮里駅  14.0   9.0   \n",
       "4  2620.720419  ...    3  ＪＲ山手線  西日暮里駅   6.0      ＪＲ山手線   日暮里駅  17.0   3.0   \n",
       "\n",
       "   山手線駅 山手線駅徒歩  \n",
       "0   田端駅    6.0  \n",
       "1  御徒町駅    5.0  \n",
       "2  御徒町駅    5.0  \n",
       "3   駒込駅    9.0  \n",
       "4   田端駅    3.0  \n",
       "\n",
       "[5 rows x 28 columns]"
      ]
     },
     "execution_count": 3,
     "metadata": {},
     "output_type": "execute_result"
    }
   ],
   "source": [
    "# chintai.csvの読み込みと先頭5行の表示\n",
    "chintai = pd.read_csv('chintai.csv')\n",
    "\n",
    "chintai.head()"
   ]
  },
  {
   "cell_type": "markdown",
   "metadata": {},
   "source": [
    "---\n",
    "#### 【Question3】データを集計／可視化してみよう\n",
    "---"
   ]
  },
  {
   "cell_type": "markdown",
   "metadata": {},
   "source": [
    "##### __１）家賃の分布を確認しよう＜可視化＞__\n",
    "実際のところ山手線沿線の物件はどのような家賃分布になっているでしょう。  \n",
    "ヒストグラムを使って描画してみましょう。\n",
    "    \n",
    "chintaiの「家賃」についてヒストグラムを描画。  \n",
    "* ビンの数を変えてヒストグラムの印象が変化するか確認しましょう。  \n",
    "* タイトルは'家賃分布'としてください。  \n",
    "* X軸には'家賃'、Y軸には'物件数'のラベルを付与してください。  "
   ]
  },
  {
   "cell_type": "markdown",
   "metadata": {},
   "source": [
    "##### __【＋α】グラフのサイズを変更する__\n",
    "グラフを描画するときにもう少し大きくしたい、横幅を広げたい等と思うことがあります。  \n",
    "グラフの大きさや縦横サイズを変更することができます。    \n",
    "\n",
    "`plt.figure(figsize=(横インチ, 縦インチ))` # 描画するグラフサイズを変更  "
   ]
  },
  {
   "cell_type": "code",
   "execution_count": 4,
   "metadata": {
    "scrolled": true
   },
   "outputs": [
    {
     "name": "stderr",
     "output_type": "stream",
     "text": [
      "C:\\Users\\u072265\\Anaconda3\\lib\\site-packages\\numpy\\lib\\histograms.py:839: RuntimeWarning: invalid value encountered in greater_equal\n",
      "  keep = (tmp_a >= first_edge)\n",
      "C:\\Users\\u072265\\Anaconda3\\lib\\site-packages\\numpy\\lib\\histograms.py:840: RuntimeWarning: invalid value encountered in less_equal\n",
      "  keep &= (tmp_a <= last_edge)\n"
     ]
    },
    {
     "data": {
      "image/png": "[encoded data removed]",
      "text/plain": [
       "<Figure size 1080x360 with 1 Axes>"
      ]
     },
     "metadata": {
      "needs_background": "light"
     },
     "output_type": "display_data"
    }
   ],
   "source": [
    "# chintaiの「家賃」についてヒストグラムを描画\n",
    "plt.figure(figsize=(15, 5))\n",
    "plt.hist(chintai['家賃'], bins=100)\n",
    "plt.title('家賃分布')\n",
    "plt.xlabel('家賃')\n",
    "plt.ylabel('物件数')\n",
    "plt.show()"
   ]
  },
  {
   "cell_type": "markdown",
   "metadata": {},
   "source": [
    "##### __２）家賃の分布を確認しよう＜数値化＞__\n",
    "家賃についてヒストグラムで確認しましたが、数値でも確認してみましょう。  \n",
    "    \n",
    "chintaiの「家賃」について要約統計量を算出。  "
   ]
  },
  {
   "cell_type": "markdown",
   "metadata": {},
   "source": [
    "##### __【＋α】指数表示をやめたい場合__\n",
    "桁が大きい場合等は指数表示になってしまうことがあります。    \n",
    "実際は指数表示で確認することが多いのですが、見づらいと思う方もいると思います。  \n",
    "表示形式を変更させることで指数表示にしない方法があります。  \n",
    "※必要に応じて（指数表示が見づらい等あれば）使用してください。\n",
    "\n",
    "`pd.options.display.float_format = '{:.1f}'.format` # 小数点1桁での表示  "
   ]
  },
  {
   "cell_type": "code",
   "execution_count": 5,
   "metadata": {},
   "outputs": [
    {
     "data": {
      "text/plain": [
       "count    2.380200e+04\n",
       "mean     1.343641e+05\n",
       "std      1.038035e+05\n",
       "min      2.000000e+04\n",
       "25%      8.200000e+04\n",
       "50%      1.070000e+05\n",
       "75%      1.500000e+05\n",
       "max      2.650000e+06\n",
       "Name: 家賃, dtype: float64"
      ]
     },
     "execution_count": 5,
     "metadata": {},
     "output_type": "execute_result"
    }
   ],
   "source": [
    "# 家賃の要約統計量を出力する\n",
    "chintai['家賃'].describe()"
   ]
  },
  {
   "cell_type": "markdown",
   "metadata": {},
   "source": [
    "##### __３）駅によって家賃は異なるのか確認してみよう＜数値化＞__\n",
    "駅によって家賃の傾向が異なるのかは気になるところです。  \n",
    "    \n",
    "* chintaiの「家賃」について「山手線駅」毎に平均・最小値・最大値を算出し、平均の降順で並べてください。  "
   ]
  },
  {
   "cell_type": "code",
   "execution_count": 6,
   "metadata": {
    "scrolled": true
   },
   "outputs": [
    {
     "data": {
      "text/html": [
       "<div>\n",
       "<style scoped>\n",
       "    .dataframe tbody tr th:only-of-type {\n",
       "        vertical-align: middle;\n",
       "    }\n",
       "\n",
       "    .dataframe tbody tr th {\n",
       "        vertical-align: top;\n",
       "    }\n",
       "\n",
       "    .dataframe thead th {\n",
       "        text-align: right;\n",
       "    }\n",
       "</style>\n",
       "<table border=\"1\" class=\"dataframe\">\n",
       "  <thead>\n",
       "    <tr style=\"text-align: right;\">\n",
       "      <th></th>\n",
       "      <th>mean</th>\n",
       "      <th>min</th>\n",
       "      <th>max</th>\n",
       "    </tr>\n",
       "    <tr>\n",
       "      <th>山手線駅</th>\n",
       "      <th></th>\n",
       "      <th></th>\n",
       "      <th></th>\n",
       "    </tr>\n",
       "  </thead>\n",
       "  <tbody>\n",
       "    <tr>\n",
       "      <th>渋谷駅</th>\n",
       "      <td>209042.348754</td>\n",
       "      <td>39000.0</td>\n",
       "      <td>2000000.0</td>\n",
       "    </tr>\n",
       "    <tr>\n",
       "      <th>原宿駅</th>\n",
       "      <td>204782.500000</td>\n",
       "      <td>40000.0</td>\n",
       "      <td>790000.0</td>\n",
       "    </tr>\n",
       "    <tr>\n",
       "      <th>浜松町駅</th>\n",
       "      <td>201436.527675</td>\n",
       "      <td>63000.0</td>\n",
       "      <td>966000.0</td>\n",
       "    </tr>\n",
       "    <tr>\n",
       "      <th>新橋駅</th>\n",
       "      <td>185473.177843</td>\n",
       "      <td>70000.0</td>\n",
       "      <td>950000.0</td>\n",
       "    </tr>\n",
       "    <tr>\n",
       "      <th>恵比寿駅</th>\n",
       "      <td>183276.512687</td>\n",
       "      <td>26000.0</td>\n",
       "      <td>2650000.0</td>\n",
       "    </tr>\n",
       "    <tr>\n",
       "      <th>有楽町駅</th>\n",
       "      <td>176809.523810</td>\n",
       "      <td>96000.0</td>\n",
       "      <td>506000.0</td>\n",
       "    </tr>\n",
       "    <tr>\n",
       "      <th>田町駅</th>\n",
       "      <td>173341.434846</td>\n",
       "      <td>52000.0</td>\n",
       "      <td>2500000.0</td>\n",
       "    </tr>\n",
       "    <tr>\n",
       "      <th>目黒駅</th>\n",
       "      <td>165960.574621</td>\n",
       "      <td>49000.0</td>\n",
       "      <td>949000.0</td>\n",
       "    </tr>\n",
       "    <tr>\n",
       "      <th>品川駅</th>\n",
       "      <td>160746.698679</td>\n",
       "      <td>25000.0</td>\n",
       "      <td>900000.0</td>\n",
       "    </tr>\n",
       "    <tr>\n",
       "      <th>東京駅</th>\n",
       "      <td>153275.862069</td>\n",
       "      <td>58300.0</td>\n",
       "      <td>400000.0</td>\n",
       "    </tr>\n",
       "    <tr>\n",
       "      <th>秋葉原駅</th>\n",
       "      <td>143897.729618</td>\n",
       "      <td>37000.0</td>\n",
       "      <td>635000.0</td>\n",
       "    </tr>\n",
       "    <tr>\n",
       "      <th>新宿駅</th>\n",
       "      <td>142150.891266</td>\n",
       "      <td>35000.0</td>\n",
       "      <td>974000.0</td>\n",
       "    </tr>\n",
       "    <tr>\n",
       "      <th>神田駅</th>\n",
       "      <td>138953.722334</td>\n",
       "      <td>50000.0</td>\n",
       "      <td>380000.0</td>\n",
       "    </tr>\n",
       "    <tr>\n",
       "      <th>御徒町駅</th>\n",
       "      <td>134200.000000</td>\n",
       "      <td>45000.0</td>\n",
       "      <td>375000.0</td>\n",
       "    </tr>\n",
       "    <tr>\n",
       "      <th>五反田駅</th>\n",
       "      <td>131790.898345</td>\n",
       "      <td>47000.0</td>\n",
       "      <td>1000000.0</td>\n",
       "    </tr>\n",
       "    <tr>\n",
       "      <th>代々木駅</th>\n",
       "      <td>129531.746032</td>\n",
       "      <td>39000.0</td>\n",
       "      <td>650000.0</td>\n",
       "    </tr>\n",
       "    <tr>\n",
       "      <th>大崎駅</th>\n",
       "      <td>128866.724437</td>\n",
       "      <td>31000.0</td>\n",
       "      <td>860000.0</td>\n",
       "    </tr>\n",
       "    <tr>\n",
       "      <th>上野駅</th>\n",
       "      <td>122073.772610</td>\n",
       "      <td>20000.0</td>\n",
       "      <td>428000.0</td>\n",
       "    </tr>\n",
       "    <tr>\n",
       "      <th>新大久保駅</th>\n",
       "      <td>110967.901235</td>\n",
       "      <td>20000.0</td>\n",
       "      <td>680000.0</td>\n",
       "    </tr>\n",
       "    <tr>\n",
       "      <th>高田馬場駅</th>\n",
       "      <td>108323.155216</td>\n",
       "      <td>28500.0</td>\n",
       "      <td>780000.0</td>\n",
       "    </tr>\n",
       "    <tr>\n",
       "      <th>鶯谷駅</th>\n",
       "      <td>105502.398801</td>\n",
       "      <td>49000.0</td>\n",
       "      <td>250000.0</td>\n",
       "    </tr>\n",
       "    <tr>\n",
       "      <th>巣鴨駅</th>\n",
       "      <td>104476.301218</td>\n",
       "      <td>26000.0</td>\n",
       "      <td>402000.0</td>\n",
       "    </tr>\n",
       "    <tr>\n",
       "      <th>駒込駅</th>\n",
       "      <td>103873.689727</td>\n",
       "      <td>26000.0</td>\n",
       "      <td>450000.0</td>\n",
       "    </tr>\n",
       "    <tr>\n",
       "      <th>目白駅</th>\n",
       "      <td>103798.464724</td>\n",
       "      <td>35000.0</td>\n",
       "      <td>490000.0</td>\n",
       "    </tr>\n",
       "    <tr>\n",
       "      <th>日暮里駅</th>\n",
       "      <td>99773.571429</td>\n",
       "      <td>22000.0</td>\n",
       "      <td>290000.0</td>\n",
       "    </tr>\n",
       "    <tr>\n",
       "      <th>大塚駅</th>\n",
       "      <td>98326.449133</td>\n",
       "      <td>29000.0</td>\n",
       "      <td>1380000.0</td>\n",
       "    </tr>\n",
       "    <tr>\n",
       "      <th>池袋駅</th>\n",
       "      <td>97364.863888</td>\n",
       "      <td>27000.0</td>\n",
       "      <td>590000.0</td>\n",
       "    </tr>\n",
       "    <tr>\n",
       "      <th>西日暮里駅</th>\n",
       "      <td>95800.756430</td>\n",
       "      <td>25000.0</td>\n",
       "      <td>340000.0</td>\n",
       "    </tr>\n",
       "    <tr>\n",
       "      <th>田端駅</th>\n",
       "      <td>94280.416157</td>\n",
       "      <td>22000.0</td>\n",
       "      <td>2484000.0</td>\n",
       "    </tr>\n",
       "  </tbody>\n",
       "</table>\n",
       "</div>"
      ],
      "text/plain": [
       "                mean      min        max\n",
       "山手線駅                                    \n",
       "渋谷駅    209042.348754  39000.0  2000000.0\n",
       "原宿駅    204782.500000  40000.0   790000.0\n",
       "浜松町駅   201436.527675  63000.0   966000.0\n",
       "新橋駅    185473.177843  70000.0   950000.0\n",
       "恵比寿駅   183276.512687  26000.0  2650000.0\n",
       "有楽町駅   176809.523810  96000.0   506000.0\n",
       "田町駅    173341.434846  52000.0  2500000.0\n",
       "目黒駅    165960.574621  49000.0   949000.0\n",
       "品川駅    160746.698679  25000.0   900000.0\n",
       "東京駅    153275.862069  58300.0   400000.0\n",
       "秋葉原駅   143897.729618  37000.0   635000.0\n",
       "新宿駅    142150.891266  35000.0   974000.0\n",
       "神田駅    138953.722334  50000.0   380000.0\n",
       "御徒町駅   134200.000000  45000.0   375000.0\n",
       "五反田駅   131790.898345  47000.0  1000000.0\n",
       "代々木駅   129531.746032  39000.0   650000.0\n",
       "大崎駅    128866.724437  31000.0   860000.0\n",
       "上野駅    122073.772610  20000.0   428000.0\n",
       "新大久保駅  110967.901235  20000.0   680000.0\n",
       "高田馬場駅  108323.155216  28500.0   780000.0\n",
       "鶯谷駅    105502.398801  49000.0   250000.0\n",
       "巣鴨駅    104476.301218  26000.0   402000.0\n",
       "駒込駅    103873.689727  26000.0   450000.0\n",
       "目白駅    103798.464724  35000.0   490000.0\n",
       "日暮里駅    99773.571429  22000.0   290000.0\n",
       "大塚駅     98326.449133  29000.0  1380000.0\n",
       "池袋駅     97364.863888  27000.0   590000.0\n",
       "西日暮里駅   95800.756430  25000.0   340000.0\n",
       "田端駅     94280.416157  22000.0  2484000.0"
      ]
     },
     "execution_count": 6,
     "metadata": {},
     "output_type": "execute_result"
    }
   ],
   "source": [
    "# chintaiの「家賃」について「山手線駅」毎に確認\n",
    "chintai.groupby('山手線駅')['家賃'].agg(['mean', 'min', 'max']).sort_values(by='mean', ascending=False)"
   ]
  },
  {
   "cell_type": "markdown",
   "metadata": {},
   "source": [
    "##### __４）駅によって家賃は異なるのか確認してみよう＜可視化＞__\n",
    "先ほど駅別に「家賃」の傾向を数値で確認しました。これを層別箱ひげ図で確認してみましょう。  \n",
    "    \n",
    "層別の箱ひげ図はseabornというmatplotlibのラッパーとして動作するライブラリを使って描画します。  \n",
    "グラフの描画は様々な方法で行うことができます。  \n",
    "    \n",
    "* 以下を実行してください。"
   ]
  },
  {
   "cell_type": "code",
   "execution_count": 10,
   "metadata": {},
   "outputs": [
    {
     "name": "stdout",
     "output_type": "stream",
     "text": [
      "     山手線駅             家賃\n",
      "18    渋谷駅  209042.348754\n",
      "3     原宿駅  204782.500000\n",
      "17   浜松町駅  201436.527675\n",
      "12    新橋駅  185473.177843\n",
      "9    恵比寿駅  183276.512687\n",
      "14   有楽町駅  176809.523810\n",
      "19    田町駅  173341.434846\n",
      "22    目黒駅  165960.574621\n",
      "4     品川駅  160746.698679\n",
      "15    東京駅  153275.862069\n",
      "24   秋葉原駅  143897.729618\n",
      "11    新宿駅  142150.891266\n",
      "23    神田駅  138953.722334\n",
      "8    御徒町駅  134200.000000\n",
      "1    五反田駅  131790.898345\n",
      "2    代々木駅  129531.746032\n",
      "6     大崎駅  128866.724437\n",
      "0     上野駅  122073.772610\n",
      "10  新大久保駅  110967.901235\n",
      "27  高田馬場駅  108323.155216\n",
      "28    鶯谷駅  105502.398801\n",
      "7     巣鴨駅  104476.301218\n",
      "26    駒込駅  103873.689727\n",
      "21    目白駅  103798.464724\n",
      "13   日暮里駅   99773.571429\n",
      "5     大塚駅   98326.449133\n",
      "16    池袋駅   97364.863888\n",
      "25  西日暮里駅   95800.756430\n",
      "20    田端駅   94280.416157\n",
      "18      渋谷駅\n",
      "3       原宿駅\n",
      "17     浜松町駅\n",
      "12      新橋駅\n",
      "9      恵比寿駅\n",
      "14     有楽町駅\n",
      "19      田町駅\n",
      "22      目黒駅\n",
      "4       品川駅\n",
      "15      東京駅\n",
      "24     秋葉原駅\n",
      "11      新宿駅\n",
      "23      神田駅\n",
      "8      御徒町駅\n",
      "1      五反田駅\n",
      "2      代々木駅\n",
      "6       大崎駅\n",
      "0       上野駅\n",
      "10    新大久保駅\n",
      "27    高田馬場駅\n",
      "28      鶯谷駅\n",
      "7       巣鴨駅\n",
      "26      駒込駅\n",
      "21      目白駅\n",
      "13     日暮里駅\n",
      "5       大塚駅\n",
      "16      池袋駅\n",
      "25    西日暮里駅\n",
      "20      田端駅\n",
      "Name: 山手線駅, dtype: object\n",
      "['渋谷駅', '原宿駅', '浜松町駅', '新橋駅', '恵比寿駅', '有楽町駅', '田町駅', '目黒駅', '品川駅', '東京駅', '秋葉原駅', '新宿駅', '神田駅', '御徒町駅', '五反田駅', '代々木駅', '大崎駅', '上野駅', '新大久保駅', '高田馬場駅', '鶯谷駅', '巣鴨駅', '駒込駅', '目白駅', '日暮里駅', '大塚駅', '池袋駅', '西日暮里駅', '田端駅']\n"
     ]
    },
    {
     "data": {
      "image/png": "[encoded data removed]",
      "text/plain": [
       "<Figure size 1080x576 with 1 Axes>"
      ]
     },
     "metadata": {
      "needs_background": "light"
     },
     "output_type": "display_data"
    }
   ],
   "source": [
    "import seaborn as sns\n",
    "from matplotlib import pyplot as plt\n",
    "\n",
    "chintai_gby_sby = chintai.groupby(['山手線駅'], as_index=False)['家賃'].mean().sort_values('家賃', ascending=False)\n",
    "print(chintai_gby_sby)\n",
    "\n",
    "chintai_label = chintai_gby_sby['山手線駅']\n",
    "print(chintai_label)\n",
    "\n",
    "chintai_labellist = chintai_label.tolist()\n",
    "print(chintai_labellist)\n",
    "\n",
    "plt.figure(figsize=(15, 8))\n",
    "sns.boxplot(x='家賃', y='山手線駅', orient='h', data=chintai, palette='rainbow', order=chintai_labellist)\n",
    "plt.title('駅別家賃分布')\n",
    "plt.show()"
   ]
  },
  {
   "cell_type": "markdown",
   "metadata": {},
   "source": [
    "【ここに気づきを書いてみましょう】  \n",
    "* XXXXXX\n",
    "* XXXXXX"
   ]
  },
  {
   "cell_type": "markdown",
   "metadata": {},
   "source": [
    "##### __５）駅ごとの物件数を確認する＜グラフ化＞__\n",
    "駅ごとに家賃分布を確認しました。  \n",
    "しかし、そもそもの駅における物件数はどうだったでしょう。  \n",
    "    \n",
    "* chintaiの駅ごとの物件数を集計し、降順（物件数が多い順）で棒グラフを描画してください。  \n",
    "* タイトルとx軸、y軸のラベルを適切に表示してください。\n",
    "* 見やすいようにグラフを調整してください。"
   ]
  },
  {
   "cell_type": "markdown",
   "metadata": {},
   "source": [
    "##### __【＋α】groupbyした項目の値__\n",
    "グループ別に集計をする場合はgroupbyを使用しますが、指定した項目はインデックスとして使用されます。    \n",
    "インデックスとなった値を抽出する際は、`index`を使用します。  \n",
    "\n",
    "`DataFrame.index` # インデックス名の表示"
   ]
  },
  {
   "cell_type": "markdown",
   "metadata": {},
   "source": [
    "##### __【＋α】棒グラフの描画__\n",
    "棒グラフを描画する際は、集計された度数分布表がインプットになります。  \n",
    "インプットの順番に表示されるため、どの順番で表示するかは事前に加工しておきます。  \n",
    "\n",
    "`plt.bar(棒を作る単位の項目名, 度数集計された値)`  # 縦棒グラフ  \n",
    "`plt.barh(棒を作る単位の項目名, 度数集計された値)` # 横棒グラフ"
   ]
  },
  {
   "cell_type": "code",
   "execution_count": 12,
   "metadata": {
    "scrolled": true
   },
   "outputs": [
    {
     "name": "stdout",
     "output_type": "stream",
     "text": [
      "山手線駅\n",
      "池袋駅      2351\n",
      "恵比寿駅     1537\n",
      "田町駅      1366\n",
      "大塚駅      1327\n",
      "目黒駅      1254\n",
      "高田馬場駅    1179\n",
      "渋谷駅      1124\n",
      "新宿駅      1122\n",
      "秋葉原駅      969\n",
      "駒込駅       954\n",
      "巣鴨駅       903\n",
      "五反田駅      848\n",
      "品川駅       833\n",
      "田端駅       817\n",
      "上野駅       774\n",
      "鶯谷駅       668\n",
      "西日暮里駅     661\n",
      "目白駅       652\n",
      "新大久保駅     648\n",
      "大崎駅       577\n",
      "日暮里駅      560\n",
      "浜松町駅      542\n",
      "神田駅       497\n",
      "代々木駅      441\n",
      "御徒町駅      374\n",
      "新橋駅       343\n",
      "原宿駅       240\n",
      "東京駅       203\n",
      "有楽町駅       42\n",
      "dtype: int64\n",
      "Index(['池袋駅', '恵比寿駅', '田町駅', '大塚駅', '目黒駅', '高田馬場駅', '渋谷駅', '新宿駅', '秋葉原駅',\n",
      "       '駒込駅', '巣鴨駅', '五反田駅', '品川駅', '田端駅', '上野駅', '鶯谷駅', '西日暮里駅', '目白駅',\n",
      "       '新大久保駅', '大崎駅', '日暮里駅', '浜松町駅', '神田駅', '代々木駅', '御徒町駅', '新橋駅', '原宿駅',\n",
      "       '東京駅', '有楽町駅'],\n",
      "      dtype='object', name='山手線駅')\n"
     ]
    },
    {
     "data": {
      "image/png": "[encoded data removed]",
      "text/plain": [
       "<Figure size 1440x360 with 1 Axes>"
      ]
     },
     "metadata": {
      "needs_background": "light"
     },
     "output_type": "display_data"
    }
   ],
   "source": [
    "# 駅ごとのデータ数をカウントし、件数降順にソートした結果を、新しい変数(名前任意)に格納\n",
    "bukken_size =chintai.groupby(by='山手線駅').size().sort_values(ascending=False)\n",
    "print(bukken_size)\n",
    "\n",
    "# 新しく作成した変数を使って棒グラフを描画する\n",
    "plt.figure(figsize=(20,5))\n",
    "print(bukken_size.index)\n",
    "plt.bar(bukken_size.index, bukken_size)\n",
    "plt.title('駅別物件数')\n",
    "plt.xlabel('駅')\n",
    "plt.ylabel('物件数')\n",
    "plt.show()"
   ]
  },
  {
   "cell_type": "markdown",
   "metadata": {},
   "source": [
    "##### __６）家賃と面積は関係あるのか確認しよう＜グラフ化＞__\n",
    "家賃に影響を及ぼすのはなんでしょうか。  \n",
    "今回は面積が広いほど家賃が高くなるのかという相関関係を可視化で確認しましょう。  \n",
    "    \n",
    "* chintaiの家賃と面積について散布図を描画してください。\n",
    "* タイトルとx軸、y軸のラベルを適切に表示してください。\n",
    "* 見やすいようにグラフを調整してください。"
   ]
  },
  {
   "cell_type": "code",
   "execution_count": 10,
   "metadata": {},
   "outputs": [
    {
     "data": {
      "image/png": "[encoded data removed]",
      "text/plain": [
       "<Figure size 360x360 with 1 Axes>"
      ]
     },
     "metadata": {
      "needs_background": "light"
     },
     "output_type": "display_data"
    }
   ],
   "source": [
    "# 賃貸と面積の散布図\n",
    "plt.figure(figsize=(5,5))\n",
    "plt.scatter(chintai['面積'], chintai['家賃'])\n",
    "plt.title('家賃と面積')\n",
    "plt.xlabel('面積')\n",
    "plt.ylabel('家賃')\n",
    "plt.show()"
   ]
  },
  {
   "cell_type": "markdown",
   "metadata": {},
   "source": [
    "##### __EXTRA）他にも疑問に思ったことについて、データを集計・可視化して検証しましょう__\n",
    "1つの項目の分布を確認することや、2つの項目の関連性を確認することは、データ分析において重要なタスクです。  \n",
    "またデータをより上手く表現できるように加工を行う大事なインプットにもなります。  \n",
    "自分で思いついた仮説を元に、集計・可視化を実施してください。\n",
    "\n",
    "例えば  \n",
    "1Rだけに絞ったら駅別の家賃分布はどう変わるのだろう。  \n",
    "徒歩の時間と家賃の関係は関連があるのか。\n",
    "可視化ででてきたあの外れ値はどんな物件なのか。  \n",
    "    "
   ]
  },
  {
   "cell_type": "markdown",
   "metadata": {},
   "source": [
    "##### __EXTRA）集計・可視化で気づいたことをデータ加工に反映させよう__\n",
    "総合演習１でも記載した通り、集計や可視化を行うことで、追加の気づきを加工に反映させることもあります。  \n",
    "例えば  \n",
    "特殊すぎるデータがあるから外れ値として除外しよう。  \n",
    "リビングがあるのは大きく家賃に影響するのが確認出来たら、間取りにリビングがあればリビングフラグを作ろう。  \n",
    "  \n",
    "総合演習２を実施して得た知見やアイディアを元に、総合演習１のプログラムに追加のデータ加工を実施してみましょう。"
   ]
  },
  {
   "cell_type": "markdown",
   "metadata": {},
   "source": [
    "■■■■■■■■■■■■■■■■■■■■■■■■■■■■■■■■■■■■■■■■■■■■■■■■■■■■■■■■■■■■■■■■■■■■■■■■■■■■END）"
   ]
  },
  {
   "cell_type": "code",
   "execution_count": null,
   "metadata": {},
   "outputs": [],
   "source": []
  }
 ],
 "metadata": {
  "kernelspec": {
   "display_name": "Python 3",
   "language": "python",
   "name": "python3"
  },
  "language_info": {
   "codemirror_mode": {
    "name": "ipython",
    "version": 3
   },
   "file_extension": ".py",
   "mimetype": "text/x-python",
   "name": "python",
   "nbconvert_exporter": "python",
   "pygments_lexer": "ipython3",
   "version": "3.7.6"
  }
 },
 "nbformat": 4,
 "nbformat_minor": 4
}
