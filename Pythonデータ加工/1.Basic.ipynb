{
 "cells": [
  {
   "cell_type": "code",
   "execution_count": 1,
   "metadata": {},
   "outputs": [
    {
     "name": "stdout",
     "output_type": "stream",
     "text": [
      "123\n",
      "num: <class 'int'>\n",
      "123\n",
      "txt: <class 'str'>\n"
     ]
    }
   ],
   "source": [
    "num = 123\n",
    "print(num)\n",
    "print('num:', type(num))\n",
    "\n",
    "txt = '123'\n",
    "print(txt)\n",
    "print('txt:', type(txt))\n"
   ]
  },
  {
   "cell_type": "code",
   "execution_count": 2,
   "metadata": {},
   "outputs": [
    {
     "name": "stdout",
     "output_type": "stream",
     "text": [
      "list1: [0, 1, 2, 3, 4] <class 'list'>\n",
      "list2: ['A', 1, 'B', 3, 'C'] <class 'list'>\n",
      "list3: [['A', 1], ['B', 3, 'C']] <class 'list'>\n"
     ]
    }
   ],
   "source": [
    "list1 = [0, 1, 2, 3, 4]\n",
    "print('list1:', list1, type(list1))\n",
    "\n",
    "list2 = ['A', 1, 'B', 3, 'C']\n",
    "print('list2:', list2, type(list2))\n",
    "\n",
    "list3 = [['A', 1], ['B', 3, 'C']]\n",
    "print('list3:', list3, type(list3))\n",
    "\n"
   ]
  },
  {
   "cell_type": "code",
   "execution_count": 3,
   "metadata": {},
   "outputs": [
    {
     "data": {
      "text/plain": [
       "[1, 3, 5]"
      ]
     },
     "execution_count": 3,
     "metadata": {},
     "output_type": "execute_result"
    }
   ],
   "source": [
    "dictionary = {\"A\":[1,3,5], \"B\":[2,4,6]}\n",
    "dictionary[\"A\"]"
   ]
  },
  {
   "cell_type": "code",
   "execution_count": 4,
   "metadata": {},
   "outputs": [
    {
     "name": "stdout",
     "output_type": "stream",
     "text": [
      "[1, 2, 3, 4]\n",
      "['A', 'B', 'C', 'D']\n"
     ]
    }
   ],
   "source": [
    "num = [1,2,3,4]\n",
    "string = [\"A\",\"B\",\"C\",\"D\"]\n",
    "print(num)\n",
    "print(string)"
   ]
  },
  {
   "cell_type": "code",
   "execution_count": 5,
   "metadata": {},
   "outputs": [],
   "source": [
    "dictionary = {0:\"A\", 1:\"B\", 2:\"C\", 3:\"D\", 4:\"E\"}"
   ]
  },
  {
   "cell_type": "code",
   "execution_count": 6,
   "metadata": {},
   "outputs": [
    {
     "name": "stdout",
     "output_type": "stream",
     "text": [
      "{0: 'A', 1: 'B', 2: 'C', 3: 'D', 4: 'E'}\n"
     ]
    }
   ],
   "source": [
    "print(dictionary)"
   ]
  },
  {
   "cell_type": "code",
   "execution_count": 7,
   "metadata": {},
   "outputs": [
    {
     "name": "stdout",
     "output_type": "stream",
     "text": [
      "偶数： 20\n"
     ]
    }
   ],
   "source": [
    "x = 20\n",
    "if (x % 2) == 0:\n",
    "    print('偶数：', x)\n",
    "else:\n",
    "    print('奇数：', x)"
   ]
  },
  {
   "cell_type": "code",
   "execution_count": 8,
   "metadata": {},
   "outputs": [
    {
     "name": "stdout",
     "output_type": "stream",
     "text": [
      "250\n",
      "280\n",
      "340\n",
      "200\n",
      "100\n",
      "500\n"
     ]
    }
   ],
   "source": [
    "kingakulist = [250, 280, 340, 200, 100, 500]\n",
    "for i in kingakulist:\n",
    "    print(i)\n"
   ]
  },
  {
   "cell_type": "code",
   "execution_count": 9,
   "metadata": {},
   "outputs": [
    {
     "name": "stdout",
     "output_type": "stream",
     "text": [
      "h\n",
      "e\n",
      "l\n",
      "l\n",
      "o\n"
     ]
    }
   ],
   "source": [
    "word = 'hello'\n",
    "for i in word:\n",
    "    print(i)\n"
   ]
  },
  {
   "cell_type": "code",
   "execution_count": 10,
   "metadata": {},
   "outputs": [
    {
     "name": "stdout",
     "output_type": "stream",
     "text": [
      "0\n",
      "1\n",
      "2\n",
      "3\n",
      "4\n",
      "5\n",
      "6\n",
      "7\n",
      "8\n",
      "9\n"
     ]
    }
   ],
   "source": [
    "for i in range(10):\n",
    "    print(i)\n"
   ]
  },
  {
   "cell_type": "code",
   "execution_count": 11,
   "metadata": {},
   "outputs": [
    {
     "ename": "SyntaxError",
     "evalue": "invalid syntax (<ipython-input-11-15cbe490ab5c>, line 3)",
     "output_type": "error",
     "traceback": [
      "\u001b[1;36m  File \u001b[1;32m\"<ipython-input-11-15cbe490ab5c>\"\u001b[1;36m, line \u001b[1;32m3\u001b[0m\n\u001b[1;33m    print(\"偶数\": i)\u001b[0m\n\u001b[1;37m              ^\u001b[0m\n\u001b[1;31mSyntaxError\u001b[0m\u001b[1;31m:\u001b[0m invalid syntax\n"
     ]
    }
   ],
   "source": [
    "for i in range(20):\n",
    "    if i % 2 == 0:\n",
    "        print(\"偶数\": i)\n",
    "    else :\n",
    "        print(\"奇数\": i)"
   ]
  },
  {
   "cell_type": "code",
   "execution_count": 13,
   "metadata": {},
   "outputs": [
    {
     "name": "stdout",
     "output_type": "stream",
     "text": [
      "偶数: 0\n",
      "奇数: 1\n",
      "偶数: 2\n",
      "奇数: 3\n",
      "偶数: 4\n",
      "奇数: 5\n",
      "偶数: 6\n",
      "奇数: 7\n",
      "偶数: 8\n",
      "奇数: 9\n",
      "偶数: 10\n",
      "奇数: 11\n",
      "偶数: 12\n",
      "奇数: 13\n",
      "偶数: 14\n",
      "奇数: 15\n",
      "偶数: 16\n",
      "奇数: 17\n",
      "偶数: 18\n",
      "奇数: 19\n"
     ]
    }
   ],
   "source": [
    "for i in range(20):\n",
    "    if (i % 2) == 0:\n",
    "        print(\"偶数:\", i)\n",
    "    else :\n",
    "        print(\"奇数:\", i)\n",
    "        "
   ]
  },
  {
   "cell_type": "code",
   "execution_count": 14,
   "metadata": {},
   "outputs": [
    {
     "name": "stdout",
     "output_type": "stream",
     "text": [
      "1 1\n",
      "2 3\n",
      "3 6\n",
      "4 10\n",
      "5 15\n",
      "6 21\n",
      "7 28\n",
      "8 36\n",
      "9 45\n",
      "10 55\n",
      "11 66\n",
      "12 78\n",
      "13 91\n",
      "14 105\n"
     ]
    }
   ],
   "source": [
    "x = 0\n",
    "for i in range(1, 20):\n",
    "    x = x + i\n",
    "    if x >= 100:\n",
    "        print(i, x)\n",
    "        break\n",
    "    else :\n",
    "        print(i, x)\n",
    "        "
   ]
  },
  {
   "cell_type": "code",
   "execution_count": 16,
   "metadata": {},
   "outputs": [
    {
     "name": "stdout",
     "output_type": "stream",
     "text": [
      "11\n",
      "15\n",
      "20\n"
     ]
    }
   ],
   "source": [
    "numlist = [1, 5, 6, 2, 4, 9, 11, 3, 15, 20]\n",
    "for number in numlist:\n",
    "    if number < 10:\n",
    "        continue\n",
    "    print(number)\n"
   ]
  },
  {
   "cell_type": "code",
   "execution_count": 17,
   "metadata": {},
   "outputs": [
    {
     "name": "stdout",
     "output_type": "stream",
     "text": [
      "1\n",
      "2\n",
      "3の倍数: 3\n",
      "4\n",
      "5\n",
      "3の倍数: 6\n",
      "7\n",
      "8\n",
      "3の倍数: 9\n",
      "10\n",
      "11\n",
      "3の倍数: 12\n",
      "13\n",
      "14\n",
      "3の倍数: 15\n",
      "16\n",
      "17\n",
      "3の倍数: 18\n",
      "19\n"
     ]
    }
   ],
   "source": [
    "#(1)for文を使用し、1～20未満の数値で3の倍数のとき「3の倍数:数値」、それ以外は数値 のみを出力してください。 \n",
    "# 結果例) 1 2 3の倍数:3 4…\n",
    "\n",
    "for i in range(1,20):\n",
    "    if (i % 3) == 0:\n",
    "        print(\"3の倍数:\", i)\n",
    "    else :\n",
    "        print(i)"
   ]
  },
  {
   "cell_type": "code",
   "execution_count": 27,
   "metadata": {},
   "outputs": [
    {
     "name": "stdout",
     "output_type": "stream",
     "text": [
      "3の倍数: 0\n",
      "1\n",
      "2\n",
      "3の倍数: 3\n",
      "4\n",
      "5\n",
      "3の倍数: 6\n",
      "7\n",
      "8\n",
      "3の倍数: 9\n",
      "10\n",
      "11\n",
      "3の倍数: 12\n",
      "13\n",
      "14\n",
      "3の倍数: 15\n",
      "16\n",
      "17\n",
      "3の倍数: 18\n",
      "19\n"
     ]
    }
   ],
   "source": [
    "#(2) while文を使用し、(1)と同様の結果を出力してください。\n",
    "i = 0\n",
    "while i < 20:\n",
    "    if (i % 3) == 0:\n",
    "        print(\"3の倍数:\", i)  \n",
    "    else :\n",
    "        print(i)\n",
    "        \n",
    "    i+=1"
   ]
  },
  {
   "cell_type": "code",
   "execution_count": 29,
   "metadata": {},
   "outputs": [
    {
     "name": "stdout",
     "output_type": "stream",
     "text": [
      "0 A\n",
      "1 B\n",
      "2 C\n",
      "3 D\n"
     ]
    }
   ],
   "source": [
    "listA = [0, 1, 2, 3, 4] \n",
    "listB = [\"A\",\"B\",\"C\",\"D\"]\n",
    "for i, j in zip(listA, listB): print(i, j)"
   ]
  },
  {
   "cell_type": "code",
   "execution_count": 30,
   "metadata": {},
   "outputs": [
    {
     "name": "stdout",
     "output_type": "stream",
     "text": [
      "奇数:1\n",
      "奇数:5\n",
      "奇数:3\n",
      "偶数:10\n",
      "偶数:12\n",
      "偶数:16\n"
     ]
    }
   ],
   "source": [
    "def hantei(num):\n",
    "    if (num % 2) == 0:\n",
    "        result = '偶数:' + str(num)\n",
    "    else:\n",
    "        result = '奇数:' + str(num)\n",
    "    return result\n",
    "\n",
    "numlist = [1, 5, 3, 10, 12, 16]\n",
    "\n",
    "for i in numlist:\n",
    "    print(hantei(i))\n"
   ]
  },
  {
   "cell_type": "code",
   "execution_count": 11,
   "metadata": {},
   "outputs": [
    {
     "name": "stdout",
     "output_type": "stream",
     "text": [
      "[[1, 7, 'z'], [3, 2, 'x'], [2, 2, 's'], [1, 8, 'r'], [1, 9, 'b'], [2, 2, 'a']]\n",
      "[[1, 7, 'z'], [1, 8, 'r'], [1, 9, 'b'], [2, 2, 'a'], [2, 2, 's'], [3, 2, 'x']]\n"
     ]
    }
   ],
   "source": [
    "add = lambda a, b: a+b# lambda関数定義\n",
    "\n",
    "add(1, 2) \n",
    "\n",
    "a = [\n",
    "      [1,7,'z'],\n",
    "      [3,2,'x'],\n",
    "      [1,8,'r'],\n",
    "      [2,2,'s'],\n",
    "      [1,9,'b'],\n",
    "      [2,2,'a']\n",
    "    ]\n",
    "print(sorted(a, reverse = True, key=lambda x:x[2]))\n",
    "print(sorted(a))"
   ]
  },
  {
   "cell_type": "code",
   "execution_count": 37,
   "metadata": {},
   "outputs": [
    {
     "name": "stdout",
     "output_type": "stream",
     "text": [
      "0 No_0\n",
      "1 No_1\n",
      "2 No_2\n",
      "3 No_3\n",
      "4 No_4\n",
      "5 No_5\n",
      "6 No_6\n",
      "7 No_7\n",
      "8 No_8\n",
      "9 No_9\n",
      "10 No_10\n",
      "11 No_11\n",
      "12 No_12\n",
      "13 No_13\n",
      "14 No_14\n",
      "15 No_15\n",
      "16 No_16\n",
      "17 No_17\n",
      "18 No_18\n",
      "19 No_19\n",
      "20 No_20\n",
      "21 No_21\n",
      "22 No_22\n",
      "23 No_23\n",
      "24 No_24\n",
      "25 No_25\n",
      "26 No_26\n",
      "27 No_27\n",
      "28 No_28\n",
      "29 No_29\n"
     ]
    }
   ],
   "source": [
    "#■■■　演習 1－3　■■■■■■■■■■■■■■■■■■■■\n",
    "\n",
    "#(1)数値の入力 i に対し、文字列 No_i を返す関数を定義してください。 ex:3を入力すると No_3 と返る\n",
    "def re_number(num):\n",
    "    return 'No_' + str(num)\n",
    "re_number(3)\n",
    "\n",
    "#(2) (1)で作成した関数を、0～30未満の各数字に対して適用してください。\n",
    "for i in range(30):\n",
    "    print(i, re_number(i))\n",
    " "
   ]
  },
  {
   "cell_type": "code",
   "execution_count": null,
   "metadata": {},
   "outputs": [],
   "source": []
  }
 ],
 "metadata": {
  "kernelspec": {
   "display_name": "Python 3",
   "language": "python",
   "name": "python3"
  },
  "language_info": {
   "codemirror_mode": {
    "name": "ipython",
    "version": 3
   },
   "file_extension": ".py",
   "mimetype": "text/x-python",
   "name": "python",
   "nbconvert_exporter": "python",
   "pygments_lexer": "ipython3",
   "version": "3.7.6"
  }
 },
 "nbformat": 4,
 "nbformat_minor": 4
}
