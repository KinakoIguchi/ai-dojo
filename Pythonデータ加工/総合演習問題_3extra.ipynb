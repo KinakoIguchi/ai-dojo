{
 "cells": [
  {
   "cell_type": "markdown",
   "metadata": {},
   "source": [
    "### 【総合演習３Extra】賃貸物件情報から賃貸価格を予測してみよう"
   ]
  },
  {
   "cell_type": "markdown",
   "metadata": {},
   "source": [
    "総合演習③は番外編です。  \n",
    "総合演習①では、入手したデータに対して基礎分析を行うために必要なデータ加工を学びました。  \n",
    "総合演習②では、加工したデータに対してデータ概要を把握するための集計や可視化を学びました。  \n",
    "この総合演習③でほんの少しだけ、加工したデータを使って予測するモデルを作る体験をしていきます。  "
   ]
  },
  {
   "cell_type": "markdown",
   "metadata": {},
   "source": [
    "総合演習③の内容は、Pythonデータ加工研修の学習範囲外となります。  \n",
    "また総合演習①および②についても今回は実装方法を学習のメインとしていますが、実際は統計的知見も必要とします。  \n",
    "これらの統計的知見については、「（Rによる）データ解析基礎研修」で取り扱っておりますので興味のある方は是非ご参加ください。  "
   ]
  },
  {
   "cell_type": "markdown",
   "metadata": {},
   "source": [
    "【総合演習の取り組み方】  \n",
    "* この演習は全てのコードが入力済みとなります。解説を読みながら実行してください。\n",
    "* あくまで加工したデータを使って実際に予測を体験してみることが目的となりますので、詳細な解説等は省略されています。"
   ]
  },
  {
   "cell_type": "markdown",
   "metadata": {},
   "source": [
    "---\n",
    "#### 【Extra0】賃貸価格を予測する\n",
    "---"
   ]
  },
  {
   "cell_type": "markdown",
   "metadata": {},
   "source": [
    "手元にあるデータを用いて分析を行うモチベーションは主に以下の2つがあります。\n",
    "* どのような要素が目的となる項目（ターゲット）に影響しているのか把握したい（要因）\n",
    "* 目的となる項目（ターゲット）を他の項目を使って推定したい（予測）\n",
    "\n",
    "今回の総合演習で扱っているデータは山手線沿線の賃貸物件のデータです。  \n",
    "面積や最寄り駅までの距離、階数など様々な要素が賃貸価格に影響しています。  \n",
    "\n",
    "ここからはこの賃貸物件のデータを用いて、賃貸価格の予測にチャレンジしていきます。"
   ]
  },
  {
   "cell_type": "markdown",
   "metadata": {},
   "source": [
    "---\n",
    "#### 【Extra1】ライブラリインポートとデータの読み込み\n",
    "---"
   ]
  },
  {
   "cell_type": "markdown",
   "metadata": {},
   "source": [
    "まずはデータ加工や可視化に必要なライブラリをインポートします。  \n",
    "また可視化のmatplotlibの日本語の文字化け対応および、カラムの最大表示数の変更を行います。"
   ]
  },
  {
   "cell_type": "code",
   "execution_count": 1,
   "metadata": {},
   "outputs": [],
   "source": [
    "# ライブラリインポート\n",
    "import pandas as pd\n",
    "import numpy as np\n",
    "import matplotlib.pyplot as plt\n",
    "%matplotlib inline"
   ]
  },
  {
   "cell_type": "code",
   "execution_count": 2,
   "metadata": {},
   "outputs": [],
   "source": [
    "# matplotlibの日本語文字化け対応\n",
    "import matplotlib\n",
    "font = {'family':'Yu Mincho'}\n",
    "matplotlib.rc('font', **font)  "
   ]
  },
  {
   "cell_type": "code",
   "execution_count": 3,
   "metadata": {},
   "outputs": [
    {
     "data": {
      "text/plain": [
       "100"
      ]
     },
     "execution_count": 3,
     "metadata": {},
     "output_type": "execute_result"
    }
   ],
   "source": [
    "# 最大表示数の指定（ここでは100行を指定）   \n",
    "pd.set_option('display.max_columns', 100)\n",
    "pd.get_option(\"display.max_columns\")"
   ]
  },
  {
   "cell_type": "markdown",
   "metadata": {},
   "source": [
    "総合演習①で作成したchintaiデータを読み込みます。  \n",
    "※ここではJpyter Notebookと同じディレクトリにchintai.csvが配置されている指定となります。必要に応じて修正してください。"
   ]
  },
  {
   "cell_type": "code",
   "execution_count": 4,
   "metadata": {
    "scrolled": false
   },
   "outputs": [
    {
     "data": {
      "text/html": [
       "<div>\n",
       "<style scoped>\n",
       "    .dataframe tbody tr th:only-of-type {\n",
       "        vertical-align: middle;\n",
       "    }\n",
       "\n",
       "    .dataframe tbody tr th {\n",
       "        vertical-align: top;\n",
       "    }\n",
       "\n",
       "    .dataframe thead th {\n",
       "        text-align: right;\n",
       "    }\n",
       "</style>\n",
       "<table border=\"1\" class=\"dataframe\">\n",
       "  <thead>\n",
       "    <tr style=\"text-align: right;\">\n",
       "      <th></th>\n",
       "      <th>物件ID</th>\n",
       "      <th>建物ID</th>\n",
       "      <th>物件階</th>\n",
       "      <th>間取り</th>\n",
       "      <th>面積</th>\n",
       "      <th>家賃</th>\n",
       "      <th>管理費</th>\n",
       "      <th>敷金</th>\n",
       "      <th>礼金</th>\n",
       "      <th>平米単価</th>\n",
       "      <th>住所1</th>\n",
       "      <th>住所2</th>\n",
       "      <th>住所3</th>\n",
       "      <th>築年数</th>\n",
       "      <th>地上階</th>\n",
       "      <th>地下</th>\n",
       "      <th>沿線1</th>\n",
       "      <th>駅名1</th>\n",
       "      <th>駅徒歩1</th>\n",
       "      <th>沿線2</th>\n",
       "      <th>駅名2</th>\n",
       "      <th>駅徒歩2</th>\n",
       "      <th>沿線3</th>\n",
       "      <th>駅名3</th>\n",
       "      <th>駅徒歩3</th>\n",
       "      <th>駅徒歩最短</th>\n",
       "      <th>山手線駅</th>\n",
       "      <th>山手線駅徒歩</th>\n",
       "    </tr>\n",
       "  </thead>\n",
       "  <tbody>\n",
       "    <tr>\n",
       "      <th>0</th>\n",
       "      <td>R0000001</td>\n",
       "      <td>B0000001</td>\n",
       "      <td>2</td>\n",
       "      <td>44K</td>\n",
       "      <td>552.58</td>\n",
       "      <td>2484000.0</td>\n",
       "      <td>0</td>\n",
       "      <td>0.0</td>\n",
       "      <td>1.0</td>\n",
       "      <td>4495.276702</td>\n",
       "      <td>東京都</td>\n",
       "      <td>北区</td>\n",
       "      <td>田端</td>\n",
       "      <td>32</td>\n",
       "      <td>6</td>\n",
       "      <td>1</td>\n",
       "      <td>ＪＲ山手線</td>\n",
       "      <td>田端駅</td>\n",
       "      <td>6</td>\n",
       "      <td>ＪＲ山手線</td>\n",
       "      <td>西日暮里駅</td>\n",
       "      <td>12.0</td>\n",
       "      <td>東京メトロ千代田線</td>\n",
       "      <td>千駄木駅</td>\n",
       "      <td>16.0</td>\n",
       "      <td>6.0</td>\n",
       "      <td>田端駅</td>\n",
       "      <td>6.0</td>\n",
       "    </tr>\n",
       "    <tr>\n",
       "      <th>1</th>\n",
       "      <td>R0000002</td>\n",
       "      <td>B0000002</td>\n",
       "      <td>7</td>\n",
       "      <td>1K</td>\n",
       "      <td>26.10</td>\n",
       "      <td>100000.0</td>\n",
       "      <td>8000</td>\n",
       "      <td>1.0</td>\n",
       "      <td>1.0</td>\n",
       "      <td>3831.417625</td>\n",
       "      <td>東京都</td>\n",
       "      <td>台東区</td>\n",
       "      <td>上野</td>\n",
       "      <td>6</td>\n",
       "      <td>14</td>\n",
       "      <td>0</td>\n",
       "      <td>ＪＲ山手線</td>\n",
       "      <td>秋葉原駅</td>\n",
       "      <td>8</td>\n",
       "      <td>ＪＲ山手線</td>\n",
       "      <td>御徒町駅</td>\n",
       "      <td>5.0</td>\n",
       "      <td>東京メトロ日比谷線</td>\n",
       "      <td>仲御徒町駅</td>\n",
       "      <td>2.0</td>\n",
       "      <td>2.0</td>\n",
       "      <td>御徒町駅</td>\n",
       "      <td>5.0</td>\n",
       "    </tr>\n",
       "  </tbody>\n",
       "</table>\n",
       "</div>"
      ],
      "text/plain": [
       "       物件ID      建物ID  物件階  間取り      面積         家賃   管理費   敷金   礼金  \\\n",
       "0  R0000001  B0000001    2  44K  552.58  2484000.0     0  0.0  1.0   \n",
       "1  R0000002  B0000002    7   1K   26.10   100000.0  8000  1.0  1.0   \n",
       "\n",
       "          平米単価  住所1  住所2 住所3  築年数  地上階  地下    沿線1   駅名1  駅徒歩1    沿線2    駅名2  \\\n",
       "0  4495.276702  東京都   北区  田端   32    6   1  ＪＲ山手線   田端駅     6  ＪＲ山手線  西日暮里駅   \n",
       "1  3831.417625  東京都  台東区  上野    6   14   0  ＪＲ山手線  秋葉原駅     8  ＪＲ山手線   御徒町駅   \n",
       "\n",
       "   駅徒歩2        沿線3    駅名3  駅徒歩3  駅徒歩最短  山手線駅  山手線駅徒歩  \n",
       "0  12.0  東京メトロ千代田線   千駄木駅  16.0    6.0   田端駅     6.0  \n",
       "1   5.0  東京メトロ日比谷線  仲御徒町駅   2.0    2.0  御徒町駅     5.0  "
      ]
     },
     "execution_count": 4,
     "metadata": {},
     "output_type": "execute_result"
    }
   ],
   "source": [
    "# chintai.csv読込\n",
    "chintai = pd.read_csv('chintai.csv')\n",
    "\n",
    "chintai.head(2)"
   ]
  },
  {
   "cell_type": "markdown",
   "metadata": {},
   "source": [
    "---\n",
    "#### 【Extra2】単回帰分析（面積だけで家賃を予測する）をやってみる\n",
    "---"
   ]
  },
  {
   "cell_type": "markdown",
   "metadata": {},
   "source": [
    "物件の条件から「家賃」を予測したいと考えました。今回は「面積」の1項目を使って予測を行います。  \n",
    "データから予測するというのは、手元にある過去のデータを学習したモデルを作成し、そのモデルを使って予測するということです。  \n",
    "\n",
    "今回はモデルの入門として王道の回帰分析を使って体験してみましょう。"
   ]
  },
  {
   "cell_type": "markdown",
   "metadata": {},
   "source": [
    "●回帰分析とは●  \n",
    "一般的には線形回帰が利用され、以下のような式で表されます。  \n",
    "\n",
    "$ y = b_0 + b_1x_1 + b_2x_2 + b_3x_3 + … + b_kx_k + \\epsilon $\n",
    "\n",
    "$ y $：目的変数   \n",
    "$ b_0 $：切片  \n",
    "$ b_1 ～ b_k $ ：係数（傾き）  \n",
    "$ x_1 ～ x_k $ ：説明変数  \n",
    "$ /epsilon $ ：誤差（モデルでは予測できなかった誤差）"
   ]
  },
  {
   "cell_type": "markdown",
   "metadata": {},
   "source": [
    "まずは単回帰分析で実施してみようと思います。  \n",
    "単回帰分析は、$ y = b_0 + b_1x + \\epsilon $で表されます。  \n",
    "\n",
    "今回は家賃を面積だけで予測するので   \n",
    "$家賃 = b * 面積 + 切片(面積0でも発生する金額)$ というモデルを作成します。"
   ]
  },
  {
   "cell_type": "markdown",
   "metadata": {},
   "source": [
    "##### _１）データの分割とモデルの作成_"
   ]
  },
  {
   "cell_type": "markdown",
   "metadata": {},
   "source": [
    "Pythonでモデルを実装する際、よく使用されるライブラリに`scikit-learn`（sklearn）があります。  \n",
    "複雑な数式が必要となるモデル実装もライブラリを使用することで手軽に実装することができます。  \n",
    "今回使用するscikit-learnの関数をインポートします。  "
   ]
  },
  {
   "cell_type": "code",
   "execution_count": null,
   "metadata": {},
   "outputs": [],
   "source": [
    "# 機械学習ライブラリscikit-learnの線形回帰をインポート\n",
    "from sklearn.linear_model import LinearRegression\n",
    "# 機械学習ライブラリscikit-learnの学習/検証データ分割をインポート\n",
    "from sklearn.model_selection import train_test_split"
   ]
  },
  {
   "cell_type": "markdown",
   "metadata": {},
   "source": [
    "まずモデル作成に必要となるデータを作成していきます。  \n",
    "今回のモデル作成には目的変数Y（予測したい項目）と説明変数X（予測したい項目を説明する項目）が必要となります。  \n",
    "\n",
    "ここでは家賃を面積で予測するモデルを作成するので、Yに家賃をXに面積を指定します。  "
   ]
  },
  {
   "cell_type": "code",
   "execution_count": null,
   "metadata": {},
   "outputs": [],
   "source": [
    "# 説明変数をNumpy配列で格納\n",
    "X = chintai[['面積']].values\n",
    "# 目的変数をNumpy配列で格納\n",
    "Y = chintai['家賃'].values"
   ]
  },
  {
   "cell_type": "markdown",
   "metadata": {},
   "source": [
    "モデルを作成する際に使用するデータは学習データと検証データに分けておきます。  \n",
    "全部のデータを使ってモデルを作ってしまうと、本当にそのモデルが未知のデータに対して正しく予測できるか証明できません。  \n",
    "モデルを作成するための学習データ(train)と、作成したモデルが正しく予測できてるか確認するための検証データ(test)に分割します。"
   ]
  },
  {
   "cell_type": "code",
   "execution_count": null,
   "metadata": {},
   "outputs": [],
   "source": [
    "# 学習データと検証データを7:3で分割\n",
    "X_train, X_test, Y_train, Y_test = train_test_split(X, Y, train_size=0.7, test_size=0.3, random_state=0)"
   ]
  },
  {
   "cell_type": "markdown",
   "metadata": {},
   "source": [
    "学習用データを使用して、モデルを作成します。  \n",
    "線形回帰のモデルのインスタンスを生成し、`fit(説明変数x, 目的変数y)`で学習を行います。"
   ]
  },
  {
   "cell_type": "code",
   "execution_count": null,
   "metadata": {},
   "outputs": [],
   "source": [
    "# 線形回帰のインスタンスを生成する\n",
    "clf = LinearRegression()\n",
    "\n",
    "# 学習データから学習してモデルを作る\n",
    "clf.fit(X_train, Y_train)"
   ]
  },
  {
   "cell_type": "code",
   "execution_count": null,
   "metadata": {},
   "outputs": [],
   "source": [
    "# 作成されたモデル式を確認する\n",
    "print('モデル関数の回帰係数 : %.3f' %clf.coef_)\n",
    "print('モデル関数の切片 : %.3f' %clf.intercept_)\n",
    "\n",
    "print('y= %.3fx + %.3f' % (clf.coef_ , clf.intercept_))"
   ]
  },
  {
   "cell_type": "markdown",
   "metadata": {},
   "source": [
    "学習を行うとインスタンス（作成されたモデル）に、様々情報が作られます。  \n",
    "上記では回帰式の係数である回帰係数（傾き）と切片を出力しています。  \n",
    "この値から `y = モデルの回帰係数 * x + モデルの切片` を導き出すことができます。"
   ]
  },
  {
   "cell_type": "markdown",
   "metadata": {},
   "source": [
    "##### _２）作成したモデルを検証データで予測して精度を確認する_"
   ]
  },
  {
   "cell_type": "markdown",
   "metadata": {},
   "source": [
    "作成したモデルを使って、検証データを予測してみましょう。  \n",
    "予測は`predict(説明変数x)`で行います。"
   ]
  },
  {
   "cell_type": "code",
   "execution_count": null,
   "metadata": {},
   "outputs": [],
   "source": [
    "# 検証データをモデルで予測する\n",
    "Y_pred = clf.predict(X_test)"
   ]
  },
  {
   "cell_type": "markdown",
   "metadata": {},
   "source": [
    "予測した結果（予測値）について、実際の値（実測値）と比べてみましょう。  \n",
    "今回は先頭4つの値を比べてみます。  "
   ]
  },
  {
   "cell_type": "code",
   "execution_count": null,
   "metadata": {},
   "outputs": [],
   "source": [
    "# 予測した値と実際の値を比べてみる\n",
    "print('予測値：', Y_pred[:4])\n",
    "print('実測値：', Y_test[:4])"
   ]
  },
  {
   "cell_type": "markdown",
   "metadata": {},
   "source": [
    "良い線をいっている予測値もあれば大幅に外している予測値もあります。  \n",
    "作成したモデルは果たして良いモデルなのでしょうか。  \n",
    "良いモデルかどうかの判断は様々な観点がありますが、回帰では決定係数（R二乗値）というものがあります。  \n",
    "決定係数は0～1の範囲の値で表現され、モデルがそのデータをどれほど説明できているかを表します。  \n",
    "（例えば決定係数0.6だとそのモデルはデータを60%表現できている）  \n",
    "\n",
    "決定係数の算出式は以下の通りです。  \n",
    "$$\n",
    "R^2 = \\frac{\\sum_{i=1}^{n}(\\hat{y}_i - \\bar{y})^2}{\\sum_{i=1}^{n}(y_i - \\bar{y})^2}\n",
    "$$"
   ]
  },
  {
   "cell_type": "markdown",
   "metadata": {},
   "source": [
    "決定係数についての詳細が気になる方向けに、解説と算出方法を以下コードと結果で纏めています。  \n",
    "下のコードでは y = 20x + 100 という回帰式（モデル）が作成されたと仮定しています。  \n",
    "xは説明変数、yは目的変数、y_predはxの値と回帰式を使って算出した予測値です。  \n",
    "  \n",
    "決定係数は以下の流れで算出されます。  \n",
    "1. xが変化しようとyが変わらないベースラインモデルを作ります。これはxがどのような値でもyの平均で予測するモデルです。\n",
    "2. 1.で仮定したベースラインモデルに対して、y（実測値）がどれほど差があるかを計算します。これをST（全変動）といいます。\n",
    "3. 1.で仮定したベースラインモデルに対して、y_pred（予測値）がどれほど差があるか計算します。これをSR（回帰変動）といいます。\n",
    "4. SRの和をSTの和で割ったものが決定係数となります。\n",
    "\n",
    "コードと上記流れを見比べながら、確認してみましょう。  "
   ]
  },
  {
   "cell_type": "code",
   "execution_count": null,
   "metadata": {},
   "outputs": [],
   "source": [
    "# 決定係数を理解する\n",
    "x = [1,2,3,4,5]\n",
    "y = [100, 130, 170, 195, 190]\n",
    "\n",
    "y_pred = [ 20 * i +100 for i in x]\n",
    "\n",
    "ymean = np.mean(y)\n",
    "\n",
    "print('y = 20x +100 というモデルが作成されたとする')\n",
    "print('説明変数:', x)\n",
    "print('予測値:', y_pred)\n",
    "print('実測値:', y)\n",
    "print('実測値平均:', ymean)\n",
    "\n",
    "# イメージ画像作成用コード\n",
    "plt.figure(figsize=(8,5))\n",
    "plt.scatter(x,y_pred,color='orange')\n",
    "plt.scatter(x,y,color='green')\n",
    "plt.axhline(ymean, ls=':', lw=1.5, c='red') \n",
    "plt.plot([x[3]-0.075,x[3]-0.075],[ymean,y[3]], c='green')\n",
    "plt.plot([x[3]+0.075,x[3]+0.075],[ymean,y_pred[3]], c='orange')\n",
    "plt.text(x[3]-0.9, ymean+(y[3]-ymean)/2, '全変動(ST)', fontsize=15, c='green')\n",
    "plt.text(x[3]+0.1, ymean+(y_pred[3]-ymean)/2, '回帰変動(SR)', fontsize=15, c='orange')\n",
    "plt.text(x[0], ymean - 5, 'ベースラインモデル（平均）', fontsize=12, c='red')\n",
    "plt.grid()\n",
    "plt.title('決定係数の計算について')\n",
    "plt.xlabel('x')\n",
    "plt.ylabel('y')\n",
    "plt.show()\n",
    "\n",
    "ST = y - ymean\n",
    "SR = y_pred - ymean\n",
    "print('全変動(ST)：', ST)\n",
    "print('回帰変動(SR)：', SR)\n",
    "\n",
    "R2 = np.sum(SR**2) / np.sum(ST**2)\n",
    "print('決定係数(R^2)：', R2)"
   ]
  },
  {
   "cell_type": "markdown",
   "metadata": {},
   "source": [
    "それでは実際に精度を確認してみましょう。  \n",
    "モデル作成に使った学習データと、モデル作成には使っていない検証データの２つを比較しながら確認します。  \n",
    "\n",
    "比較するのは「決定係数」の値と「家賃×面積の散布図と回帰直線」のグラフ、「実測値に対する予測誤差」のグラフです。  \n",
    "※ 本来はもっと確認する項目はありますが、今回は簡単に上記3つのみの比較とします。  \n",
    "\n",
    "学習データと検証データで決定係数が大幅に異なる場合は、  \n",
    "学習データに対してフィットしすぎていて他のデータを上手く予測できない過学習が起きている可能性があります。"
   ]
  },
  {
   "cell_type": "code",
   "execution_count": null,
   "metadata": {},
   "outputs": [],
   "source": [
    "# 描画用の関数を作成\n",
    "def plot_lm(x,y,model):\n",
    "    print('決定係数 R^2： ', model.score(x, y))\n",
    "    \n",
    "    fig, (axL, axR) = plt.subplots(ncols=2, figsize=(15,5))\n",
    "    axL.scatter(x, y, color = 'orange')\n",
    "    axL.plot(x, model.predict(x), linestyle=\"solid\", color = 'green')\n",
    "    axL.set_title('回帰直線')\n",
    "    axL.set_xlabel('面積')\n",
    "    axL.set_ylabel('家賃')\n",
    "    axL.grid()\n",
    "    \n",
    "    axR.scatter(y, model.predict(x)-y, color = 'skyblue')\n",
    "    axR.set_title('予測誤差')\n",
    "    axR.set_xlabel('実際の家賃')\n",
    "    axR.set_ylabel('予測値の誤差')\n",
    "    axR.grid()\n",
    "    \n",
    "    plt.show()"
   ]
  },
  {
   "cell_type": "code",
   "execution_count": null,
   "metadata": {},
   "outputs": [],
   "source": [
    "print('モデル関数の回帰係数 : %.3f' %clf.coef_)\n",
    "print('モデル関数の切片 : %.3f' %clf.intercept_)\n",
    "print('y= %.3fx + %.3f' % (clf.coef_ , clf.intercept_))\n",
    "print()\n",
    "\n",
    "print('==学習データ================================================================')\n",
    "plot_lm(X_train, Y_train, clf)\n",
    "\n",
    "print('==検証データ================================================================')\n",
    "plot_lm(X_test, Y_test, clf)\n"
   ]
  },
  {
   "cell_type": "markdown",
   "metadata": {},
   "source": [
    "学習データと検証データで決定係数に大きく差異がでていることはなさそうです。  \n",
    "また、予測誤差も同じような傾向になっており面積が広い物件ほど誤差が大きくなっていることがわかります。  \n",
    "\n",
    "まずはこのモデルで任意の値をいれて実際に予測をしてみましょう。  \n",
    "以下のコードのXの値を変更して、面積によってどのような家賃が予測されているのか確認してください。  "
   ]
  },
  {
   "cell_type": "code",
   "execution_count": null,
   "metadata": {},
   "outputs": [],
   "source": [
    "# 山手線沿線で20平米の物件に住んだら、家賃はいくら？\n",
    "X = [[20]]\n",
    "pred = clf.predict(X)\n",
    "print('面積が{0}平米の時の家賃は{1}円'.format(X[0][0], pred[0]))"
   ]
  },
  {
   "cell_type": "markdown",
   "metadata": {},
   "source": [
    "---\n",
    "#### 【Extra3】重回帰分析（たくさんの項目を使って家賃を予測）をやってみる\n",
    "---"
   ]
  },
  {
   "cell_type": "markdown",
   "metadata": {},
   "source": [
    "単回帰分析は説明変数が1つだけで、今回は家賃を予測するのに面積を使いました。  \n",
    "しかし様々な要因で価格が決まる家賃を面積だけで予測するのは現実的ではありません。  \n",
    "複数の説明変数を使って予測するときは重回帰分析を使用します。  "
   ]
  },
  {
   "cell_type": "markdown",
   "metadata": {},
   "source": [
    "どの説明変数を使うのかは、業務知識や把握したデータ傾向を考えながら選択することが一般的です。  \n",
    "もちろんモデルの種類や予測対象によってはすべてのデータを使用することもあります。  \n",
    "今回は予測に効きそうな変数以外は削除して、一部の説明変数のみを使用していきます。"
   ]
  },
  {
   "cell_type": "code",
   "execution_count": null,
   "metadata": {},
   "outputs": [],
   "source": [
    "# モデルに使わない項目を削除\n",
    "chintai_tmp = chintai.drop(columns=['建物ID', '物件ID', '管理費', '平米単価', '住所1', '住所2', '住所3', '沿線1',  \n",
    "                                    '駅名1', '駅徒歩1', '沿線2', '駅名2','駅徒歩2', '沿線3', '駅名3', '駅徒歩3'])\n",
    "\n",
    "chintai_tmp.head(2)"
   ]
  },
  {
   "cell_type": "markdown",
   "metadata": {},
   "source": [
    "残した項目のみ使用していきますが、ここで「間取り」と「山手線駅」に注意が必要です。  \n",
    "この2つの項目はカテゴリ（数値じゃない）となっています。  \n",
    "カテゴリ値はそのままだと計算することができないので、使用することができません。  \n",
    "カテゴリ値を使用する方法の1つにone-hot-encoding（ダミー変数化）というものがあります。  \n",
    "例えば「性別」という項目に「男性」と「女性」という値が入っていた場合、  \n",
    "one-hot-encodingでこのような値を列の項目として持ち、0/1のフラグとして保持することで、数値計算を可能とします。  \n",
    "\n",
    "実際に「間取り」と「山手線駅」をone-hot-encodingしてみましょう。  \n",
    "one-hot-encodingには`pandas.get_dummies`を使用します。"
   ]
  },
  {
   "cell_type": "code",
   "execution_count": null,
   "metadata": {},
   "outputs": [],
   "source": [
    "# カテゴリ値はそのままだと計算できないので0/1のフラグにする（ダミー変数化 or one-hotエンコーディング）\n",
    "chintai_tmp = pd.get_dummies(chintai_tmp, columns=['間取り', '山手線駅'])\n",
    "\n",
    "chintai_tmp.head(2)"
   ]
  },
  {
   "cell_type": "markdown",
   "metadata": {},
   "source": [
    "使用するデータの加工ができたので、ここからは先ほどと同様にデータ分割、モデル作成（学習）、検証データでの予測を行います。  "
   ]
  },
  {
   "cell_type": "code",
   "execution_count": null,
   "metadata": {},
   "outputs": [],
   "source": [
    "# 説明変数をNumpy配列で格納\n",
    "X2 = chintai_tmp.drop(columns=['家賃']).values\n",
    "# 目的変数をNumpy配列で格納\n",
    "Y2 = chintai_tmp['家賃'].values\n",
    "\n",
    "# 学習用データと検証用データを7:3で分割\n",
    "X_train2, X_test2, Y_train2, Y_test2 = train_test_split(X2, Y2, train_size = 0.7, test_size = 0.3, random_state = 0)"
   ]
  },
  {
   "cell_type": "code",
   "execution_count": null,
   "metadata": {},
   "outputs": [],
   "source": [
    "# 線形回帰のインスタンスを生成する\n",
    "clf2 = LinearRegression()\n",
    "\n",
    "# 学習データから学習してモデルを作る\n",
    "clf2.fit(X_train2, Y_train2)"
   ]
  },
  {
   "cell_type": "code",
   "execution_count": null,
   "metadata": {},
   "outputs": [],
   "source": [
    "# 検証データをモデルで予測する\n",
    "Y_pred2 = clf2.predict(X_test2)\n",
    "Y_pred2[:4]"
   ]
  },
  {
   "cell_type": "markdown",
   "metadata": {},
   "source": [
    "最後に今回作ったモデルについて、「回帰係数」や「決定係数」と「実測値に対する予測誤差」を確認しましょう。  \n",
    "また、説明変数を「面積」のみで作成したモデルと結果を比較してみましょう。"
   ]
  },
  {
   "cell_type": "code",
   "execution_count": null,
   "metadata": {},
   "outputs": [],
   "source": [
    "print('モデル関数の回帰係数：')\n",
    "tmp = [print(f'\\t{i}\\t\\t{j}') for i,j in zip(chintai_tmp.drop(columns=['家賃']).columns, clf2.coef_ )]\n",
    "print('モデル関数の切片 : %.3f' %clf2.intercept_)\n",
    "\n",
    "\n",
    "fig, (axL, axR) = plt.subplots(ncols=2, figsize=(15,5))\n",
    "axL.scatter(Y_train2, clf2.predict(X_train2)-Y_train2, color = 'skyblue')\n",
    "axL.set_title('学習データ：予測誤差')\n",
    "axL.set_xlabel('実際の家賃')\n",
    "axL.set_ylabel('予測値の誤差')\n",
    "axL.grid()\n",
    "\n",
    "axR.scatter(Y_test2, clf2.predict(X_test2)-Y_test2, color = 'skyblue')\n",
    "axR.set_title('検証データ：予測誤差')\n",
    "axR.set_xlabel('実際の家賃')\n",
    "axR.set_ylabel('予測値の誤差')\n",
    "axR.grid()\n",
    "plt.show()\n",
    "\n",
    "print('学習データ決定係数 R^2： ', clf2.score(X_train2, Y_train2))\n",
    "print('検証データ決定係数 R^2： ', clf2.score(X_test2, Y_test2))"
   ]
  },
  {
   "cell_type": "markdown",
   "metadata": {},
   "source": [
    "■■■■■■■■■■■■■■■■■■■■■■■■■■■■■■■■■■■■■■■■■■■■■■■■■■■■■■■■■■■■■■■■■■■■■■■■■■■■END）"
   ]
  },
  {
   "cell_type": "code",
   "execution_count": null,
   "metadata": {},
   "outputs": [],
   "source": []
  }
 ],
 "metadata": {
  "kernelspec": {
   "display_name": "Python 3",
   "language": "python",
   "name": "python3"
  },
  "language_info": {
   "codemirror_mode": {
    "name": "ipython",
    "version": 3
   },
   "file_extension": ".py",
   "mimetype": "text/x-python",
   "name": "python",
   "nbconvert_exporter": "python",
   "pygments_lexer": "ipython3",
   "version": "3.7.6"
  }
 },
 "nbformat": 4,
 "nbformat_minor": 4
}
