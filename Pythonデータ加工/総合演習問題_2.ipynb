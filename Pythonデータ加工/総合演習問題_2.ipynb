{
 "cells": [
  {
   "cell_type": "markdown",
   "metadata": {},
   "source": [
    "### 【総合演習２】賃貸物件情報を集計・可視化しよう"
   ]
  },
  {
   "cell_type": "markdown",
   "metadata": {},
   "source": [
    "総合演習１では物件のデータ「room.csv」とその物件の建物のデータ「build.csv」を加工して、「chintai.csv」ファイルを作成しました。  \n",
    "今回の総合演習２では、「chintai.csv」のデータを使って集計や可視化を行います。  \n",
    "  \n",
    "【総合演習の取り組み方】  \n",
    "* 最初に【Quiestion1】～【Question3】までを実施しましょう。\n",
    "* 上記問題については、上から順番に実施しましょう。\n",
    "* 総合演習はテキストを見ながら実施していただいてOKです。"
   ]
  },
  {
   "cell_type": "markdown",
   "metadata": {},
   "source": [
    "---\n",
    "#### 【Question1】ライブラリをインポートしよう\n",
    "---"
   ]
  },
  {
   "cell_type": "markdown",
   "metadata": {},
   "source": [
    "pandas、numpy、matplotlibのライブラリをインポートしてください。  \n",
    "matplotlibについては、pyplotをインポートし、jupyter notebook上に表示できるようにしましょう。  \n",
    "また、matplotlibでグラフ化する際に日本語が文字化けしないようにフォントを'Yu Mincho'に変更しましょう。"
   ]
  },
  {
   "cell_type": "code",
   "execution_count": 3,
   "metadata": {},
   "outputs": [],
   "source": [
    "# ライブラリインポート\n",
    "import pandas as pd\n",
    "import numpy as np\n",
    "import matplotlib.pyplot as plt\n",
    "%matplotlib inline"
   ]
  },
  {
   "cell_type": "code",
   "execution_count": 4,
   "metadata": {},
   "outputs": [],
   "source": [
    "# matplotlibの日本語文字化け対応\n",
    "\n",
    "import matplotlib # 日本語用フォント設定\n",
    "font = {'family':'Yu Mincho'}\n",
    "matplotlib.rc('font', **font)\n"
   ]
  },
  {
   "cell_type": "markdown",
   "metadata": {},
   "source": [
    "---\n",
    "#### 【Question2】ファイルを読み込もう\n",
    "---"
   ]
  },
  {
   "cell_type": "markdown",
   "metadata": {},
   "source": [
    "総合演習問題_1で作成した「chintai.csv」を読込み、chintaiという変数に格納してください。    \n",
    "読み込んだ変数の先頭5行を表示させて正しく読み込めているか確認しましょう。  "
   ]
  },
  {
   "cell_type": "code",
   "execution_count": 5,
   "metadata": {},
   "outputs": [
    {
     "data": {
      "text/html": [
       "<div>\n",
       "<style scoped>\n",
       "    .dataframe tbody tr th:only-of-type {\n",
       "        vertical-align: middle;\n",
       "    }\n",
       "\n",
       "    .dataframe tbody tr th {\n",
       "        vertical-align: top;\n",
       "    }\n",
       "\n",
       "    .dataframe thead th {\n",
       "        text-align: right;\n",
       "    }\n",
       "</style>\n",
       "<table border=\"1\" class=\"dataframe\">\n",
       "  <thead>\n",
       "    <tr style=\"text-align: right;\">\n",
       "      <th></th>\n",
       "      <th>物件ID</th>\n",
       "      <th>建物ID</th>\n",
       "      <th>物件階</th>\n",
       "      <th>間取り</th>\n",
       "      <th>面積</th>\n",
       "      <th>家賃</th>\n",
       "      <th>管理費</th>\n",
       "      <th>敷金</th>\n",
       "      <th>礼金</th>\n",
       "      <th>平米単価</th>\n",
       "      <th>...</th>\n",
       "      <th>駅徒歩1</th>\n",
       "      <th>沿線2</th>\n",
       "      <th>駅名2</th>\n",
       "      <th>駅徒歩2</th>\n",
       "      <th>沿線3</th>\n",
       "      <th>駅名3</th>\n",
       "      <th>駅徒歩3</th>\n",
       "      <th>駅徒歩最短</th>\n",
       "      <th>山手線駅</th>\n",
       "      <th>山手線駅徒歩</th>\n",
       "    </tr>\n",
       "  </thead>\n",
       "  <tbody>\n",
       "    <tr>\n",
       "      <th>0</th>\n",
       "      <td>R0000001</td>\n",
       "      <td>B0000001</td>\n",
       "      <td>2</td>\n",
       "      <td>44K</td>\n",
       "      <td>552.58</td>\n",
       "      <td>2484000.0</td>\n",
       "      <td>0</td>\n",
       "      <td>0.0</td>\n",
       "      <td>1.0</td>\n",
       "      <td>4495.276702</td>\n",
       "      <td>...</td>\n",
       "      <td>6</td>\n",
       "      <td>ＪＲ山手線</td>\n",
       "      <td>西日暮里駅</td>\n",
       "      <td>12.0</td>\n",
       "      <td>東京メトロ千代田線</td>\n",
       "      <td>千駄木駅</td>\n",
       "      <td>16.0</td>\n",
       "      <td>6.0</td>\n",
       "      <td>田端駅</td>\n",
       "      <td>6.0</td>\n",
       "    </tr>\n",
       "    <tr>\n",
       "      <th>1</th>\n",
       "      <td>R0000002</td>\n",
       "      <td>B0000002</td>\n",
       "      <td>7</td>\n",
       "      <td>1K</td>\n",
       "      <td>26.10</td>\n",
       "      <td>100000.0</td>\n",
       "      <td>8000</td>\n",
       "      <td>1.0</td>\n",
       "      <td>1.0</td>\n",
       "      <td>3831.417625</td>\n",
       "      <td>...</td>\n",
       "      <td>8</td>\n",
       "      <td>ＪＲ山手線</td>\n",
       "      <td>御徒町駅</td>\n",
       "      <td>5.0</td>\n",
       "      <td>東京メトロ日比谷線</td>\n",
       "      <td>仲御徒町駅</td>\n",
       "      <td>2.0</td>\n",
       "      <td>2.0</td>\n",
       "      <td>御徒町駅</td>\n",
       "      <td>5.0</td>\n",
       "    </tr>\n",
       "    <tr>\n",
       "      <th>2</th>\n",
       "      <td>R0000003</td>\n",
       "      <td>B0000002</td>\n",
       "      <td>8</td>\n",
       "      <td>1K</td>\n",
       "      <td>26.10</td>\n",
       "      <td>99500.0</td>\n",
       "      <td>8000</td>\n",
       "      <td>1.0</td>\n",
       "      <td>1.0</td>\n",
       "      <td>3812.260536</td>\n",
       "      <td>...</td>\n",
       "      <td>8</td>\n",
       "      <td>ＪＲ山手線</td>\n",
       "      <td>御徒町駅</td>\n",
       "      <td>5.0</td>\n",
       "      <td>東京メトロ日比谷線</td>\n",
       "      <td>仲御徒町駅</td>\n",
       "      <td>2.0</td>\n",
       "      <td>2.0</td>\n",
       "      <td>御徒町駅</td>\n",
       "      <td>5.0</td>\n",
       "    </tr>\n",
       "    <tr>\n",
       "      <th>3</th>\n",
       "      <td>R0000004</td>\n",
       "      <td>B0000003</td>\n",
       "      <td>1</td>\n",
       "      <td>1LDK</td>\n",
       "      <td>40.12</td>\n",
       "      <td>118000.0</td>\n",
       "      <td>5800</td>\n",
       "      <td>0.0</td>\n",
       "      <td>2.0</td>\n",
       "      <td>2941.176471</td>\n",
       "      <td>...</td>\n",
       "      <td>9</td>\n",
       "      <td>ＪＲ山手線</td>\n",
       "      <td>田端駅</td>\n",
       "      <td>10.0</td>\n",
       "      <td>ＪＲ山手線</td>\n",
       "      <td>西日暮里駅</td>\n",
       "      <td>14.0</td>\n",
       "      <td>9.0</td>\n",
       "      <td>駒込駅</td>\n",
       "      <td>9.0</td>\n",
       "    </tr>\n",
       "    <tr>\n",
       "      <th>4</th>\n",
       "      <td>R0000005</td>\n",
       "      <td>B0000004</td>\n",
       "      <td>3</td>\n",
       "      <td>3LDK</td>\n",
       "      <td>89.67</td>\n",
       "      <td>235000.0</td>\n",
       "      <td>0</td>\n",
       "      <td>2.0</td>\n",
       "      <td>0.0</td>\n",
       "      <td>2620.720419</td>\n",
       "      <td>...</td>\n",
       "      <td>3</td>\n",
       "      <td>ＪＲ山手線</td>\n",
       "      <td>西日暮里駅</td>\n",
       "      <td>6.0</td>\n",
       "      <td>ＪＲ山手線</td>\n",
       "      <td>日暮里駅</td>\n",
       "      <td>17.0</td>\n",
       "      <td>3.0</td>\n",
       "      <td>田端駅</td>\n",
       "      <td>3.0</td>\n",
       "    </tr>\n",
       "  </tbody>\n",
       "</table>\n",
       "<p>5 rows × 28 columns</p>\n",
       "</div>"
      ],
      "text/plain": [
       "       物件ID      建物ID  物件階   間取り      面積         家賃   管理費   敷金   礼金  \\\n",
       "0  R0000001  B0000001    2   44K  552.58  2484000.0     0  0.0  1.0   \n",
       "1  R0000002  B0000002    7    1K   26.10   100000.0  8000  1.0  1.0   \n",
       "2  R0000003  B0000002    8    1K   26.10    99500.0  8000  1.0  1.0   \n",
       "3  R0000004  B0000003    1  1LDK   40.12   118000.0  5800  0.0  2.0   \n",
       "4  R0000005  B0000004    3  3LDK   89.67   235000.0     0  2.0  0.0   \n",
       "\n",
       "          平米単価  ... 駅徒歩1    沿線2    駅名2  駅徒歩2        沿線3    駅名3  駅徒歩3 駅徒歩最短  \\\n",
       "0  4495.276702  ...    6  ＪＲ山手線  西日暮里駅  12.0  東京メトロ千代田線   千駄木駅  16.0   6.0   \n",
       "1  3831.417625  ...    8  ＪＲ山手線   御徒町駅   5.0  東京メトロ日比谷線  仲御徒町駅   2.0   2.0   \n",
       "2  3812.260536  ...    8  ＪＲ山手線   御徒町駅   5.0  東京メトロ日比谷線  仲御徒町駅   2.0   2.0   \n",
       "3  2941.176471  ...    9  ＪＲ山手線    田端駅  10.0      ＪＲ山手線  西日暮里駅  14.0   9.0   \n",
       "4  2620.720419  ...    3  ＪＲ山手線  西日暮里駅   6.0      ＪＲ山手線   日暮里駅  17.0   3.0   \n",
       "\n",
       "   山手線駅 山手線駅徒歩  \n",
       "0   田端駅    6.0  \n",
       "1  御徒町駅    5.0  \n",
       "2  御徒町駅    5.0  \n",
       "3   駒込駅    9.0  \n",
       "4   田端駅    3.0  \n",
       "\n",
       "[5 rows x 28 columns]"
      ]
     },
     "execution_count": 5,
     "metadata": {},
     "output_type": "execute_result"
    }
   ],
   "source": [
    "# chintai.csvの読み込みと先頭5行の表示\n",
    "\n",
    "chintai = pd.read_csv('chintai.csv')\n",
    "chintai.head()\n"
   ]
  },
  {
   "cell_type": "markdown",
   "metadata": {},
   "source": [
    "---\n",
    "#### 【Question3】データを集計／可視化してみよう\n",
    "---"
   ]
  },
  {
   "cell_type": "markdown",
   "metadata": {},
   "source": [
    "##### __１）家賃の分布を確認しよう＜可視化＞__\n",
    "実際のところ山手線沿線の物件はどのような家賃分布になっているでしょう。  \n",
    "ヒストグラムを使って描画してみましょう。\n",
    "    \n",
    "chintaiの「家賃」についてヒストグラムを描画。  \n",
    "* ビンの数を変えてヒストグラムの印象が変化するか確認しましょう。  \n",
    "* タイトルは'家賃分布'としてください。  \n",
    "* X軸には'家賃'、Y軸には'物件数'のラベルを付与してください。  "
   ]
  },
  {
   "cell_type": "markdown",
   "metadata": {},
   "source": [
    "##### __【＋α】グラフのサイズを変更する__\n",
    "グラフを描画するときにもう少し大きくしたい、横幅を広げたい等と思うことがあります。  \n",
    "グラフの大きさや縦横サイズを変更することができます。    \n",
    "\n",
    "`plt.figure(figsize=(横インチ, 縦インチ))` # 描画するグラフサイズを変更  "
   ]
  },
  {
   "cell_type": "code",
   "execution_count": 6,
   "metadata": {},
   "outputs": [
    {
     "name": "stderr",
     "output_type": "stream",
     "text": [
      "C:\\Users\\u072265\\Anaconda3\\lib\\site-packages\\numpy\\lib\\histograms.py:839: RuntimeWarning: invalid value encountered in greater_equal\n",
      "  keep = (tmp_a >= first_edge)\n",
      "C:\\Users\\u072265\\Anaconda3\\lib\\site-packages\\numpy\\lib\\histograms.py:840: RuntimeWarning: invalid value encountered in less_equal\n",
      "  keep &= (tmp_a <= last_edge)\n"
     ]
    },
    {
     "data": {
      "image/png": "[encoded data removed]",
      "text/plain": [
       "<Figure size 720x360 with 1 Axes>"
      ]
     },
     "metadata": {
      "needs_background": "light"
     },
     "output_type": "display_data"
    }
   ],
   "source": [
    "# chintaiの「家賃」についてヒストグラムを描画\n",
    "\n",
    "plt.figure(figsize=(10, 5))# 描画するグラフサイズを変更 \n",
    "\n",
    "plt.hist(chintai['家賃'], bins=100)\n",
    "plt.title('家賃分布')\n",
    "plt.xlabel('家賃')\n",
    "plt.ylabel('物件数')\n",
    "plt.show()\n"
   ]
  },
  {
   "cell_type": "markdown",
   "metadata": {},
   "source": [
    "##### __２）家賃の分布を確認しよう＜数値化＞__\n",
    "家賃についてヒストグラムで確認しましたが、数値でも確認してみましょう。  \n",
    "    \n",
    "chintaiの「家賃」について要約統計量を算出。  "
   ]
  },
  {
   "cell_type": "markdown",
   "metadata": {},
   "source": [
    "##### __【＋α】指数表示をやめたい場合__\n",
    "桁が大きい場合等は指数表示になってしまうことがあります。    \n",
    "実際は指数表示で確認することが多いのですが、見づらいと思う方もいると思います。  \n",
    "表示形式を変更させることで指数表示にしない方法があります。  \n",
    "※必要に応じて（指数表示が見づらい等あれば）使用してください。\n",
    "\n",
    "`pd.options.display.float_format = '{:.1f}'.format` # 小数点1桁での表示  "
   ]
  },
  {
   "cell_type": "code",
   "execution_count": 7,
   "metadata": {},
   "outputs": [
    {
     "name": "stdout",
     "output_type": "stream",
     "text": [
      "count    2.380200e+04\n",
      "mean     1.343641e+05\n",
      "std      1.038035e+05\n",
      "min      2.000000e+04\n",
      "25%      8.200000e+04\n",
      "50%      1.070000e+05\n",
      "75%      1.500000e+05\n",
      "max      2.650000e+06\n",
      "Name: 家賃, dtype: float64\n"
     ]
    }
   ],
   "source": [
    "# 家賃の要約統計量を出力する\n",
    "print(chintai['家賃'].describe())\n",
    "#chintai.describe(include = 'all')\n"
   ]
  },
  {
   "cell_type": "markdown",
   "metadata": {},
   "source": [
    "##### __３）駅によって家賃は異なるのか確認してみよう＜数値化＞__\n",
    "駅によって家賃の傾向が異なるのかは気になるところです。  \n",
    "    \n",
    "* chintaiの「家賃」について「山手線駅」毎に平均・最小値・最大値を算出し、平均の降順で並べてください。  "
   ]
  },
  {
   "cell_type": "code",
   "execution_count": 8,
   "metadata": {},
   "outputs": [
    {
     "ename": "SyntaxError",
     "evalue": "unexpected EOF while parsing (<ipython-input-8-39fd85efff01>, line 3)",
     "output_type": "error",
     "traceback": [
      "\u001b[1;36m  File \u001b[1;32m\"<ipython-input-8-39fd85efff01>\"\u001b[1;36m, line \u001b[1;32m3\u001b[0m\n\u001b[1;33m    chintai.groupby(by='山手線駅')['家賃'].value_counts(\u001b[0m\n\u001b[1;37m                                                  ^\u001b[0m\n\u001b[1;31mSyntaxError\u001b[0m\u001b[1;31m:\u001b[0m unexpected EOF while parsing\n"
     ]
    }
   ],
   "source": [
    "# chintaiの「家賃」について「山手線駅」毎に確認\n",
    "\n",
    "chintai.groupby(by='山手線駅')['家賃'].value_counts("
   ]
  },
  {
   "cell_type": "markdown",
   "metadata": {},
   "source": [
    "##### __４）駅によって家賃は異なるのか確認してみよう＜可視化＞__\n",
    "先ほど駅別に「家賃」の傾向を数値で確認しました。これを層別箱ひげ図で確認してみましょう。  \n",
    "    \n",
    "層別の箱ひげ図はseabornというmatplotlibのラッパーとして動作するライブラリを使って描画します。  \n",
    "グラフの描画は様々な方法で行うことができます。  \n",
    "    \n",
    "* 以下を実行してください。"
   ]
  },
  {
   "cell_type": "code",
   "execution_count": 23,
   "metadata": {},
   "outputs": [
    {
     "ename": "KeyError",
     "evalue": "'山手線駅'",
     "output_type": "error",
     "traceback": [
      "\u001b[1;31m---------------------------------------------------------------------------\u001b[0m",
      "\u001b[1;31mKeyError\u001b[0m                                  Traceback (most recent call last)",
      "\u001b[1;32m<ipython-input-23-b608629bb18d>\u001b[0m in \u001b[0;36m<module>\u001b[1;34m\u001b[0m\n\u001b[0;32m      2\u001b[0m \u001b[1;32mfrom\u001b[0m \u001b[0mmatplotlib\u001b[0m \u001b[1;32mimport\u001b[0m \u001b[0mpyplot\u001b[0m \u001b[1;32mas\u001b[0m \u001b[0mplt\u001b[0m\u001b[1;33m\u001b[0m\u001b[1;33m\u001b[0m\u001b[0m\n\u001b[0;32m      3\u001b[0m \u001b[1;33m\u001b[0m\u001b[0m\n\u001b[1;32m----> 4\u001b[1;33m \u001b[0mchintai_gby_sby\u001b[0m \u001b[1;33m=\u001b[0m \u001b[0mchintai\u001b[0m\u001b[1;33m.\u001b[0m\u001b[0mgroupby\u001b[0m\u001b[1;33m(\u001b[0m\u001b[1;33m[\u001b[0m\u001b[1;34m'山手線駅'\u001b[0m\u001b[1;33m]\u001b[0m\u001b[1;33m,\u001b[0m \u001b[0mas_index\u001b[0m\u001b[1;33m=\u001b[0m\u001b[1;32mFalse\u001b[0m\u001b[1;33m)\u001b[0m\u001b[1;33m[\u001b[0m\u001b[1;34m'家賃'\u001b[0m\u001b[1;33m]\u001b[0m\u001b[1;33m.\u001b[0m\u001b[0mmean\u001b[0m\u001b[1;33m(\u001b[0m\u001b[1;33m)\u001b[0m\u001b[1;33m.\u001b[0m\u001b[0msort_values\u001b[0m\u001b[1;33m(\u001b[0m\u001b[1;34m'家賃'\u001b[0m\u001b[1;33m,\u001b[0m \u001b[0mascending\u001b[0m\u001b[1;33m=\u001b[0m\u001b[1;32mFalse\u001b[0m\u001b[1;33m)\u001b[0m\u001b[1;33m\u001b[0m\u001b[1;33m\u001b[0m\u001b[0m\n\u001b[0m\u001b[0;32m      5\u001b[0m \u001b[0mchintai_label\u001b[0m \u001b[1;33m=\u001b[0m \u001b[0mchintai_gby_sby\u001b[0m\u001b[1;33m[\u001b[0m\u001b[1;34m'山手線駅'\u001b[0m\u001b[1;33m]\u001b[0m\u001b[1;33m\u001b[0m\u001b[1;33m\u001b[0m\u001b[0m\n\u001b[0;32m      6\u001b[0m \u001b[0mchintai_labellist\u001b[0m \u001b[1;33m=\u001b[0m \u001b[0mchintai_label\u001b[0m\u001b[1;33m.\u001b[0m\u001b[0mtolist\u001b[0m\u001b[1;33m(\u001b[0m\u001b[1;33m)\u001b[0m\u001b[1;33m\u001b[0m\u001b[1;33m\u001b[0m\u001b[0m\n",
      "\u001b[1;32m~\\Anaconda3\\lib\\site-packages\\pandas\\core\\frame.py\u001b[0m in \u001b[0;36mgroupby\u001b[1;34m(self, by, axis, level, as_index, sort, group_keys, squeeze, observed)\u001b[0m\n\u001b[0;32m   5808\u001b[0m             \u001b[0mgroup_keys\u001b[0m\u001b[1;33m=\u001b[0m\u001b[0mgroup_keys\u001b[0m\u001b[1;33m,\u001b[0m\u001b[1;33m\u001b[0m\u001b[1;33m\u001b[0m\u001b[0m\n\u001b[0;32m   5809\u001b[0m             \u001b[0msqueeze\u001b[0m\u001b[1;33m=\u001b[0m\u001b[0msqueeze\u001b[0m\u001b[1;33m,\u001b[0m\u001b[1;33m\u001b[0m\u001b[1;33m\u001b[0m\u001b[0m\n\u001b[1;32m-> 5810\u001b[1;33m             \u001b[0mobserved\u001b[0m\u001b[1;33m=\u001b[0m\u001b[0mobserved\u001b[0m\u001b[1;33m,\u001b[0m\u001b[1;33m\u001b[0m\u001b[1;33m\u001b[0m\u001b[0m\n\u001b[0m\u001b[0;32m   5811\u001b[0m         )\n\u001b[0;32m   5812\u001b[0m \u001b[1;33m\u001b[0m\u001b[0m\n",
      "\u001b[1;32m~\\Anaconda3\\lib\\site-packages\\pandas\\core\\groupby\\groupby.py\u001b[0m in \u001b[0;36m__init__\u001b[1;34m(self, obj, keys, axis, level, grouper, exclusions, selection, as_index, sort, group_keys, squeeze, observed, mutated)\u001b[0m\n\u001b[0;32m    407\u001b[0m                 \u001b[0msort\u001b[0m\u001b[1;33m=\u001b[0m\u001b[0msort\u001b[0m\u001b[1;33m,\u001b[0m\u001b[1;33m\u001b[0m\u001b[1;33m\u001b[0m\u001b[0m\n\u001b[0;32m    408\u001b[0m                 \u001b[0mobserved\u001b[0m\u001b[1;33m=\u001b[0m\u001b[0mobserved\u001b[0m\u001b[1;33m,\u001b[0m\u001b[1;33m\u001b[0m\u001b[1;33m\u001b[0m\u001b[0m\n\u001b[1;32m--> 409\u001b[1;33m                 \u001b[0mmutated\u001b[0m\u001b[1;33m=\u001b[0m\u001b[0mself\u001b[0m\u001b[1;33m.\u001b[0m\u001b[0mmutated\u001b[0m\u001b[1;33m,\u001b[0m\u001b[1;33m\u001b[0m\u001b[1;33m\u001b[0m\u001b[0m\n\u001b[0m\u001b[0;32m    410\u001b[0m             )\n\u001b[0;32m    411\u001b[0m \u001b[1;33m\u001b[0m\u001b[0m\n",
      "\u001b[1;32m~\\Anaconda3\\lib\\site-packages\\pandas\\core\\groupby\\grouper.py\u001b[0m in \u001b[0;36mget_grouper\u001b[1;34m(obj, key, axis, level, sort, observed, mutated, validate)\u001b[0m\n\u001b[0;32m    596\u001b[0m                 \u001b[0min_axis\u001b[0m\u001b[1;33m,\u001b[0m \u001b[0mname\u001b[0m\u001b[1;33m,\u001b[0m \u001b[0mlevel\u001b[0m\u001b[1;33m,\u001b[0m \u001b[0mgpr\u001b[0m \u001b[1;33m=\u001b[0m \u001b[1;32mFalse\u001b[0m\u001b[1;33m,\u001b[0m \u001b[1;32mNone\u001b[0m\u001b[1;33m,\u001b[0m \u001b[0mgpr\u001b[0m\u001b[1;33m,\u001b[0m \u001b[1;32mNone\u001b[0m\u001b[1;33m\u001b[0m\u001b[1;33m\u001b[0m\u001b[0m\n\u001b[0;32m    597\u001b[0m             \u001b[1;32melse\u001b[0m\u001b[1;33m:\u001b[0m\u001b[1;33m\u001b[0m\u001b[1;33m\u001b[0m\u001b[0m\n\u001b[1;32m--> 598\u001b[1;33m                 \u001b[1;32mraise\u001b[0m \u001b[0mKeyError\u001b[0m\u001b[1;33m(\u001b[0m\u001b[0mgpr\u001b[0m\u001b[1;33m)\u001b[0m\u001b[1;33m\u001b[0m\u001b[1;33m\u001b[0m\u001b[0m\n\u001b[0m\u001b[0;32m    599\u001b[0m         \u001b[1;32melif\u001b[0m \u001b[0misinstance\u001b[0m\u001b[1;33m(\u001b[0m\u001b[0mgpr\u001b[0m\u001b[1;33m,\u001b[0m \u001b[0mGrouper\u001b[0m\u001b[1;33m)\u001b[0m \u001b[1;32mand\u001b[0m \u001b[0mgpr\u001b[0m\u001b[1;33m.\u001b[0m\u001b[0mkey\u001b[0m \u001b[1;32mis\u001b[0m \u001b[1;32mnot\u001b[0m \u001b[1;32mNone\u001b[0m\u001b[1;33m:\u001b[0m\u001b[1;33m\u001b[0m\u001b[1;33m\u001b[0m\u001b[0m\n\u001b[0;32m    600\u001b[0m             \u001b[1;31m# Add key to exclusions\u001b[0m\u001b[1;33m\u001b[0m\u001b[1;33m\u001b[0m\u001b[1;33m\u001b[0m\u001b[0m\n",
      "\u001b[1;31mKeyError\u001b[0m: '山手線駅'"
     ]
    }
   ],
   "source": [
    "import seaborn as sns\n",
    "from matplotlib import pyplot as plt\n",
    "\n",
    "chintai_gby_sby = chintai.groupby(['山手線駅'], as_index=False)['家賃'].mean().sort_values('家賃', ascending=False)\n",
    "chintai_label = chintai_gby_sby['山手線駅']\n",
    "chintai_labellist = chintai_label.tolist()\n",
    "\n",
    "plt.figure(figsize=(15, 8))\n",
    "sns.boxplot(x='家賃', y='山手線駅', orient='h', data=chintai, palette='rainbow', order=chintai_labellist)\n",
    "plt.title('駅別家賃分布')\n",
    "plt.show()"
   ]
  },
  {
   "cell_type": "markdown",
   "metadata": {},
   "source": [
    "【ここに気づきを書いてみましょう】  \n",
    "* XXXXXX\n",
    "* XXXXXX"
   ]
  },
  {
   "cell_type": "markdown",
   "metadata": {},
   "source": [
    "##### __５）駅ごとの物件数を確認する＜グラフ化＞__\n",
    "駅ごとに家賃分布を確認しました。  \n",
    "しかし、そもそもの駅における物件数はどうだったでしょう。  \n",
    "    \n",
    "* chintaiの駅ごとの物件数を集計し、降順（物件数が多い順）で棒グラフを描画してください。  \n",
    "* タイトルとx軸、y軸のラベルを適切に表示してください。\n",
    "* 見やすいようにグラフを調整してください。"
   ]
  },
  {
   "cell_type": "markdown",
   "metadata": {},
   "source": [
    "##### __【＋α】groupbyした項目の値__\n",
    "グループ別に集計をする場合はgroupbyを使用しますが、指定した項目はインデックスとして使用されます。    \n",
    "インデックスとなった値を抽出する際は、`index()`を使用します。  \n",
    "\n",
    "`index()` # インデックス名の表示"
   ]
  },
  {
   "cell_type": "markdown",
   "metadata": {},
   "source": [
    "##### __【＋α】棒グラフの描画__\n",
    "棒グラフを描画する際は、集計された度数分布表がインプットになります。  \n",
    "インプットの順番に表示されるため、どの順番で表示するかは事前に加工しておきます。  \n",
    "\n",
    "`plt.bar(棒を作る単位の項目名, 度数集計された値)`  # 縦棒グラフ  \n",
    "`plt.barh(棒を作る単位の項目名, 度数集計された値)` # 横棒グラフ"
   ]
  },
  {
   "cell_type": "code",
   "execution_count": null,
   "metadata": {},
   "outputs": [],
   "source": [
    "# 駅ごとのデータ数をカウントし、件数降順にソートした結果を、新しい変数(名前任意)に格納\n",
    "\n",
    "\n",
    "# 新しく作成した変数を使って棒グラフを描画する\n",
    "\n",
    "\n",
    "\n",
    "\n"
   ]
  },
  {
   "cell_type": "markdown",
   "metadata": {},
   "source": [
    "##### __６）家賃と面積は関係あるのか確認しよう＜グラフ化＞__\n",
    "家賃に影響を及ぼすのはなんでしょうか。  \n",
    "今回は面積が広いほど家賃が高くなるのかという相関関係を可視化で確認しましょう。  \n",
    "    \n",
    "* chintaiの家賃と面積について散布図を描画してください。\n",
    "* タイトルとx軸、y軸のラベルを適切に表示してください。\n",
    "* 見やすいようにグラフを調整してください。"
   ]
  },
  {
   "cell_type": "code",
   "execution_count": null,
   "metadata": {},
   "outputs": [],
   "source": [
    "# 賃貸と面積の散布図\n",
    "\n",
    "\n",
    "\n",
    "\n"
   ]
  },
  {
   "cell_type": "markdown",
   "metadata": {},
   "source": [
    "##### __EXTRA）他にも疑問に思ったことについて、データを集計・可視化して検証しましょう__\n",
    "1つの項目の分布を確認することや、2つの項目の関連性を確認することは、データ分析において重要なタスクです。  \n",
    "またデータをより上手く表現できるように加工を行う大事なインプットにもなります。  \n",
    "自分で思いついた仮説を元に、集計・可視化を実施してください。\n",
    "\n",
    "例えば  \n",
    "1Rだけに絞ったら駅別の家賃分布はどう変わるのだろう。  \n",
    "徒歩の時間と家賃の関係は関連があるのか。\n",
    "可視化ででてきたあの外れ値はどんな物件なのか。  \n",
    "    "
   ]
  },
  {
   "cell_type": "markdown",
   "metadata": {},
   "source": [
    "##### __EXTRA）集計・可視化で気づいたことをデータ加工に反映させよう__\n",
    "総合演習１でも記載した通り、集計や可視化を行うことで、追加の気づきを加工に反映させることもあります。  \n",
    "例えば  \n",
    "特殊すぎるデータがあるから外れ値として除外しよう。  \n",
    "リビングがあるのは大きく家賃に影響するのが確認出来たら、間取りにリビングがあればリビングフラグを作ろう。  \n",
    "  \n",
    "総合演習２を実施して得た知見やアイディアを元に、総合演習１のプログラムに追加のデータ加工を実施してみましょう。"
   ]
  },
  {
   "cell_type": "markdown",
   "metadata": {},
   "source": [
    "■■■■■■■■■■■■■■■■■■■■■■■■■■■■■■■■■■■■■■■■■■■■■■■■■■■■■■■■■■■■■■■■■■■■■■■■■■■■END）"
   ]
  },
  {
   "cell_type": "code",
   "execution_count": null,
   "metadata": {},
   "outputs": [],
   "source": []
  }
 ],
 "metadata": {
  "kernelspec": {
   "display_name": "Python 3",
   "language": "python",
   "name": "python3"
  },
  "language_info": {
   "codemirror_mode": {
    "name": "ipython",
    "version": 3
   },
   "file_extension": ".py",
   "mimetype": "text/x-python",
   "name": "python",
   "nbconvert_exporter": "python",
   "pygments_lexer": "ipython3",
   "version": "3.7.6"
  }
 },
 "nbformat": 4,
 "nbformat_minor": 4
}
